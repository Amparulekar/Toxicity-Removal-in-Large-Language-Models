{
 "cells": [
  {
   "cell_type": "code",
   "execution_count": 1,
   "id": "543bfa46",
   "metadata": {},
   "outputs": [],
   "source": [
    "# importing the required libraries\n",
    "import math\n",
    "import numpy as np\n",
    "import random\n",
    "import torch\n",
    "import matplotlib.pyplot as plt\n",
    "import os"
   ]
  },
  {
   "cell_type": "code",
   "execution_count": 11,
   "id": "973d5036",
   "metadata": {},
   "outputs": [],
   "source": [
    "# importing the 'Value' type\n",
    "from utils import Value"
   ]
  },
  {
   "cell_type": "code",
   "execution_count": 12,
   "id": "1614af77",
   "metadata": {},
   "outputs": [
    {
     "name": "stdout",
     "output_type": "stream",
     "text": [
      "Value(data=14) Value(data=7.0) 0 0 0 0 0 0\n",
      "Value(data=14) Value(data=7.0) 1.0 0.5 2.0 1.5 0.5 1\n"
     ]
    }
   ],
   "source": [
    "# Example computation\n",
    "a = Value(1)\n",
    "b = Value(2)\n",
    "c = Value(3)\n",
    "d = Value(4)\n",
    "\n",
    "e = a*b + c*d\n",
    "f = e/2.\n",
    "\n",
    "# checking final values and initial grads (should be zero)\n",
    "print(e, f, a.grad, b.grad, c.grad, d.grad, e.grad, f.grad)\n",
    "\n",
    "# backprop\n",
    "f.backward()\n",
    "\n",
    "# checking final grads\n",
    "print(e, f, a.grad, b.grad, c.grad, d.grad, e.grad, f.grad)"
   ]
  },
  {
   "cell_type": "code",
   "execution_count": 19,
   "id": "f4b436b4",
   "metadata": {},
   "outputs": [],
   "source": [
    "# showing the training of a simple NN, with some data\n",
    "# input dim=3, output dim=1, atchitecture : NN with 4 layers : 3,4,4,1 neurons resp\n",
    "from utils import MLP\n",
    "\n",
    "# testing the MLP \n",
    "xs = [\n",
    "    [2,3,-1],\n",
    "    [3,-1,0.5],\n",
    "    [0.5,1,1],\n",
    "    [1,1,-1]\n",
    "]\n",
    "ys = [1,-1,-1,1] # labels\n",
    "losslog = []\n",
    "a = MLP(3, [4,4,1])\n",
    "for step in range(200) : # 200 epochs\n",
    "    # forward pass\n",
    "    ypred = [a(x)[0] for x in xs]\n",
    "    loss = sum((ypred-ytrue)**2 for ytrue, ypred in zip(ys, ypred)) # MSE\n",
    "    losslog.append(loss.data)\n",
    "    \n",
    "    a.zero_grad() # taken from Module class\n",
    "    loss.backward()\n",
    "    \n",
    "    # update \n",
    "    for w in a.parameters() :\n",
    "        w.data -= 0.005 * w.grad # standard SGD for now"
   ]
  },
  {
   "cell_type": "code",
   "execution_count": 20,
   "id": "68c57004",
   "metadata": {},
   "outputs": [
    {
     "data": {
      "text/plain": [
       "[<matplotlib.lines.Line2D at 0x2751ea34460>]"
      ]
     },
     "execution_count": 20,
     "metadata": {},
     "output_type": "execute_result"
    },
    {
     "data": {
      "image/png": "[encoded data removed]",
      "text/plain": [
       "<Figure size 432x288 with 1 Axes>"
      ]
     },
     "metadata": {
      "needs_background": "light"
     },
     "output_type": "display_data"
    }
   ],
   "source": [
    "plt.plot(losslog)"
   ]
  },
  {
   "cell_type": "code",
   "execution_count": 22,
   "id": "7caa21cf",
   "metadata": {},
   "outputs": [
    {
     "data": {
      "text/plain": [
       "[Value(data=0.9172045515436469),\n",
       " Value(data=-0.9572149684994002),\n",
       " Value(data=-0.8865359727666604),\n",
       " Value(data=0.9453335575994396)]"
      ]
     },
     "execution_count": 22,
     "metadata": {},
     "output_type": "execute_result"
    }
   ],
   "source": [
    "# checking performance on the four data points\n",
    "# should be close to ys=[1,-1,-1,1]\n",
    "[a(x)[0] for x in xs]"
   ]
  },
  {
   "cell_type": "code",
   "execution_count": null,
   "id": "32b2c2c3",
   "metadata": {},
   "outputs": [],
   "source": []
  }
 ],
 "metadata": {
  "kernelspec": {
   "display_name": "Python 3",
   "language": "python",
   "name": "python3"
  },
  "language_info": {
   "codemirror_mode": {
    "name": "ipython",
    "version": 3
   },
   "file_extension": ".py",
   "mimetype": "text/x-python",
   "name": "python",
   "nbconvert_exporter": "python",
   "pygments_lexer": "ipython3",
   "version": "3.8.8"
  }
 },
 "nbformat": 4,
 "nbformat_minor": 5
}
