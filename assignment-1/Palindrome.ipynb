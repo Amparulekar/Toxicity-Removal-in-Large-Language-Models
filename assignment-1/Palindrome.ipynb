{
 "cells": [
  {
   "cell_type": "code",
   "execution_count": 1,
   "id": "543bfa46",
   "metadata": {},
   "outputs": [],
   "source": [
    "# importing the required libraries\n",
    "import numpy as np\n",
    "import matplotlib.pyplot as plt"
   ]
  },
  {
   "cell_type": "code",
   "execution_count": 2,
   "id": "973d5036",
   "metadata": {},
   "outputs": [],
   "source": [
    "# importing the 'Value' type\n",
    "from utils import Value, MLP\n",
    "from utils import PalindromeDataset, PalindromeDatasetFull"
   ]
  },
  {
   "cell_type": "code",
   "execution_count": 3,
   "id": "1614af77",
   "metadata": {},
   "outputs": [
    {
     "name": "stdout",
     "output_type": "stream",
     "text": [
      "Value(data=14) Value(data=7.0) 0 0 0 0 0 0\n",
      "Value(data=14) Value(data=7.0) 1.0 0.5 2.0 1.5 0.5 1\n"
     ]
    }
   ],
   "source": [
    "# Example computation\n",
    "a = Value(1)\n",
    "b = Value(2)\n",
    "c = Value(3)\n",
    "d = Value(4)\n",
    "\n",
    "e = a*b + c*d\n",
    "f = e/2.\n",
    "\n",
    "# checking final values and initial grads (should be zero)\n",
    "print(e, f, a.grad, b.grad, c.grad, d.grad, e.grad, f.grad)\n",
    "\n",
    "# backprop\n",
    "f.backward()\n",
    "\n",
    "# checking final grads\n",
    "print(e, f, a.grad, b.grad, c.grad, d.grad, e.grad, f.grad)"
   ]
  },
  {
   "cell_type": "code",
   "execution_count": 4,
   "id": "f4b436b4",
   "metadata": {},
   "outputs": [],
   "source": [
    "# showing the training of a simple NN, with some data\n",
    "# input dim=3, output dim=1, atchitecture : NN with 4 layers : 3,4,4,1 neurons resp\n",
    "from utils import MLP\n",
    "\n",
    "# testing the MLP \n",
    "xs = [\n",
    "    [2,3,-1],\n",
    "    [3,-1,0.5],\n",
    "    [0.5,1,1],\n",
    "    [1,1,-1]\n",
    "]\n",
    "ys = [1,-1,-1,1] # labels\n",
    "losslog = []\n",
    "a = MLP(3, [4,4,1])\n",
    "for step in range(200) : # 200 epochs\n",
    "    # forward pass\n",
    "    ypred = [a(x)[0] for x in xs]\n",
    "    loss = sum((ypred-ytrue)**2 for ytrue, ypred in zip(ys, ypred)) # MSE\n",
    "    losslog.append(loss.data)\n",
    "    \n",
    "    a.zero_grad() # taken from Module class\n",
    "    loss.backward()\n",
    "    \n",
    "    # update \n",
    "    for w in a.parameters() :\n",
    "        w.data -= 0.005 * w.grad # standard SGD for now"
   ]
  },
  {
   "cell_type": "code",
   "execution_count": 5,
   "id": "68c57004",
   "metadata": {},
   "outputs": [
    {
     "data": {
      "image/png": "[encoded data removed]",
      "text/plain": [
       "<Figure size 640x480 with 1 Axes>"
      ]
     },
     "metadata": {},
     "output_type": "display_data"
    }
   ],
   "source": [
    "plt.plot(losslog)\n",
    "plt.show()"
   ]
  },
  {
   "cell_type": "code",
   "execution_count": 6,
   "id": "7caa21cf",
   "metadata": {},
   "outputs": [
    {
     "data": {
      "text/plain": [
       "[Value(data=0.8442281397216626),\n",
       " Value(data=-0.8781425781240726),\n",
       " Value(data=-0.8376995370875562),\n",
       " Value(data=0.8563240746183143)]"
      ]
     },
     "execution_count": 6,
     "metadata": {},
     "output_type": "execute_result"
    }
   ],
   "source": [
    "# checking performance on the four data points\n",
    "# should be close to ys=[1,-1,-1,1]\n",
    "[a(x)[0] for x in xs]"
   ]
  },
  {
   "cell_type": "code",
   "execution_count": 7,
   "id": "fec93123",
   "metadata": {},
   "outputs": [],
   "source": [
    "datasetMaker = PalindromeDataset(10)\n",
    "dataset = datasetMaker.generate_dataset(4, 6)"
   ]
  },
  {
   "cell_type": "code",
   "execution_count": 8,
   "id": "bfb8b99c",
   "metadata": {},
   "outputs": [
    {
     "data": {
      "text/plain": [
       "[('1010110101', 1),\n",
       " ('1100010111', 0),\n",
       " ('0110110110', 1),\n",
       " ('1000111011', 0),\n",
       " ('0001111000', 1),\n",
       " ('1010111011', 0),\n",
       " ('1000011000', 0),\n",
       " ('0111101011', 0),\n",
       " ('0011100000', 0),\n",
       " ('1110000111', 1)]"
      ]
     },
     "execution_count": 8,
     "metadata": {},
     "output_type": "execute_result"
    }
   ],
   "source": [
    "dataset"
   ]
  },
  {
   "cell_type": "code",
   "execution_count": 9,
   "id": "1709e05b",
   "metadata": {},
   "outputs": [],
   "source": [
    "def convert_to_form(dataset):\n",
    "    xs = []\n",
    "    ys = []\n",
    "    for x, y in dataset:\n",
    "        xs.append([int(k) for k in list(x)])\n",
    "        ys.append(y)\n",
    "    return xs, ys"
   ]
  },
  {
   "cell_type": "code",
   "execution_count": 10,
   "id": "bee2ff4e",
   "metadata": {},
   "outputs": [],
   "source": [
    "xs, ys = convert_to_form(dataset)"
   ]
  },
  {
   "cell_type": "code",
   "execution_count": 11,
   "id": "c396168a",
   "metadata": {},
   "outputs": [
    {
     "data": {
      "text/plain": [
       "[1, 0, 1, 0, 1, 0, 0, 0, 0, 1]"
      ]
     },
     "execution_count": 11,
     "metadata": {},
     "output_type": "execute_result"
    }
   ],
   "source": [
    "ys"
   ]
  },
  {
   "cell_type": "code",
   "execution_count": 12,
   "id": "72004fd8",
   "metadata": {},
   "outputs": [],
   "source": [
    "# showing the training of a simple NN, with some data\n",
    "# input dim=10, output dim=1, atchitecture : NN with 1 hidden layers : 4 with neurons\n",
    "from utils import MLP\n",
    "\n",
    "losslog = []\n",
    "a = MLP(10, [4, 1])\n",
    "for step in range(500) : \n",
    "    # forward pass\n",
    "    ypred = [a(x)[0] for x in xs]\n",
    "    loss = sum((ypred-ytrue)**2 for ytrue, ypred in zip(ys, ypred)) # MSE\n",
    "    losslog.append(loss.data)\n",
    "    \n",
    "    a.zero_grad() # taken from Module class\n",
    "    loss.backward()\n",
    "    \n",
    "    # update \n",
    "    for w in a.parameters() :\n",
    "        w.data -= 0.005 * w.grad # standard SGD for now"
   ]
  },
  {
   "cell_type": "code",
   "execution_count": 13,
   "id": "db8702a2",
   "metadata": {},
   "outputs": [
    {
     "data": {
      "image/png": "[encoded data removed]",
      "text/plain": [
       "<Figure size 640x480 with 1 Axes>"
      ]
     },
     "metadata": {},
     "output_type": "display_data"
    }
   ],
   "source": [
    "plt.plot(losslog)\n",
    "plt.show()"
   ]
  },
  {
   "cell_type": "code",
   "execution_count": 14,
   "id": "2698bcf1",
   "metadata": {},
   "outputs": [],
   "source": [
    "predictions = [a(k) for k in xs]\n",
    "actual_predictions = ys"
   ]
  },
  {
   "cell_type": "code",
   "execution_count": 15,
   "id": "631a2432",
   "metadata": {},
   "outputs": [
    {
     "data": {
      "text/plain": [
       "[[Value(data=0.8884705600612981)],\n",
       " [Value(data=0.23235907424888713)],\n",
       " [Value(data=0.8764593584452574)],\n",
       " [Value(data=0.005357261311221476)],\n",
       " [Value(data=0.7965402720794859)],\n",
       " [Value(data=0.07742876194684467)],\n",
       " [Value(data=-0.045671102022587104)],\n",
       " [Value(data=-0.020916447097058057)],\n",
       " [Value(data=0.05262121246285286)],\n",
       " [Value(data=0.6588579521961914)]]"
      ]
     },
     "execution_count": 15,
     "metadata": {},
     "output_type": "execute_result"
    }
   ],
   "source": [
    "predictions"
   ]
  },
  {
   "cell_type": "code",
   "execution_count": 16,
   "id": "6a6eea09",
   "metadata": {},
   "outputs": [
    {
     "data": {
      "text/plain": [
       "[1, 0, 1, 0, 1, 0, 0, 0, 0, 1]"
      ]
     },
     "execution_count": 16,
     "metadata": {},
     "output_type": "execute_result"
    }
   ],
   "source": [
    "actual_predictions"
   ]
  },
  {
   "cell_type": "markdown",
   "id": "102b9048",
   "metadata": {},
   "source": [
    "Training on Full Dataset"
   ]
  },
  {
   "cell_type": "code",
   "execution_count": 17,
   "id": "742d963d",
   "metadata": {},
   "outputs": [],
   "source": [
    "datasetMaker = PalindromeDatasetFull(10)\n",
    "dataset = datasetMaker.generate_dataset()"
   ]
  },
  {
   "cell_type": "code",
   "execution_count": 18,
   "id": "b1a62aa7",
   "metadata": {},
   "outputs": [
    {
     "data": {
      "text/plain": [
       "1024"
      ]
     },
     "execution_count": 18,
     "metadata": {},
     "output_type": "execute_result"
    }
   ],
   "source": [
    "len(dataset)"
   ]
  },
  {
   "cell_type": "code",
   "execution_count": 19,
   "id": "6b06ec76",
   "metadata": {},
   "outputs": [
    {
     "data": {
      "text/plain": [
       "[('0000000000', 1),\n",
       " ('0000000001', 0),\n",
       " ('0000000010', 0),\n",
       " ('0000000011', 0),\n",
       " ('0000000100', 0)]"
      ]
     },
     "execution_count": 19,
     "metadata": {},
     "output_type": "execute_result"
    }
   ],
   "source": [
    "dataset[:5]"
   ]
  },
  {
   "cell_type": "code",
   "execution_count": 24,
   "id": "2b1ddcee",
   "metadata": {},
   "outputs": [
    {
     "data": {
      "application/vnd.jupyter.widget-view+json": {
       "model_id": "699384282de24ca4994fb5deae1f2bb6",
       "version_major": 2,
       "version_minor": 0
      },
      "text/plain": [
       "  0%|          | 0/100 [00:00<?, ?it/s]"
      ]
     },
     "metadata": {},
     "output_type": "display_data"
    },
    {
     "data": {
      "image/png": "[encoded data removed]",
      "text/plain": [
       "<Figure size 640x480 with 1 Axes>"
      ]
     },
     "metadata": {},
     "output_type": "display_data"
    }
   ],
   "source": [
    "from tqdm.notebook import tqdm\n",
    "import random\n",
    "\n",
    "random.shuffle(dataset)\n",
    "xs, ys = convert_to_form(dataset)\n",
    "\n",
    "losslog = []\n",
    "a = MLP(10, [4, 1])\n",
    "for step in tqdm(range(100)) : \n",
    "    # forward pass\n",
    "    ypred = [a(x)[0] for x in xs]\n",
    "    loss = sum((ypred-ytrue)**2 for ytrue, ypred in zip(ys, ypred)) # MSE\n",
    "    losslog.append(loss.data)\n",
    "    \n",
    "    a.zero_grad() # taken from Module class\n",
    "    loss.backward()\n",
    "    \n",
    "    # update \n",
    "    for w in a.parameters() :\n",
    "        w.data -= 0.0001 * w.grad # standard SGD for now\n",
    "\n",
    "plt.plot(losslog)\n",
    "plt.show()"
   ]
  },
  {
   "cell_type": "code",
   "execution_count": 25,
   "id": "a9e854f4",
   "metadata": {},
   "outputs": [],
   "source": [
    "predictions = [a(k) for k in xs]\n",
    "actual_predictions = ys"
   ]
  },
  {
   "cell_type": "code",
   "execution_count": 26,
   "id": "1de43f00",
   "metadata": {},
   "outputs": [],
   "source": [
    "pred_thresh = 0.1\n",
    "\n",
    "pred_label = lambda x : 1 if x[0].data > pred_thresh else 0\n",
    "preds = list(map(pred_label, predictions))"
   ]
  },
  {
   "cell_type": "code",
   "execution_count": 27,
   "id": "3f8a8b27",
   "metadata": {},
   "outputs": [
    {
     "name": "stdout",
     "output_type": "stream",
     "text": [
      "misprediction for 1000010001: prediction: 1 actual: 0\n",
      "misprediction for 0011001100: prediction: 0 actual: 1\n",
      "misprediction for 0010110100: prediction: 0 actual: 1\n",
      "misprediction for 0000011001: prediction: 1 actual: 0\n",
      "misprediction for 0110110110: prediction: 0 actual: 1\n",
      "misprediction for 1101011000: prediction: 1 actual: 0\n",
      "misprediction for 1100011011: prediction: 1 actual: 0\n",
      "misprediction for 1000001100: prediction: 1 actual: 0\n",
      "misprediction for 1100000001: prediction: 1 actual: 0\n",
      "misprediction for 1101010001: prediction: 1 actual: 0\n",
      "misprediction for 0100000010: prediction: 0 actual: 1\n",
      "misprediction for 0000010100: prediction: 1 actual: 0\n",
      "misprediction for 1100000011: prediction: 0 actual: 1\n",
      "misprediction for 1001010101: prediction: 1 actual: 0\n",
      "misprediction for 1010001001: prediction: 1 actual: 0\n",
      "misprediction for 0100001000: prediction: 1 actual: 0\n",
      "misprediction for 1000111101: prediction: 1 actual: 0\n",
      "misprediction for 0000001101: prediction: 1 actual: 0\n",
      "misprediction for 0100110010: prediction: 0 actual: 1\n",
      "misprediction for 1000000100: prediction: 1 actual: 0\n",
      "misprediction for 1000101001: prediction: 1 actual: 0\n",
      "misprediction for 1000001101: prediction: 1 actual: 0\n",
      "misprediction for 0000010001: prediction: 1 actual: 0\n",
      "misprediction for 1111001111: prediction: 0 actual: 1\n",
      "misprediction for 1000011011: prediction: 1 actual: 0\n",
      "misprediction for 1001011000: prediction: 1 actual: 0\n",
      "misprediction for 0001001001: prediction: 1 actual: 0\n",
      "misprediction for 1000001001: prediction: 1 actual: 0\n",
      "misprediction for 1110011001: prediction: 1 actual: 0\n",
      "misprediction for 1101111011: prediction: 0 actual: 1\n",
      "misprediction for 1010110101: prediction: 0 actual: 1\n",
      "misprediction for 0100011101: prediction: 1 actual: 0\n",
      "misprediction for 1000010100: prediction: 1 actual: 0\n",
      "misprediction for 1000000101: prediction: 1 actual: 0\n",
      "misprediction for 1010010000: prediction: 1 actual: 0\n",
      "misprediction for 0111111110: prediction: 0 actual: 1\n",
      "misprediction for 0000000001: prediction: 1 actual: 0\n",
      "misprediction for 0100011100: prediction: 1 actual: 0\n",
      "misprediction for 0010011001: prediction: 1 actual: 0\n",
      "misprediction for 1100011000: prediction: 1 actual: 0\n",
      "misprediction for 0000011100: prediction: 1 actual: 0\n",
      "misprediction for 0000111001: prediction: 1 actual: 0\n",
      "misprediction for 1000011111: prediction: 1 actual: 0\n",
      "misprediction for 1000001010: prediction: 1 actual: 0\n",
      "misprediction for 0101001010: prediction: 0 actual: 1\n",
      "misprediction for 0100010001: prediction: 1 actual: 0\n",
      "misprediction for 1011001101: prediction: 0 actual: 1\n",
      "misprediction for 0101111010: prediction: 0 actual: 1\n",
      "misprediction for 1100001100: prediction: 1 actual: 0\n",
      "misprediction for 0000011000: prediction: 1 actual: 0\n",
      "misprediction for 0000010000: prediction: 1 actual: 0\n",
      "misprediction for 1100010101: prediction: 1 actual: 0\n",
      "misprediction for 1110110111: prediction: 0 actual: 1\n",
      "misprediction for 1100011100: prediction: 1 actual: 0\n",
      "misprediction for 1001011001: prediction: 1 actual: 0\n",
      "misprediction for 0110000110: prediction: 0 actual: 1\n",
      "misprediction for 0001010001: prediction: 1 actual: 0\n",
      "misprediction for 1100000000: prediction: 1 actual: 0\n",
      "misprediction for 0000001100: prediction: 1 actual: 0\n",
      "misprediction for 1000001011: prediction: 1 actual: 0\n",
      "misprediction for 0000000101: prediction: 1 actual: 0\n",
      "misprediction for 1000011000: prediction: 1 actual: 0\n",
      "misprediction for 0100001001: prediction: 1 actual: 0\n",
      "misprediction for 0001001000: prediction: 0 actual: 1\n",
      "misprediction for 1000011001: prediction: 1 actual: 0\n",
      "misprediction for 0000110000: prediction: 0 actual: 1\n",
      "misprediction for 0100011000: prediction: 1 actual: 0\n",
      "misprediction for 0100010000: prediction: 1 actual: 0\n",
      "misprediction for 1000110000: prediction: 1 actual: 0\n",
      "misprediction for 1100011101: prediction: 1 actual: 0\n",
      "misprediction for 1100110011: prediction: 0 actual: 1\n",
      "misprediction for 0000011011: prediction: 1 actual: 0\n",
      "misprediction for 0011111100: prediction: 0 actual: 1\n",
      "misprediction for 0111001110: prediction: 0 actual: 1\n",
      "misprediction for 1001011101: prediction: 1 actual: 0\n",
      "misprediction for 1111111111: prediction: 0 actual: 1\n",
      "misprediction for 1001001000: prediction: 1 actual: 0\n",
      "misprediction for 0100011001: prediction: 1 actual: 0\n",
      "misprediction for 1000011101: prediction: 1 actual: 0\n",
      "misprediction for 1100001000: prediction: 1 actual: 0\n",
      "misprediction for 1101001011: prediction: 0 actual: 1\n",
      "misprediction for 1001011100: prediction: 1 actual: 0\n",
      "misprediction for 1000001000: prediction: 1 actual: 0\n",
      "misprediction for 0001111000: prediction: 0 actual: 1\n",
      "misprediction for 0000010101: prediction: 1 actual: 0\n",
      "misprediction for 1010011001: prediction: 1 actual: 0\n",
      "misprediction for 1000011100: prediction: 1 actual: 0\n",
      "misprediction for 1000000000: prediction: 1 actual: 0\n",
      "misprediction for 1110000111: prediction: 0 actual: 1\n",
      "misprediction for 1000101000: prediction: 1 actual: 0\n",
      "misprediction for 1100011001: prediction: 1 actual: 0\n",
      "misprediction for 1100001101: prediction: 1 actual: 0\n",
      "misprediction for 1000010011: prediction: 1 actual: 0\n",
      "misprediction for 1001000000: prediction: 1 actual: 0\n",
      "misprediction for 0001011000: prediction: 1 actual: 0\n",
      "misprediction for 1001001101: prediction: 1 actual: 0\n",
      "misprediction for 1100010000: prediction: 1 actual: 0\n",
      "misprediction for 1010000101: prediction: 0 actual: 1\n",
      "misprediction for 1010010001: prediction: 1 actual: 0\n",
      "misprediction for 1001010000: prediction: 1 actual: 0\n",
      "misprediction for 1001000001: prediction: 1 actual: 0\n",
      "misprediction for 1100000101: prediction: 1 actual: 0\n",
      "misprediction for 0000001000: prediction: 1 actual: 0\n",
      "misprediction for 1010001000: prediction: 1 actual: 0\n",
      "misprediction for 1010000001: prediction: 1 actual: 0\n",
      "misprediction for 1100010001: prediction: 1 actual: 0\n",
      "misprediction for 1001111001: prediction: 0 actual: 1\n",
      "misprediction for 1010011000: prediction: 1 actual: 0\n",
      "misprediction for 1011111101: prediction: 0 actual: 1\n",
      "misprediction for 1100001001: prediction: 1 actual: 0\n",
      "misprediction for 0010000100: prediction: 0 actual: 1\n",
      "misprediction for 1010011101: prediction: 1 actual: 0\n",
      "misprediction for 0000001001: prediction: 1 actual: 0\n",
      "misprediction for 1000010000: prediction: 1 actual: 0\n",
      "misprediction for 1100111001: prediction: 1 actual: 0\n",
      "misprediction for 0001011001: prediction: 1 actual: 0\n",
      "misprediction for 1000010101: prediction: 1 actual: 0\n",
      "misprediction for 1000011010: prediction: 1 actual: 0\n",
      "misprediction for 1101011001: prediction: 1 actual: 0\n",
      "misprediction for 1000111001: prediction: 1 actual: 0\n",
      "misprediction for 1101001001: prediction: 1 actual: 0\n",
      "misprediction for 1100010100: prediction: 1 actual: 0\n",
      "misprediction for 0100000001: prediction: 1 actual: 0\n",
      "misprediction for 1001010001: prediction: 1 actual: 0\n",
      "misprediction for 1000111000: prediction: 1 actual: 0\n",
      "misprediction for 0000011101: prediction: 1 actual: 0\n",
      "Accuracy: 87.6953125%\n"
     ]
    }
   ],
   "source": [
    "accuracy = 0\n",
    "for i, pred in enumerate(preds):\n",
    "    if pred == ys[i]:\n",
    "        accuracy += 1\n",
    "    else:\n",
    "        print(f\"misprediction for {''.join([str(k) for k in xs[i]])}: prediction: \" + str(pred) + \" actual: \" + str(ys[i]))\n",
    "\n",
    "accuracy /= len(preds)\n",
    "accuracy *= 100\n",
    "print(\"Accuracy: \" + str(accuracy) + \"%\" )"
   ]
  },
  {
   "cell_type": "code",
   "execution_count": 28,
   "id": "41ad1c32",
   "metadata": {},
   "outputs": [
    {
     "data": {
      "application/vnd.jupyter.widget-view+json": {
       "model_id": "d87e8813c9e74b65a39f7c45efcffd72",
       "version_major": 2,
       "version_minor": 0
      },
      "text/plain": [
       "  0%|          | 0/50 [00:00<?, ?it/s]"
      ]
     },
     "metadata": {},
     "output_type": "display_data"
    }
   ],
   "source": [
    "for step in tqdm(range(50)) : \n",
    "    # forward pass\n",
    "    ypred = [a(x)[0] for x in xs]\n",
    "    loss = sum((ypred-ytrue)**2 for ytrue, ypred in zip(ys, ypred)) # MSE\n",
    "    losslog.append(loss.data)\n",
    "    \n",
    "    a.zero_grad() # taken from Module class\n",
    "    loss.backward()\n",
    "    \n",
    "    # update \n",
    "    for w in a.parameters() :\n",
    "        w.data -= 0.0001 * w.grad # standard SGD for now"
   ]
  },
  {
   "cell_type": "code",
   "execution_count": 29,
   "id": "1b365e1a",
   "metadata": {},
   "outputs": [
    {
     "data": {
      "image/png": "[encoded data removed]",
      "text/plain": [
       "<Figure size 640x480 with 1 Axes>"
      ]
     },
     "metadata": {},
     "output_type": "display_data"
    }
   ],
   "source": [
    "plt.plot(losslog)\n",
    "plt.show()"
   ]
  },
  {
   "cell_type": "code",
   "execution_count": 30,
   "id": "e0e8d689",
   "metadata": {},
   "outputs": [
    {
     "name": "stdout",
     "output_type": "stream",
     "text": [
      "misprediction for 1000010001: prediction: 1 actual: 0\n",
      "misprediction for 0011001100: prediction: 0 actual: 1\n",
      "misprediction for 0010110100: prediction: 0 actual: 1\n",
      "misprediction for 0000011001: prediction: 1 actual: 0\n",
      "misprediction for 0110110110: prediction: 0 actual: 1\n",
      "misprediction for 1101011000: prediction: 1 actual: 0\n",
      "misprediction for 1100011011: prediction: 1 actual: 0\n",
      "misprediction for 1000001100: prediction: 1 actual: 0\n",
      "misprediction for 1100000001: prediction: 1 actual: 0\n",
      "misprediction for 1101010001: prediction: 1 actual: 0\n",
      "misprediction for 0100000010: prediction: 0 actual: 1\n",
      "misprediction for 0000010100: prediction: 1 actual: 0\n",
      "misprediction for 1100000011: prediction: 0 actual: 1\n",
      "misprediction for 1001010101: prediction: 1 actual: 0\n",
      "misprediction for 1010001001: prediction: 1 actual: 0\n",
      "misprediction for 0100001000: prediction: 1 actual: 0\n",
      "misprediction for 1000111101: prediction: 1 actual: 0\n",
      "misprediction for 0000001101: prediction: 1 actual: 0\n",
      "misprediction for 0100110010: prediction: 0 actual: 1\n",
      "misprediction for 1000000100: prediction: 1 actual: 0\n",
      "misprediction for 1000101001: prediction: 1 actual: 0\n",
      "misprediction for 1000001101: prediction: 1 actual: 0\n",
      "misprediction for 0000010001: prediction: 1 actual: 0\n",
      "misprediction for 1111001111: prediction: 0 actual: 1\n",
      "misprediction for 1000011011: prediction: 1 actual: 0\n",
      "misprediction for 1001011000: prediction: 1 actual: 0\n",
      "misprediction for 0001001001: prediction: 1 actual: 0\n",
      "misprediction for 1000001001: prediction: 1 actual: 0\n",
      "misprediction for 1110011001: prediction: 1 actual: 0\n",
      "misprediction for 1101111011: prediction: 0 actual: 1\n",
      "misprediction for 1010110101: prediction: 0 actual: 1\n",
      "misprediction for 0100011101: prediction: 1 actual: 0\n",
      "misprediction for 1000010100: prediction: 1 actual: 0\n",
      "misprediction for 1000000101: prediction: 1 actual: 0\n",
      "misprediction for 1010010000: prediction: 1 actual: 0\n",
      "misprediction for 0111111110: prediction: 0 actual: 1\n",
      "misprediction for 0000000001: prediction: 1 actual: 0\n",
      "misprediction for 0100011100: prediction: 1 actual: 0\n",
      "misprediction for 0010011001: prediction: 1 actual: 0\n",
      "misprediction for 1100011000: prediction: 1 actual: 0\n",
      "misprediction for 0000011100: prediction: 1 actual: 0\n",
      "misprediction for 0000111001: prediction: 1 actual: 0\n",
      "misprediction for 1000011111: prediction: 1 actual: 0\n",
      "misprediction for 1000001010: prediction: 1 actual: 0\n",
      "misprediction for 0101001010: prediction: 0 actual: 1\n",
      "misprediction for 0100010001: prediction: 1 actual: 0\n",
      "misprediction for 1011001101: prediction: 0 actual: 1\n",
      "misprediction for 0101111010: prediction: 0 actual: 1\n",
      "misprediction for 1100001100: prediction: 1 actual: 0\n",
      "misprediction for 0000011000: prediction: 1 actual: 0\n",
      "misprediction for 0000010000: prediction: 1 actual: 0\n",
      "misprediction for 1100010101: prediction: 1 actual: 0\n",
      "misprediction for 1110110111: prediction: 0 actual: 1\n",
      "misprediction for 1100011100: prediction: 1 actual: 0\n",
      "misprediction for 1001011001: prediction: 1 actual: 0\n",
      "misprediction for 0110000110: prediction: 0 actual: 1\n",
      "misprediction for 0001010001: prediction: 1 actual: 0\n",
      "misprediction for 1100000000: prediction: 1 actual: 0\n",
      "misprediction for 0000001100: prediction: 1 actual: 0\n",
      "misprediction for 1000001011: prediction: 1 actual: 0\n",
      "misprediction for 0000000101: prediction: 1 actual: 0\n",
      "misprediction for 1000011000: prediction: 1 actual: 0\n",
      "misprediction for 0100001001: prediction: 1 actual: 0\n",
      "misprediction for 0001001000: prediction: 0 actual: 1\n",
      "misprediction for 1000011001: prediction: 1 actual: 0\n",
      "misprediction for 0000110000: prediction: 0 actual: 1\n",
      "misprediction for 0100011000: prediction: 1 actual: 0\n",
      "misprediction for 0100010000: prediction: 1 actual: 0\n",
      "misprediction for 1000110000: prediction: 1 actual: 0\n",
      "misprediction for 1100011101: prediction: 1 actual: 0\n",
      "misprediction for 1100110011: prediction: 0 actual: 1\n",
      "misprediction for 0000011011: prediction: 1 actual: 0\n",
      "misprediction for 0011111100: prediction: 0 actual: 1\n",
      "misprediction for 0111001110: prediction: 0 actual: 1\n",
      "misprediction for 1001011101: prediction: 1 actual: 0\n",
      "misprediction for 1111111111: prediction: 0 actual: 1\n",
      "misprediction for 1001001000: prediction: 1 actual: 0\n",
      "misprediction for 0100011001: prediction: 1 actual: 0\n",
      "misprediction for 1000011101: prediction: 1 actual: 0\n",
      "misprediction for 1100001000: prediction: 1 actual: 0\n",
      "misprediction for 1101001011: prediction: 0 actual: 1\n",
      "misprediction for 1001011100: prediction: 1 actual: 0\n",
      "misprediction for 1000001000: prediction: 1 actual: 0\n",
      "misprediction for 0001111000: prediction: 0 actual: 1\n",
      "misprediction for 0000010101: prediction: 1 actual: 0\n",
      "misprediction for 1010011001: prediction: 1 actual: 0\n",
      "misprediction for 1000011100: prediction: 1 actual: 0\n",
      "misprediction for 1000000000: prediction: 1 actual: 0\n",
      "misprediction for 1110000111: prediction: 0 actual: 1\n",
      "misprediction for 1000101000: prediction: 1 actual: 0\n",
      "misprediction for 1100011001: prediction: 1 actual: 0\n",
      "misprediction for 1100001101: prediction: 1 actual: 0\n",
      "misprediction for 1000010011: prediction: 1 actual: 0\n",
      "misprediction for 1001000000: prediction: 1 actual: 0\n",
      "misprediction for 0001011000: prediction: 1 actual: 0\n",
      "misprediction for 1001001101: prediction: 1 actual: 0\n",
      "misprediction for 1100010000: prediction: 1 actual: 0\n",
      "misprediction for 1010000101: prediction: 0 actual: 1\n",
      "misprediction for 1010010001: prediction: 1 actual: 0\n",
      "misprediction for 1001010000: prediction: 1 actual: 0\n",
      "misprediction for 1001000001: prediction: 1 actual: 0\n",
      "misprediction for 1100000101: prediction: 1 actual: 0\n",
      "misprediction for 0000001000: prediction: 1 actual: 0\n",
      "misprediction for 1010001000: prediction: 1 actual: 0\n",
      "misprediction for 1010000001: prediction: 1 actual: 0\n",
      "misprediction for 1100010001: prediction: 1 actual: 0\n",
      "misprediction for 1001111001: prediction: 0 actual: 1\n",
      "misprediction for 1010011000: prediction: 1 actual: 0\n",
      "misprediction for 1011111101: prediction: 0 actual: 1\n",
      "misprediction for 1100001001: prediction: 1 actual: 0\n",
      "misprediction for 0010000100: prediction: 0 actual: 1\n",
      "misprediction for 1010011101: prediction: 1 actual: 0\n",
      "misprediction for 0000001001: prediction: 1 actual: 0\n",
      "misprediction for 1000010000: prediction: 1 actual: 0\n",
      "misprediction for 1100111001: prediction: 1 actual: 0\n",
      "misprediction for 0001011001: prediction: 1 actual: 0\n",
      "misprediction for 1000010101: prediction: 1 actual: 0\n",
      "misprediction for 1000011010: prediction: 1 actual: 0\n",
      "misprediction for 1101011001: prediction: 1 actual: 0\n",
      "misprediction for 1000111001: prediction: 1 actual: 0\n",
      "misprediction for 1101001001: prediction: 1 actual: 0\n",
      "misprediction for 1100010100: prediction: 1 actual: 0\n",
      "misprediction for 0100000001: prediction: 1 actual: 0\n",
      "misprediction for 1001010001: prediction: 1 actual: 0\n",
      "misprediction for 1000111000: prediction: 1 actual: 0\n",
      "misprediction for 0000011101: prediction: 1 actual: 0\n",
      "Accuracy: 87.6953125%\n"
     ]
    }
   ],
   "source": [
    "accuracy = 0\n",
    "for i, pred in enumerate(preds):\n",
    "    if pred == ys[i]:\n",
    "        accuracy += 1\n",
    "    else:\n",
    "        print(f\"misprediction for {''.join([str(k) for k in xs[i]])}: prediction: \" + str(pred) + \" actual: \" + str(ys[i]))\n",
    "\n",
    "accuracy /= len(preds)\n",
    "accuracy *= 100\n",
    "print(\"Accuracy: \" + str(accuracy) + \"%\" )"
   ]
  }
 ],
 "metadata": {
  "kernelspec": {
   "display_name": "Python 3",
   "language": "python",
   "name": "python3"
  },
  "language_info": {
   "codemirror_mode": {
    "name": "ipython",
    "version": 3
   },
   "file_extension": ".py",
   "mimetype": "text/x-python",
   "name": "python",
   "nbconvert_exporter": "python",
   "pygments_lexer": "ipython3",
   "version": "3.12.1"
  }
 },
 "nbformat": 4,
 "nbformat_minor": 5
}
