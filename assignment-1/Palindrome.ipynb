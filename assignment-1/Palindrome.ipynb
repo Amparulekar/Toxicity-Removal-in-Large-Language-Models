{
 "cells": [
  {
   "cell_type": "code",
   "execution_count": 1,
   "id": "543bfa46",
   "metadata": {},
   "outputs": [],
   "source": [
    "# importing the required libraries\n",
    "import numpy as np\n",
    "import matplotlib.pyplot as plt"
   ]
  },
  {
   "cell_type": "code",
   "execution_count": 2,
   "id": "973d5036",
   "metadata": {},
   "outputs": [],
   "source": [
    "# importing the 'Value' type\n",
    "from utils import Value, MLP\n",
    "from utils import PalindromeDataset, PalindromeDatasetFull"
   ]
  },
  {
   "cell_type": "code",
   "execution_count": 3,
   "id": "1614af77",
   "metadata": {},
   "outputs": [
    {
     "name": "stdout",
     "output_type": "stream",
     "text": [
      "Value(data=14) Value(data=7.0) 0 0 0 0 0 0\n",
      "Value(data=14) Value(data=7.0) 1.0 0.5 2.0 1.5 0.5 1\n"
     ]
    }
   ],
   "source": [
    "# Example computation\n",
    "a = Value(1)\n",
    "b = Value(2)\n",
    "c = Value(3)\n",
    "d = Value(4)\n",
    "\n",
    "e = a*b + c*d\n",
    "f = e/2.\n",
    "\n",
    "# checking final values and initial grads (should be zero)\n",
    "print(e, f, a.grad, b.grad, c.grad, d.grad, e.grad, f.grad)\n",
    "\n",
    "# backprop\n",
    "f.backward()\n",
    "\n",
    "# checking final grads\n",
    "print(e, f, a.grad, b.grad, c.grad, d.grad, e.grad, f.grad)"
   ]
  },
  {
   "cell_type": "code",
   "execution_count": 4,
   "id": "f4b436b4",
   "metadata": {},
   "outputs": [],
   "source": [
    "# showing the training of a simple NN, with some data\n",
    "# input dim=3, output dim=1, atchitecture : NN with 4 layers : 3,4,4,1 neurons resp\n",
    "from utils import MLP\n",
    "\n",
    "# testing the MLP \n",
    "xs = [\n",
    "    [2,3,-1],\n",
    "    [3,-1,0.5],\n",
    "    [0.5,1,1],\n",
    "    [1,1,-1]\n",
    "]\n",
    "ys = [1,-1,-1,1] # labels\n",
    "losslog = []\n",
    "a = MLP(3, [4,4,1])\n",
    "for step in range(200) : # 200 epochs\n",
    "    # forward pass\n",
    "    ypred = [a(x)[0] for x in xs]\n",
    "    loss = sum((ypred-ytrue)**2 for ytrue, ypred in zip(ys, ypred)) # MSE\n",
    "    losslog.append(loss.data)\n",
    "    \n",
    "    a.zero_grad() # taken from Module class\n",
    "    loss.backward()\n",
    "    \n",
    "    # update \n",
    "    for w in a.parameters() :\n",
    "        w.data -= 0.005 * w.grad # standard SGD for now"
   ]
  },
  {
   "cell_type": "code",
   "execution_count": 5,
   "id": "68c57004",
   "metadata": {},
   "outputs": [
    {
     "data": {
      "image/png": "[encoded data removed]",
      "text/plain": [
       "<Figure size 640x480 with 1 Axes>"
      ]
     },
     "metadata": {},
     "output_type": "display_data"
    }
   ],
   "source": [
    "plt.plot(losslog)\n",
    "plt.show()"
   ]
  },
  {
   "cell_type": "code",
   "execution_count": 6,
   "id": "7caa21cf",
   "metadata": {},
   "outputs": [
    {
     "data": {
      "text/plain": [
       "[Value(data=0.8442281397216626),\n",
       " Value(data=-0.8781425781240726),\n",
       " Value(data=-0.8376995370875562),\n",
       " Value(data=0.8563240746183143)]"
      ]
     },
     "execution_count": 6,
     "metadata": {},
     "output_type": "execute_result"
    }
   ],
   "source": [
    "# checking performance on the four data points\n",
    "# should be close to ys=[1,-1,-1,1]\n",
    "[a(x)[0] for x in xs]"
   ]
  },
  {
   "cell_type": "code",
   "execution_count": 26,
   "id": "fec93123",
   "metadata": {},
   "outputs": [],
   "source": [
    "datasetMaker = PalindromeDataset(10)\n",
    "dataset = datasetMaker.generate_dataset(30, 30)"
   ]
  },
  {
   "cell_type": "code",
   "execution_count": 27,
   "id": "bfb8b99c",
   "metadata": {},
   "outputs": [
    {
     "data": {
      "text/plain": [
       "60"
      ]
     },
     "execution_count": 27,
     "metadata": {},
     "output_type": "execute_result"
    }
   ],
   "source": [
    "len(dataset)"
   ]
  },
  {
   "cell_type": "code",
   "execution_count": null,
   "id": "237c4cf2",
   "metadata": {},
   "outputs": [],
   "source": [
    "def convert_to_form(dataset):\n",
    "    xs = []\n",
    "    ys = []\n",
    "    for x, y in dataset:\n",
    "        xs.append([int(k) for k in list(x)])\n",
    "        ys.append(y)\n",
    "    return xs, ys"
   ]
  },
  {
   "cell_type": "code",
   "execution_count": 29,
   "id": "72004fd8",
   "metadata": {},
   "outputs": [
    {
     "data": {
      "application/vnd.jupyter.widget-view+json": {
       "model_id": "eb52d4445945408ba90568647d183ee9",
       "version_major": 2,
       "version_minor": 0
      },
      "text/plain": [
       "  0%|          | 0/1000 [00:00<?, ?it/s]"
      ]
     },
     "metadata": {},
     "output_type": "display_data"
    },
    {
     "name": "stdout",
     "output_type": "stream",
     "text": [
      "epoch 0 loss 42.1785\n",
      "epoch 50 loss 37.5908\n",
      "epoch 100 loss 36.2446\n",
      "epoch 150 loss 23.2981\n",
      "epoch 200 loss 13.5889\n",
      "epoch 250 loss 7.8136\n",
      "epoch 300 loss 4.3049\n",
      "epoch 350 loss 2.8982\n",
      "epoch 400 loss 2.1321\n",
      "epoch 450 loss 1.6620\n",
      "epoch 500 loss 1.3502\n",
      "epoch 550 loss 1.1310\n",
      "epoch 600 loss 0.9696\n",
      "epoch 650 loss 0.8465\n",
      "epoch 700 loss 0.7497\n",
      "epoch 750 loss 0.6719\n",
      "epoch 800 loss 0.6081\n",
      "epoch 850 loss 0.5549\n",
      "epoch 900 loss 0.5099\n",
      "epoch 950 loss 0.4714\n"
     ]
    }
   ],
   "source": [
    "# showing the training of a simple NN, with some data\n",
    "# input dim=10, output dim=1, atchitecture : NN with 1 hidden layers : 4 with neurons\n",
    "from utils import MLP\n",
    "from tqdm.notebook import tqdm\n",
    "\n",
    "losslog = []\n",
    "a = MLP(10, [4, 1])\n",
    "weight = 1. # added weight to try and counter the class imbalance\n",
    "nepochs = 1000\n",
    "\n",
    "xs, ys = convert_to_form(dataset)\n",
    "\n",
    "for step in tqdm(range(nepochs)) : \n",
    "    # forward pass\n",
    "    ypred = [a(x)[0] for x in xs]\n",
    "    # loss = sum((ypred-ytrue)**2 for ytrue, ypred in zip(ys, ypred)) # MSE\n",
    "    loss = sum(-weight*ytrue*ypred.log()-(1-ytrue)*(1-ypred).log() for ytrue, ypred in zip(ys, ypred)) # BCE\n",
    "    losslog.append(loss.data)\n",
    "    \n",
    "    a.zero_grad() # taken from Module class\n",
    "    loss.backward()\n",
    "\n",
    "    if step%50==0 : tqdm.write(f'epoch {step} loss {loss.data:.4f}')\n",
    "    \n",
    "    # update \n",
    "    for w in a.parameters() :\n",
    "        w.data -= 0.05 * w.grad # standard SGD for now"
   ]
  },
  {
   "cell_type": "code",
   "execution_count": 30,
   "id": "db8702a2",
   "metadata": {},
   "outputs": [
    {
     "data": {
      "image/png": "[encoded data removed]",
      "text/plain": [
       "<Figure size 432x288 with 1 Axes>"
      ]
     },
     "metadata": {
      "needs_background": "light"
     },
     "output_type": "display_data"
    }
   ],
   "source": [
    "plt.plot(losslog)\n",
    "plt.show()"
   ]
  },
  {
   "cell_type": "code",
   "execution_count": 31,
   "id": "2698bcf1",
   "metadata": {},
   "outputs": [
    {
     "name": "stdout",
     "output_type": "stream",
     "text": [
      "Threshold 0.1 accuracy 1.0000 f1 1.0000\n",
      "Threshold 0.2 accuracy 1.0000 f1 1.0000\n",
      "Threshold 0.3 accuracy 1.0000 f1 1.0000\n",
      "Threshold 0.4 accuracy 1.0000 f1 1.0000\n",
      "Threshold 0.5 accuracy 1.0000 f1 1.0000\n",
      "Threshold 0.6 accuracy 1.0000 f1 1.0000\n",
      "Threshold 0.7 accuracy 1.0000 f1 1.0000\n",
      "Threshold 0.8 accuracy 1.0000 f1 1.0000\n",
      "Threshold 0.9 accuracy 1.0000 f1 1.0000\n"
     ]
    }
   ],
   "source": [
    "eps = 1e-8\n",
    "predictions = np.array([a(k)[0].data for k in xs])\n",
    "\n",
    "for i in range(1,10) :\n",
    "    thresh = i/10\n",
    "    preds = np.array(1*(predictions > thresh))\n",
    "\n",
    "    true_pos = sum([int(a==1 and b==1) for a,b in zip(preds, ys)])\n",
    "    true_neg = sum([int(a==0 and b==0) for a,b in zip(preds, ys)])\n",
    "    false_pos = sum([int(a==1 and b==0) for a,b in zip(preds, ys)])\n",
    "    false_neg = sum([int(a==0 and b==1) for a,b in zip(preds, ys)])\n",
    "\n",
    "    # true_pos = sum(np.array(ys)==1 and preds==1)\n",
    "    # true_neg = sum(np.array(ys)==0 and preds==0)\n",
    "    # false_pos = sum(np.array(ys)==0 and preds==1)\n",
    "    # false_neg = sum(np.array(ys)==1 and preds==0)\n",
    "\n",
    "    num_correct = true_neg + true_pos\n",
    "    prec = true_pos / (true_pos + false_pos + eps)\n",
    "    recall = true_pos / (true_pos + false_neg + eps)\n",
    "    f1 = 2*prec*recall / (prec + recall + eps)\n",
    "    acc = num_correct / len(ys)\n",
    "    print(f'Threshold {thresh:.1f} accuracy {acc:.4f} f1 {f1:.4f}')"
   ]
  },
  {
   "cell_type": "code",
   "execution_count": 35,
   "id": "631a2432",
   "metadata": {},
   "outputs": [
    {
     "data": {
      "text/plain": [
       "(0.9999923651139505, 0.0010043010391068488)"
      ]
     },
     "execution_count": 35,
     "metadata": {},
     "output_type": "execute_result"
    }
   ],
   "source": [
    "max(predictions), min(predictions)"
   ]
  },
  {
   "cell_type": "code",
   "execution_count": 45,
   "id": "c452603c",
   "metadata": {},
   "outputs": [
    {
     "name": "stdout",
     "output_type": "stream",
     "text": [
      "0.1 0.548828125 0.12167300265494659\n",
      "0.2 0.6005859375 0.13530655264395766\n",
      "0.3 0.6279296875 0.14382022337785635\n",
      "0.4 0.6494140625 0.15130023500092218\n",
      "0.5 0.66796875 0.15841584011763557\n",
      "0.6 0.69140625 0.16842105108033242\n",
      "0.7 0.7109375 0.17777777614814816\n",
      "0.8 0.7412109375 0.19452887361203242\n",
      "0.9 0.796875 0.23529411555363325\n"
     ]
    },
    {
     "data": {
      "text/plain": [
       "array([[784, 208],\n",
       "       [  0,  32]], dtype=int64)"
      ]
     },
     "execution_count": 45,
     "metadata": {},
     "output_type": "execute_result"
    }
   ],
   "source": [
    "from sklearn.metrics import confusion_matrix\n",
    "\n",
    "# testing on full dataset\n",
    "test_datasetMaker = PalindromeDatasetFull(10)\n",
    "test_dataset = test_datasetMaker.generate_dataset()\n",
    "\n",
    "xs, ys = convert_to_form(test_dataset)\n",
    "\n",
    "predictions = np.array([a(k)[0].data for k in xs])\n",
    "\n",
    "for i in range(1,10) :\n",
    "    preds = 1*(predictions > i/10)\n",
    "\n",
    "    true_pos = sum([int(a==1 and b==1) for a,b in zip(preds, ys)])\n",
    "    true_neg = sum([int(a==0 and b==0) for a,b in zip(preds, ys)])\n",
    "    false_pos = sum([int(a==1 and b==0) for a,b in zip(preds, ys)])\n",
    "    false_neg = sum([int(a==0 and b==1) for a,b in zip(preds, ys)])\n",
    "\n",
    "    num_correct = true_neg + true_pos\n",
    "    prec = true_pos / (true_pos + false_pos + eps)\n",
    "    recall = true_pos / (true_pos + false_neg + eps)\n",
    "    f1 = 2*prec*recall / (prec + recall + eps)\n",
    "    acc = num_correct / len(ys)\n",
    "\n",
    "    print(i/10, acc, f1)\n",
    "\n",
    "confusion_matrix(ys, preds)"
   ]
  },
  {
   "cell_type": "code",
   "execution_count": 18,
   "id": "d2ae11c2",
   "metadata": {},
   "outputs": [
    {
     "data": {
      "text/plain": [
       "(0.9996391784002346, 2.1230088668802731e-07)"
      ]
     },
     "execution_count": 18,
     "metadata": {},
     "output_type": "execute_result"
    }
   ],
   "source": [
    "max(predictions), min(predictions)"
   ]
  },
  {
   "cell_type": "markdown",
   "id": "7d769b46",
   "metadata": {},
   "source": [
    "Training on full dataset"
   ]
  },
  {
   "cell_type": "code",
   "execution_count": 3,
   "id": "c67284a1",
   "metadata": {},
   "outputs": [
    {
     "data": {
      "text/plain": [
       "1024"
      ]
     },
     "execution_count": 3,
     "metadata": {},
     "output_type": "execute_result"
    }
   ],
   "source": [
    "datasetMaker = PalindromeDatasetFull(10) \n",
    "dataset = datasetMaker.generate_dataset()\n",
    "len(dataset)"
   ]
  },
  {
   "cell_type": "code",
   "execution_count": 4,
   "id": "dd9178e6",
   "metadata": {},
   "outputs": [],
   "source": [
    "def convert_to_form(dataset):\n",
    "    xs = []\n",
    "    ys = []\n",
    "    for x, y in dataset:\n",
    "        xs.append([int(k) for k in list(x)])\n",
    "        ys.append(y)\n",
    "    return xs, ys"
   ]
  },
  {
   "cell_type": "code",
   "execution_count": 5,
   "id": "fda7b5eb",
   "metadata": {},
   "outputs": [
    {
     "data": {
      "application/vnd.jupyter.widget-view+json": {
       "model_id": "30d0924fafc147df9efc1482a58d9dcb",
       "version_major": 2,
       "version_minor": 0
      },
      "text/plain": [
       "  0%|          | 0/250 [00:00<?, ?it/s]"
      ]
     },
     "metadata": {},
     "output_type": "display_data"
    },
    {
     "name": "stdout",
     "output_type": "stream",
     "text": [
      "epoch 0 loss 1186.8409\n",
      "epoch 50 loss 722.7990\n",
      "epoch 100 loss 691.4069\n",
      "epoch 150 loss 645.0974\n",
      "epoch 200 loss 640.1824\n"
     ]
    },
    {
     "data": {
      "image/png": "[encoded data removed]",
      "text/plain": [
       "<Figure size 432x288 with 1 Axes>"
      ]
     },
     "metadata": {
      "needs_background": "light"
     },
     "output_type": "display_data"
    }
   ],
   "source": [
    "from tqdm.notebook import tqdm\n",
    "import random\n",
    "\n",
    "random.shuffle(dataset)\n",
    "xs, ys = convert_to_form(dataset)\n",
    "\n",
    "losslog = []\n",
    "a = MLP(10, [2, 1])\n",
    "weight = 10. # added weight to try and counter the class imbalance\n",
    "nepochs = 250\n",
    "\n",
    "for step in tqdm(range(nepochs)) : \n",
    "    # forward pass\n",
    "    ypred = [a(x)[0] for x in xs]\n",
    "    # loss = sum((ypred-ytrue)**2 for ytrue, ypred in zip(ys, ypred)) # MSE\n",
    "    loss = sum(-weight*ytrue*ypred.log()-(1-ytrue)*(1-ypred).log() for ytrue, ypred in zip(ys, ypred)) # BCE\n",
    "    losslog.append(loss.data)\n",
    "    \n",
    "    a.zero_grad() # taken from Module class\n",
    "    loss.backward()\n",
    "    if step%50==0 : tqdm.write(f'epoch {step} loss {loss.data:.4f}')\n",
    "    \n",
    "    # update \n",
    "    for w in a.parameters() :\n",
    "        lr = 0.005 if step<150 else 0.0005\n",
    "        w.data -= lr * w.grad # standard SGD for now\n",
    "\n",
    "plt.plot(losslog)\n",
    "plt.show()"
   ]
  },
  {
   "cell_type": "code",
   "execution_count": 6,
   "id": "6142896e",
   "metadata": {},
   "outputs": [
    {
     "data": {
      "text/plain": [
       "(0.4657726004377856, 0.009354285268785316)"
      ]
     },
     "execution_count": 6,
     "metadata": {},
     "output_type": "execute_result"
    }
   ],
   "source": [
    "predictions = np.array([a(k)[0].data for k in xs])\n",
    "max(predictions), min(predictions)"
   ]
  },
  {
   "cell_type": "code",
   "execution_count": 7,
   "metadata": {},
   "outputs": [
    {
     "name": "stdout",
     "output_type": "stream",
     "text": [
      "Threshold 0.1 accuracy 0.2637 f1 0.0782\n",
      "Threshold 0.2 accuracy 0.3682 f1 0.0900\n",
      "Threshold 0.3 accuracy 0.7607 f1 0.1026\n",
      "Threshold 0.4 accuracy 0.9482 f1 0.1587\n",
      "Threshold 0.5 accuracy 0.9688 f1 0.0000\n"
     ]
    }
   ],
   "source": [
    "eps = 1e-8\n",
    "predictions = np.array([a(k)[0].data for k in xs])\n",
    "\n",
    "for i in range(1,6) :\n",
    "    thresh = i/10\n",
    "    preds = np.array(1*(predictions > thresh))\n",
    "\n",
    "    true_pos = sum([int(a==1 and b==1) for a,b in zip(preds, ys)])\n",
    "    true_neg = sum([int(a==0 and b==0) for a,b in zip(preds, ys)])\n",
    "    false_pos = sum([int(a==1 and b==0) for a,b in zip(preds, ys)])\n",
    "    false_neg = sum([int(a==0 and b==1) for a,b in zip(preds, ys)])\n",
    "\n",
    "    # true_pos = sum(np.array(ys)==1 and preds==1)\n",
    "    # true_neg = sum(np.array(ys)==0 and preds==0)\n",
    "    # false_pos = sum(np.array(ys)==0 and preds==1)\n",
    "    # false_neg = sum(np.array(ys)==1 and preds==0)\n",
    "\n",
    "    num_correct = true_neg + true_pos\n",
    "    prec = true_pos / (true_pos + false_pos + eps)\n",
    "    recall = true_pos / (true_pos + false_neg + eps)\n",
    "    f1 = 2*prec*recall / (prec + recall + eps)\n",
    "    acc = num_correct / len(ys)\n",
    "    print(f'Threshold {thresh:.1f} accuracy {acc:.4f} f1 {f1:.4f}')"
   ]
  },
  {
   "cell_type": "code",
   "execution_count": 33,
   "id": "32dc5624",
   "metadata": {},
   "outputs": [
    {
     "data": {
      "text/plain": [
       "array([[966,  26],\n",
       "       [ 27,   5]], dtype=int64)"
      ]
     },
     "execution_count": 33,
     "metadata": {},
     "output_type": "execute_result"
    }
   ],
   "source": [
    "from sklearn.metrics import confusion_matrix\n",
    "\n",
    "preds = np.array(1*(predictions > 0.4))\n",
    "confusion_matrix(ys, preds)"
   ]
  },
  {
   "cell_type": "code",
   "execution_count": 34,
   "id": "b6182675",
   "metadata": {},
   "outputs": [
    {
     "data": {
      "text/plain": [
       "[(0.25680867716853484, 1),\n",
       " (0.4098519763843962, 0),\n",
       " (0.42221481458020826, 0),\n",
       " (0.33044555167586337, 1),\n",
       " (0.40425141707868173, 0),\n",
       " (0.24959611014851937, 1),\n",
       " (0.25239433596257815, 1),\n",
       " (0.26089910443575887, 1),\n",
       " (0.4275251119542925, 0),\n",
       " (0.43703841021591333, 0),\n",
       " (0.2592502697451528, 1),\n",
       " (0.40870100957268585, 0),\n",
       " (0.25442755364156633, 1),\n",
       " (0.44135910736583644, 0),\n",
       " (0.43919822407476683, 0),\n",
       " (0.2859942840239157, 1),\n",
       " (0.37569507524432955, 1),\n",
       " (0.24352223955806543, 1),\n",
       " (0.45648961030787555, 0),\n",
       " (0.29389912699705567, 1),\n",
       " (0.415874409756452, 0),\n",
       " (0.42402970193448886, 0),\n",
       " (0.41493853135474745, 0),\n",
       " (0.31975289184920486, 1),\n",
       " (0.25014597403216215, 1),\n",
       " (0.3422344492717088, 1),\n",
       " (0.40267238905061165, 0),\n",
       " (0.42351330430094464, 0),\n",
       " (0.35275489127504683, 1),\n",
       " (0.4011248546673852, 0),\n",
       " (0.4517447102931649, 0),\n",
       " (0.38753846468888015, 1),\n",
       " (0.4657726004377856, 0),\n",
       " (0.4011044258228207, 0),\n",
       " (0.3299551577868459, 1),\n",
       " (0.2745642320300912, 1),\n",
       " (0.40477633024157805, 0),\n",
       " (0.4238239143813175, 0),\n",
       " (0.2535969559527945, 1),\n",
       " (0.24719324475091278, 1),\n",
       " (0.3398650346960338, 1),\n",
       " (0.2479833095168795, 1),\n",
       " (0.4033745083763107, 0),\n",
       " (0.2808216256521805, 1),\n",
       " (0.41442710981763003, 0),\n",
       " (0.41674414501983237, 0),\n",
       " (0.44674733124228516, 0),\n",
       " (0.2451943949828716, 1),\n",
       " (0.43242291063646343, 0),\n",
       " (0.38852936344126066, 1),\n",
       " (0.43030755864071857, 0),\n",
       " (0.26519896360847, 1),\n",
       " (0.2527850422203615, 1)]"
      ]
     },
     "execution_count": 34,
     "metadata": {},
     "output_type": "execute_result"
    }
   ],
   "source": [
    "[(x,y) for x,y in zip(predictions[preds != ys], np.array(ys)[preds != ys])]"
   ]
  },
  {
   "cell_type": "code",
   "execution_count": null,
   "id": "a45f7546",
   "metadata": {},
   "outputs": [],
   "source": []
  },
  {
   "cell_type": "markdown",
   "id": "102b9048",
   "metadata": {},
   "source": [
    "Training on Full (balanced) Dataset"
   ]
  },
  {
   "cell_type": "code",
   "execution_count": 3,
   "id": "459582e6",
   "metadata": {},
   "outputs": [
    {
     "data": {
      "text/plain": [
       "64"
      ]
     },
     "execution_count": 3,
     "metadata": {},
     "output_type": "execute_result"
    }
   ],
   "source": [
    "datasetMaker = PalindromeDatasetFull(10, True) # taking all palindromes, and en equal number of non-palindromes\n",
    "dataset = datasetMaker.generate_dataset()\n",
    "len(dataset)"
   ]
  },
  {
   "cell_type": "code",
   "execution_count": 6,
   "id": "f6735149",
   "metadata": {},
   "outputs": [],
   "source": [
    "def convert_to_form(dataset):\n",
    "    xs = []\n",
    "    ys = []\n",
    "    for x, y in dataset:\n",
    "        xs.append([int(k) for k in list(x)])\n",
    "        ys.append(y)\n",
    "    return xs, ys"
   ]
  },
  {
   "cell_type": "code",
   "execution_count": 14,
   "id": "2b1ddcee",
   "metadata": {},
   "outputs": [
    {
     "data": {
      "application/vnd.jupyter.widget-view+json": {
       "model_id": "6e83224aafe64d69a9b80292a8a07796",
       "version_major": 2,
       "version_minor": 0
      },
      "text/plain": [
       "  0%|          | 0/750 [00:00<?, ?it/s]"
      ]
     },
     "metadata": {},
     "output_type": "display_data"
    },
    {
     "name": "stdout",
     "output_type": "stream",
     "text": [
      "epoch 0 loss 42.8245\n",
      "epoch 50 loss 6.4867\n",
      "epoch 100 loss 4.4064\n",
      "epoch 150 loss 3.7196\n",
      "epoch 200 loss 3.4016\n",
      "epoch 250 loss 3.2083\n",
      "epoch 300 loss 3.0491\n",
      "epoch 350 loss 2.8730\n",
      "epoch 400 loss 2.6547\n",
      "epoch 450 loss 2.3971\n",
      "epoch 500 loss 2.1168\n",
      "epoch 550 loss 1.8303\n",
      "epoch 600 loss 1.5502\n",
      "epoch 650 loss 1.2886\n",
      "epoch 700 loss 1.0603\n"
     ]
    },
    {
     "data": {
      "image/png": "[encoded data removed]",
      "text/plain": [
       "<Figure size 432x288 with 1 Axes>"
      ]
     },
     "metadata": {
      "needs_background": "light"
     },
     "output_type": "display_data"
    }
   ],
   "source": [
    "from tqdm.notebook import tqdm\n",
    "import random\n",
    "\n",
    "random.shuffle(dataset)\n",
    "xs, ys = convert_to_form(dataset)\n",
    "\n",
    "losslog = []\n",
    "a = MLP(10, [2, 1])\n",
    "weight = 1. # added weight to try and counter the class imbalance\n",
    "nepochs = 750\n",
    "\n",
    "for step in tqdm(range(nepochs)) : \n",
    "    # forward pass\n",
    "    ypred = [a(x)[0] for x in xs]\n",
    "    # loss = sum((ypred-ytrue)**2 for ytrue, ypred in zip(ys, ypred)) # MSE\n",
    "    loss = sum(-weight*ytrue*ypred.log()-(1-ytrue)*(1-ypred).log() for ytrue, ypred in zip(ys, ypred)) # BCE\n",
    "    losslog.append(loss.data)\n",
    "    \n",
    "    a.zero_grad() # taken from Module class\n",
    "    loss.backward()\n",
    "    if step%50==0 : tqdm.write(f'epoch {step} loss {loss.data:.4f}')\n",
    "    \n",
    "    # update \n",
    "    for w in a.parameters() :\n",
    "        w.data -= 0.05 * w.grad # standard SGD for now\n",
    "\n",
    "plt.plot(losslog)\n",
    "plt.show()"
   ]
  },
  {
   "cell_type": "code",
   "execution_count": 16,
   "id": "08fdaed5",
   "metadata": {},
   "outputs": [
    {
     "data": {
      "text/plain": [
       "(0.9973993700014929, 2.725765208556592e-06)"
      ]
     },
     "execution_count": 16,
     "metadata": {},
     "output_type": "execute_result"
    }
   ],
   "source": [
    "predictions = np.array([a(k)[0].data for k in xs])\n",
    "max(predictions), min(predictions)"
   ]
  },
  {
   "cell_type": "code",
   "execution_count": 17,
   "id": "a9e854f4",
   "metadata": {},
   "outputs": [
    {
     "name": "stdout",
     "output_type": "stream",
     "text": [
      "Threshold 0.1 accuracy 0.9688 f1 0.9697\n",
      "Threshold 0.2 accuracy 0.9844 f1 0.9846\n",
      "Threshold 0.3 accuracy 1.0000 f1 1.0000\n",
      "Threshold 0.4 accuracy 1.0000 f1 1.0000\n",
      "Threshold 0.5 accuracy 1.0000 f1 1.0000\n",
      "Threshold 0.6 accuracy 1.0000 f1 1.0000\n",
      "Threshold 0.7 accuracy 1.0000 f1 1.0000\n",
      "Threshold 0.8 accuracy 1.0000 f1 1.0000\n",
      "Threshold 0.9 accuracy 0.9688 f1 0.9677\n"
     ]
    }
   ],
   "source": [
    "eps = 1e-8\n",
    "predictions = np.array([a(k)[0].data for k in xs])\n",
    "\n",
    "for i in range(1,10) :\n",
    "    thresh = i/10\n",
    "    preds = np.array(1*(predictions > thresh))\n",
    "\n",
    "    true_pos = sum([int(a==1 and b==1) for a,b in zip(preds, ys)])\n",
    "    true_neg = sum([int(a==0 and b==0) for a,b in zip(preds, ys)])\n",
    "    false_pos = sum([int(a==1 and b==0) for a,b in zip(preds, ys)])\n",
    "    false_neg = sum([int(a==0 and b==1) for a,b in zip(preds, ys)])\n",
    "\n",
    "    # true_pos = sum(np.array(ys)==1 and preds==1)\n",
    "    # true_neg = sum(np.array(ys)==0 and preds==0)\n",
    "    # false_pos = sum(np.array(ys)==0 and preds==1)\n",
    "    # false_neg = sum(np.array(ys)==1 and preds==0)\n",
    "\n",
    "    num_correct = true_neg + true_pos\n",
    "    prec = true_pos / (true_pos + false_pos + eps)\n",
    "    recall = true_pos / (true_pos + false_neg + eps)\n",
    "    f1 = 2*prec*recall / (prec + recall + eps)\n",
    "    acc = num_correct / len(ys)\n",
    "    print(f'Threshold {thresh:.1f} accuracy {acc:.4f} f1 {f1:.4f}')"
   ]
  },
  {
   "cell_type": "code",
   "execution_count": 38,
   "id": "6b13e3e5",
   "metadata": {},
   "outputs": [
    {
     "data": {
      "text/plain": [
       "(1, 1, 1024)"
      ]
     },
     "execution_count": 38,
     "metadata": {},
     "output_type": "execute_result"
    }
   ],
   "source": [
    "sum(ys[-32:]), sum(ys[:32]), len(ys)"
   ]
  },
  {
   "cell_type": "code",
   "execution_count": 29,
   "id": "a69fe11b",
   "metadata": {},
   "outputs": [
    {
     "data": {
      "text/plain": [
       "[(0, 0.9974219748470972),\n",
       " (0, 0.9974156757827071),\n",
       " (0, 0.997424877340942),\n",
       " (0, 0.997422448300127),\n",
       " (0, 0.9974226079930143),\n",
       " (0, 0.9974170665937605),\n",
       " (0, 0.9974218390235915),\n",
       " (0, 0.9974153837200147),\n",
       " (0, 0.997415781063096),\n",
       " (1, 0.9973993700014929)]"
      ]
     },
     "execution_count": 29,
     "metadata": {},
     "output_type": "execute_result"
    }
   ],
   "source": [
    "[(x,y) for x,y in zip(ys[-10:], predictions[-10:])]"
   ]
  },
  {
   "cell_type": "code",
   "execution_count": 37,
   "id": "1de43f00",
   "metadata": {},
   "outputs": [
    {
     "name": "stdout",
     "output_type": "stream",
     "text": [
      "0.1 0.16796875 0.06986899495738069\n",
      "0.2 0.2001953125 0.07248018050027638\n",
      "0.3 0.2236328125 0.07450523793056064\n",
      "0.4 0.228515625 0.07494145126754385\n",
      "0.5 0.2294921875 0.0750293075996586\n",
      "0.6 0.236328125 0.0756501174736348\n",
      "0.7 0.2509765625 0.07701564306029446\n",
      "0.8 0.263671875 0.07823960804825414\n",
      "0.9 0.3369140625 0.08119079754545239\n"
     ]
    },
    {
     "data": {
      "text/plain": [
       "array([[315, 677],\n",
       "       [  2,  30]], dtype=int64)"
      ]
     },
     "execution_count": 37,
     "metadata": {},
     "output_type": "execute_result"
    }
   ],
   "source": [
    "from sklearn.metrics import confusion_matrix\n",
    "\n",
    "# testing on full dataset\n",
    "test_datasetMaker = PalindromeDatasetFull(10)\n",
    "test_dataset = test_datasetMaker.generate_dataset()\n",
    "\n",
    "xs, ys = convert_to_form(test_dataset)\n",
    "\n",
    "predictions = np.array([a(k)[0].data for k in xs])\n",
    "\n",
    "for i in range(1,10) :\n",
    "    preds = 1*(predictions > i/10)\n",
    "\n",
    "    true_pos = sum([int(a==1 and b==1) for a,b in zip(preds, ys)])\n",
    "    true_neg = sum([int(a==0 and b==0) for a,b in zip(preds, ys)])\n",
    "    false_pos = sum([int(a==1 and b==0) for a,b in zip(preds, ys)])\n",
    "    false_neg = sum([int(a==0 and b==1) for a,b in zip(preds, ys)])\n",
    "\n",
    "    num_correct = true_neg + true_pos\n",
    "    prec = true_pos / (true_pos + false_pos + eps)\n",
    "    recall = true_pos / (true_pos + false_neg + eps)\n",
    "    f1 = 2*prec*recall / (prec + recall + eps)\n",
    "    acc = num_correct / len(ys)\n",
    "\n",
    "    print(i/10, acc, f1)\n",
    "\n",
    "confusion_matrix(ys, preds)"
   ]
  },
  {
   "cell_type": "code",
   "execution_count": 13,
   "id": "1240d073",
   "metadata": {},
   "outputs": [
    {
     "data": {
      "text/plain": [
       "(0.9997860711532294, 1.081999663284354e-06)"
      ]
     },
     "execution_count": 13,
     "metadata": {},
     "output_type": "execute_result"
    }
   ],
   "source": [
    "max(predictions), min(predictions)"
   ]
  }
 ],
 "metadata": {
  "kernelspec": {
   "display_name": "Python 3",
   "language": "python",
   "name": "python3"
  },
  "language_info": {
   "codemirror_mode": {
    "name": "ipython",
    "version": 3
   },
   "file_extension": ".py",
   "mimetype": "text/x-python",
   "name": "python",
   "nbconvert_exporter": "python",
   "pygments_lexer": "ipython3",
   "version": "3.12.1"
  }
 },
 "nbformat": 4,
 "nbformat_minor": 5
}
