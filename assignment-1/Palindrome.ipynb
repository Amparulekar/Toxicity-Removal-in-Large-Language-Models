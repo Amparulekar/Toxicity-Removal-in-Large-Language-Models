{
 "cells": [
  {
   "cell_type": "code",
   "execution_count": 1,
   "id": "543bfa46",
   "metadata": {},
   "outputs": [],
   "source": [
    "# importing the required libraries\n",
    "import numpy as np\n",
    "import matplotlib.pyplot as plt\n",
    "from tqdm.auto import tqdm"
   ]
  },
  {
   "cell_type": "code",
   "execution_count": 2,
   "id": "973d5036",
   "metadata": {},
   "outputs": [],
   "source": [
    "# importing the 'Value' type\n",
    "from utils import Value, MLP\n",
    "from utils import PalindromeDataset, PalindromeDatasetFull"
   ]
  },
  {
   "cell_type": "markdown",
   "id": "88e5d291",
   "metadata": {},
   "source": [
    "## Example : To show that the backprop implementation works"
   ]
  },
  {
   "cell_type": "code",
   "execution_count": 3,
   "id": "1614af77",
   "metadata": {},
   "outputs": [
    {
     "name": "stdout",
     "output_type": "stream",
     "text": [
      "Value(data=14) Value(data=7.0) 0 0 0 0 0 0\n",
      "Value(data=14) Value(data=7.0) 1.0 0.5 2.0 1.5 0.5 1\n"
     ]
    }
   ],
   "source": [
    "# Example computation\n",
    "a = Value(1)\n",
    "b = Value(2)\n",
    "c = Value(3)\n",
    "d = Value(4)\n",
    "\n",
    "e = a*b + c*d\n",
    "f = e/2.\n",
    "\n",
    "# checking final values and initial grads (should be zero)\n",
    "print(e, f, a.grad, b.grad, c.grad, d.grad, e.grad, f.grad)\n",
    "\n",
    "# backprop\n",
    "f.backward()\n",
    "\n",
    "# checking final grads\n",
    "print(e, f, a.grad, b.grad, c.grad, d.grad, e.grad, f.grad)"
   ]
  },
  {
   "cell_type": "markdown",
   "id": "d44debcc",
   "metadata": {},
   "source": [
    "## Testing the implementation of NN using dummy model and data"
   ]
  },
  {
   "cell_type": "code",
   "execution_count": 4,
   "id": "f4b436b4",
   "metadata": {},
   "outputs": [],
   "source": [
    "# showing the training of a simple NN, with some data\n",
    "# input dim=3, output dim=1, atchitecture : NN with 4 layers : 3,4,4,1 neurons resp\n",
    "from utils import MLP\n",
    "\n",
    "# testing the MLP \n",
    "xs = [\n",
    "    [2,3,-1],\n",
    "    [3,-1,0.5],\n",
    "    [0.5,1,1],\n",
    "    [1,1,-1]\n",
    "]\n",
    "ys = [1,-1,-1,1] # labels\n",
    "losslog = []\n",
    "a = MLP(3, [4,4,1])\n",
    "for step in range(200) : # 200 epochs\n",
    "    # forward pass\n",
    "    ypred = [a(x)[0] for x in xs]\n",
    "    loss = sum((ypred-ytrue)**2 for ytrue, ypred in zip(ys, ypred)) # MSE\n",
    "    losslog.append(loss.data)\n",
    "    \n",
    "    a.zero_grad() # taken from Module class\n",
    "    loss.backward()\n",
    "    \n",
    "    # update \n",
    "    for w in a.parameters() :\n",
    "        w.data -= 0.005 * w.grad # standard SGD for now"
   ]
  },
  {
   "cell_type": "code",
   "execution_count": 5,
   "id": "68c57004",
   "metadata": {},
   "outputs": [
    {
     "data": {
      "image/png": "[encoded data removed]",
      "text/plain": [
       "<Figure size 640x480 with 1 Axes>"
      ]
     },
     "metadata": {},
     "output_type": "display_data"
    }
   ],
   "source": [
    "plt.plot(losslog)\n",
    "plt.show()"
   ]
  },
  {
   "cell_type": "code",
   "execution_count": 6,
   "id": "7caa21cf",
   "metadata": {},
   "outputs": [
    {
     "data": {
      "text/plain": [
       "[Value(data=0.8442281397216626),\n",
       " Value(data=-0.8781425781240726),\n",
       " Value(data=-0.8376995370875562),\n",
       " Value(data=0.8563240746183143)]"
      ]
     },
     "execution_count": 6,
     "metadata": {},
     "output_type": "execute_result"
    }
   ],
   "source": [
    "# checking performance on the four data points\n",
    "# should be close to ys=[1,-1,-1,1]\n",
    "[a(x)[0] for x in xs]"
   ]
  },
  {
   "cell_type": "markdown",
   "id": "70337285",
   "metadata": {},
   "source": [
    "## Final Model Training"
   ]
  },
  {
   "cell_type": "code",
   "execution_count": 3,
   "id": "fec93123",
   "metadata": {},
   "outputs": [],
   "source": [
    "datasetMaker = PalindromeDataset(10)\n",
    "dataset = datasetMaker.generate_dataset(512, 512) # note that the dataset is balanced"
   ]
  },
  {
   "cell_type": "code",
   "execution_count": 4,
   "id": "bfb8b99c",
   "metadata": {},
   "outputs": [
    {
     "data": {
      "text/plain": [
       "1024"
      ]
     },
     "execution_count": 4,
     "metadata": {},
     "output_type": "execute_result"
    }
   ],
   "source": [
    "len(dataset)"
   ]
  },
  {
   "cell_type": "code",
   "execution_count": 5,
   "id": "237c4cf2",
   "metadata": {},
   "outputs": [],
   "source": [
    "def convert_to_form(dataset):\n",
    "    xs = []\n",
    "    ys = []\n",
    "    for x, y in dataset:\n",
    "        xs.append([int(k) for k in list(x)])\n",
    "        ys.append(y)\n",
    "    return xs, ys"
   ]
  },
  {
   "cell_type": "code",
   "execution_count": 6,
   "id": "72004fd8",
   "metadata": {},
   "outputs": [
    {
     "data": {
      "application/vnd.jupyter.widget-view+json": {
       "model_id": "d33c914c9a9c4fc5af45712bf7bef6f7",
       "version_major": 2,
       "version_minor": 0
      },
      "text/plain": [
       "  0%|          | 0/751 [00:00<?, ?it/s]"
      ]
     },
     "metadata": {},
     "output_type": "display_data"
    },
    {
     "name": "stdout",
     "output_type": "stream",
     "text": [
      "epoch 0 loss 711.3794\n",
      "epoch 50 loss 672.6159\n",
      "epoch 100 loss 505.5235\n",
      "epoch 150 loss 353.9375\n",
      "epoch 200 loss 128.7723\n",
      "epoch 250 loss 72.7497\n",
      "epoch 300 loss 50.2509\n",
      "epoch 350 loss 36.2794\n",
      "epoch 400 loss 27.1792\n",
      "epoch 450 loss 20.9476\n",
      "epoch 500 loss 16.7682\n",
      "epoch 550 loss 13.8930\n",
      "epoch 600 loss 11.8366\n",
      "epoch 650 loss 10.3048\n",
      "epoch 700 loss 9.1220\n",
      "epoch 750 loss 8.1813\n"
     ]
    }
   ],
   "source": [
    "# showing the training of a simple NN, with some data\n",
    "# input dim=10, output dim=1, architecture : NN with 1 hidden layers : 4 with neurons\n",
    "from utils import MLP\n",
    "from tqdm.auto import tqdm\n",
    "\n",
    "losslog = []\n",
    "a = MLP(10, [4, 1])\n",
    "weight = 1. # added weight to try and counter the class imbalance\n",
    "nepochs = 751\n",
    "\n",
    "xs, ys = convert_to_form(dataset)\n",
    "\n",
    "for step in tqdm(range(nepochs)) : \n",
    "    # forward pass\n",
    "    ypred = [a(x)[0] for x in xs]\n",
    "    # loss = sum((ypred-ytrue)**2 for ytrue, ypred in zip(ys, ypred)) # MSE\n",
    "    loss = sum(-weight*ytrue*ypred.log()-(1-ytrue)*(1-ypred).log() for ytrue, ypred in zip(ys, ypred)) # BCE\n",
    "    losslog.append(loss.data)\n",
    "    \n",
    "    a.zero_grad() # taken from Module class\n",
    "    loss.backward()\n",
    "\n",
    "    if step%50==0 : tqdm.write(f'epoch {step} loss {loss.data:.4f}')\n",
    "    \n",
    "    # update \n",
    "    for w in a.parameters() :\n",
    "        w.data -= 0.005 * w.grad # standard SGD for now"
   ]
  },
  {
   "cell_type": "code",
   "execution_count": 7,
   "id": "db8702a2",
   "metadata": {},
   "outputs": [
    {
     "data": {
      "image/png": "[encoded data removed]",
      "text/plain": [
       "<Figure size 432x288 with 1 Axes>"
      ]
     },
     "metadata": {
      "needs_background": "light"
     },
     "output_type": "display_data"
    }
   ],
   "source": [
    "plt.plot(losslog)\n",
    "plt.show()"
   ]
  },
  {
   "cell_type": "code",
   "execution_count": 8,
   "id": "2698bcf1",
   "metadata": {},
   "outputs": [
    {
     "name": "stdout",
     "output_type": "stream",
     "text": [
      "Threshold 0.1 accuracy 0.9961 f1 0.9961\n",
      "Threshold 0.2 accuracy 1.0000 f1 1.0000\n",
      "Threshold 0.3 accuracy 1.0000 f1 1.0000\n",
      "Threshold 0.4 accuracy 1.0000 f1 1.0000\n",
      "Threshold 0.5 accuracy 1.0000 f1 1.0000\n",
      "Threshold 0.6 accuracy 1.0000 f1 1.0000\n",
      "Threshold 0.7 accuracy 1.0000 f1 1.0000\n",
      "Threshold 0.8 accuracy 1.0000 f1 1.0000\n",
      "Threshold 0.9 accuracy 1.0000 f1 1.0000\n"
     ]
    }
   ],
   "source": [
    "eps = 1e-8\n",
    "predictions = np.array([a(k)[0].data for k in xs])\n",
    "\n",
    "for i in range(1,10) :\n",
    "    thresh = i/10\n",
    "    preds = np.array(1*(predictions > thresh))\n",
    "\n",
    "    true_pos = sum([int(a==1 and b==1) for a,b in zip(preds, ys)])\n",
    "    true_neg = sum([int(a==0 and b==0) for a,b in zip(preds, ys)])\n",
    "    false_pos = sum([int(a==1 and b==0) for a,b in zip(preds, ys)])\n",
    "    false_neg = sum([int(a==0 and b==1) for a,b in zip(preds, ys)])\n",
    "\n",
    "    # true_pos = sum(np.array(ys)==1 and preds==1)\n",
    "    # true_neg = sum(np.array(ys)==0 and preds==0)\n",
    "    # false_pos = sum(np.array(ys)==0 and preds==1)\n",
    "    # false_neg = sum(np.array(ys)==1 and preds==0)\n",
    "\n",
    "    num_correct = true_neg + true_pos\n",
    "    prec = true_pos / (true_pos + false_pos + eps)\n",
    "    recall = true_pos / (true_pos + false_neg + eps)\n",
    "    f1 = 2*prec*recall / (prec + recall + eps)\n",
    "    acc = num_correct / len(ys)\n",
    "    print(f'Threshold {thresh:.1f} accuracy {acc:.4f} f1 {f1:.4f}')"
   ]
  },
  {
   "cell_type": "code",
   "execution_count": 9,
   "id": "631a2432",
   "metadata": {},
   "outputs": [
    {
     "data": {
      "text/plain": [
       "(0.99405742881954, 5.738456171342238e-11)"
      ]
     },
     "execution_count": 9,
     "metadata": {},
     "output_type": "execute_result"
    }
   ],
   "source": [
    "max(predictions), min(predictions)"
   ]
  },
  {
   "cell_type": "code",
   "execution_count": 10,
   "id": "c452603c",
   "metadata": {},
   "outputs": [
    {
     "name": "stdout",
     "output_type": "stream",
     "text": [
      "0.1 0.970703125 0.6808510591942055\n",
      "0.2 0.986328125 0.8205128154635108\n",
      "0.3 0.9912109375 0.8767123236029274\n",
      "0.4 0.9931640625 0.901408445498909\n",
      "0.5 0.994140625 0.9142857090612244\n",
      "0.6 0.994140625 0.9142857090612244\n",
      "0.7 0.994140625 0.9142857090612244\n",
      "0.8 0.994140625 0.9142857090612244\n",
      "0.9 1.0 0.9999999946875\n"
     ]
    },
    {
     "data": {
      "text/plain": [
       "array([[992,   0],\n",
       "       [  0,  32]], dtype=int64)"
      ]
     },
     "execution_count": 10,
     "metadata": {},
     "output_type": "execute_result"
    }
   ],
   "source": [
    "from sklearn.metrics import confusion_matrix\n",
    "\n",
    "# testing on full dataset\n",
    "test_datasetMaker = PalindromeDatasetFull(10)\n",
    "test_dataset = test_datasetMaker.generate_dataset()\n",
    "\n",
    "xs, ys = convert_to_form(test_dataset)\n",
    "\n",
    "predictions = np.array([a(k)[0].data for k in xs])\n",
    "\n",
    "for i in range(1,10) :\n",
    "    preds = 1*(predictions > i/10)\n",
    "\n",
    "    true_pos = sum([int(a==1 and b==1) for a,b in zip(preds, ys)])\n",
    "    true_neg = sum([int(a==0 and b==0) for a,b in zip(preds, ys)])\n",
    "    false_pos = sum([int(a==1 and b==0) for a,b in zip(preds, ys)])\n",
    "    false_neg = sum([int(a==0 and b==1) for a,b in zip(preds, ys)])\n",
    "\n",
    "    num_correct = true_neg + true_pos\n",
    "    prec = true_pos / (true_pos + false_pos + eps)\n",
    "    recall = true_pos / (true_pos + false_neg + eps)\n",
    "    f1 = 2*prec*recall / (prec + recall + eps)\n",
    "    acc = num_correct / len(ys)\n",
    "\n",
    "    print(i/10, acc, f1)\n",
    "\n",
    "confusion_matrix(ys, preds)"
   ]
  },
  {
   "cell_type": "code",
   "execution_count": 12,
   "id": "d2ae11c2",
   "metadata": {},
   "outputs": [
    {
     "name": "stdout",
     "output_type": "stream",
     "text": [
      "0.9 1.0 0.9999999946875\n"
     ]
    },
    {
     "data": {
      "text/plain": [
       "array([[992,   0],\n",
       "       [  0,  32]], dtype=int64)"
      ]
     },
     "execution_count": 12,
     "metadata": {},
     "output_type": "execute_result"
    }
   ],
   "source": [
    "preds = 1*(predictions > 0.9)\n",
    "\n",
    "true_pos = sum([int(a==1 and b==1) for a,b in zip(preds, ys)])\n",
    "true_neg = sum([int(a==0 and b==0) for a,b in zip(preds, ys)])\n",
    "false_pos = sum([int(a==1 and b==0) for a,b in zip(preds, ys)])\n",
    "false_neg = sum([int(a==0 and b==1) for a,b in zip(preds, ys)])\n",
    "\n",
    "num_correct = true_neg + true_pos\n",
    "prec = true_pos / (true_pos + false_pos + eps)\n",
    "recall = true_pos / (true_pos + false_neg + eps)\n",
    "f1 = 2*prec*recall / (prec + recall + eps)\n",
    "acc = num_correct / len(ys)\n",
    "\n",
    "print(i/10, acc, f1)\n",
    "\n",
    "confusion_matrix(ys, preds)"
   ]
  },
  {
   "cell_type": "code",
   "execution_count": 40,
   "id": "033c38fb",
   "metadata": {},
   "outputs": [],
   "source": [
    "# loading the weights\n",
    "import pickle\n",
    "\n",
    "path = './model_wts.pkl'\n",
    "weights = [x.data for x in a.parameters()]\n",
    "\n",
    "with open(path, 'wb') as F :\n",
    "    pickle.dump(weights, F)"
   ]
  },
  {
   "cell_type": "code",
   "execution_count": 41,
   "id": "7d028d3a",
   "metadata": {},
   "outputs": [],
   "source": [
    "# loading the weights\n",
    "with open(path, 'rb') as F :\n",
    "    test = pickle.load(F)"
   ]
  },
  {
   "cell_type": "code",
   "execution_count": 57,
   "id": "26744fbe",
   "metadata": {},
   "outputs": [],
   "source": [
    "# function to evaluate the model given weight array\n",
    "def evaluate(weights, inp) :\n",
    "    # weights is a 49-len list\n",
    "    # input is a 10-len binary values list\n",
    "    \n",
    "    def sigmoid(x):\n",
    "        return 1 / (1 + np.exp(-x))\n",
    "\n",
    "    weights = np.array(weights)\n",
    "    inp = np.array(inp)\n",
    "\n",
    "    one = sum(weights[:10]*inp) + weights[10]\n",
    "    two = sum(weights[11:21]*inp) + weights[21]\n",
    "    three = sum(weights[22:32]*inp) + weights[32]\n",
    "    four = sum(weights[33:43]*inp) + weights[43]\n",
    "    vals = np.array([one, two, three, four])\n",
    "    vals = sigmoid(vals)\n",
    "    \n",
    "    return sigmoid(sum(weights[44:48]*vals) + weights[48])"
   ]
  }
 ],
 "metadata": {
  "kernelspec": {
   "display_name": "Python 3",
   "language": "python",
   "name": "python3"
  },
  "language_info": {
   "codemirror_mode": {
    "name": "ipython",
    "version": 3
   },
   "file_extension": ".py",
   "mimetype": "text/x-python",
   "name": "python",
   "nbconvert_exporter": "python",
   "pygments_lexer": "ipython3",
   "version": "3.12.1"
  }
 },
 "nbformat": 4,
 "nbformat_minor": 5
}
