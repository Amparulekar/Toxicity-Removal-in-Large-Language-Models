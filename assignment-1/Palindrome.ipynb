{
 "cells": [
  {
   "cell_type": "code",
   "execution_count": 1,
   "id": "543bfa46",
   "metadata": {},
   "outputs": [],
   "source": [
    "# importing the required libraries\n",
    "import numpy as np\n",
    "import matplotlib.pyplot as plt\n",
    "from tqdm.auto import tqdm"
   ]
  },
  {
   "cell_type": "code",
   "execution_count": 2,
   "id": "973d5036",
   "metadata": {},
   "outputs": [],
   "source": [
    "# importing the 'Value' type\n",
    "from utils import Value, MLP\n",
    "from utils import PalindromeDataset, PalindromeDatasetFull"
   ]
  },
  {
   "cell_type": "code",
   "execution_count": 3,
   "id": "1614af77",
   "metadata": {},
   "outputs": [
    {
     "name": "stdout",
     "output_type": "stream",
     "text": [
      "Value(data=14) Value(data=7.0) 0 0 0 0 0 0\n",
      "Value(data=14) Value(data=7.0) 1.0 0.5 2.0 1.5 0.5 1\n"
     ]
    }
   ],
   "source": [
    "# Example computation\n",
    "a = Value(1)\n",
    "b = Value(2)\n",
    "c = Value(3)\n",
    "d = Value(4)\n",
    "\n",
    "e = a*b + c*d\n",
    "f = e/2.\n",
    "\n",
    "# checking final values and initial grads (should be zero)\n",
    "print(e, f, a.grad, b.grad, c.grad, d.grad, e.grad, f.grad)\n",
    "\n",
    "# backprop\n",
    "f.backward()\n",
    "\n",
    "# checking final grads\n",
    "print(e, f, a.grad, b.grad, c.grad, d.grad, e.grad, f.grad)"
   ]
  },
  {
   "cell_type": "code",
   "execution_count": 4,
   "id": "f4b436b4",
   "metadata": {},
   "outputs": [],
   "source": [
    "# showing the training of a simple NN, with some data\n",
    "# input dim=3, output dim=1, atchitecture : NN with 4 layers : 3,4,4,1 neurons resp\n",
    "from utils import MLP\n",
    "\n",
    "# testing the MLP \n",
    "xs = [\n",
    "    [2,3,-1],\n",
    "    [3,-1,0.5],\n",
    "    [0.5,1,1],\n",
    "    [1,1,-1]\n",
    "]\n",
    "ys = [1,-1,-1,1] # labels\n",
    "losslog = []\n",
    "a = MLP(3, [4,4,1])\n",
    "for step in range(200) : # 200 epochs\n",
    "    # forward pass\n",
    "    ypred = [a(x)[0] for x in xs]\n",
    "    loss = sum((ypred-ytrue)**2 for ytrue, ypred in zip(ys, ypred)) # MSE\n",
    "    losslog.append(loss.data)\n",
    "    \n",
    "    a.zero_grad() # taken from Module class\n",
    "    loss.backward()\n",
    "    \n",
    "    # update \n",
    "    for w in a.parameters() :\n",
    "        w.data -= 0.005 * w.grad # standard SGD for now"
   ]
  },
  {
   "cell_type": "code",
   "execution_count": 5,
   "id": "68c57004",
   "metadata": {},
   "outputs": [
    {
     "data": {
      "image/png": "[encoded data removed]",
      "text/plain": [
       "<Figure size 640x480 with 1 Axes>"
      ]
     },
     "metadata": {},
     "output_type": "display_data"
    }
   ],
   "source": [
    "plt.plot(losslog)\n",
    "plt.show()"
   ]
  },
  {
   "cell_type": "code",
   "execution_count": 6,
   "id": "7caa21cf",
   "metadata": {},
   "outputs": [
    {
     "data": {
      "text/plain": [
       "[Value(data=0.8442281397216626),\n",
       " Value(data=-0.8781425781240726),\n",
       " Value(data=-0.8376995370875562),\n",
       " Value(data=0.8563240746183143)]"
      ]
     },
     "execution_count": 6,
     "metadata": {},
     "output_type": "execute_result"
    }
   ],
   "source": [
    "# checking performance on the four data points\n",
    "# should be close to ys=[1,-1,-1,1]\n",
    "[a(x)[0] for x in xs]"
   ]
  },
  {
   "cell_type": "code",
   "execution_count": 4,
   "id": "fec93123",
   "metadata": {},
   "outputs": [],
   "source": [
    "datasetMaker = PalindromeDataset(10)\n",
    "dataset = datasetMaker.generate_dataset(512, 512)"
   ]
  },
  {
   "cell_type": "code",
   "execution_count": 5,
   "id": "bfb8b99c",
   "metadata": {},
   "outputs": [
    {
     "data": {
      "text/plain": [
       "1024"
      ]
     },
     "execution_count": 5,
     "metadata": {},
     "output_type": "execute_result"
    }
   ],
   "source": [
    "len(dataset)"
   ]
  },
  {
   "cell_type": "code",
   "execution_count": 6,
   "id": "237c4cf2",
   "metadata": {},
   "outputs": [],
   "source": [
    "def convert_to_form(dataset):\n",
    "    xs = []\n",
    "    ys = []\n",
    "    for x, y in dataset:\n",
    "        xs.append([int(k) for k in list(x)])\n",
    "        ys.append(y)\n",
    "    return xs, ys"
   ]
  },
  {
   "cell_type": "code",
   "execution_count": 7,
   "id": "72004fd8",
   "metadata": {},
   "outputs": [
    {
     "data": {
      "application/vnd.jupyter.widget-view+json": {
       "model_id": "80b1e318c34b4bba85b41f3b8e249aec",
       "version_major": 2,
       "version_minor": 0
      },
      "text/plain": [
       "  0%|          | 0/751 [00:00<?, ?it/s]"
      ]
     },
     "metadata": {},
     "output_type": "display_data"
    },
    {
     "name": "stdout",
     "output_type": "stream",
     "text": [
      "epoch 0 loss 788.3568\n",
      "epoch 50 loss 696.9919\n",
      "epoch 100 loss 758.2818\n",
      "epoch 150 loss 733.6958\n",
      "epoch 200 loss 461.9446\n",
      "epoch 250 loss 300.3326\n",
      "epoch 300 loss 182.5484\n",
      "epoch 350 loss 98.8221\n",
      "epoch 400 loss 49.6473\n",
      "epoch 450 loss 36.6525\n",
      "epoch 500 loss 29.3177\n",
      "epoch 550 loss 24.2300\n",
      "epoch 600 loss 20.1680\n",
      "epoch 650 loss 16.9218\n",
      "epoch 700 loss 14.3778\n",
      "epoch 750 loss 12.3834\n"
     ]
    }
   ],
   "source": [
    "# showing the training of a simple NN, with some data\n",
    "# input dim=10, output dim=1, architecture : NN with 1 hidden layers : 4 with neurons\n",
    "from utils import MLP\n",
    "from tqdm.auto import tqdm\n",
    "\n",
    "losslog = []\n",
    "a = MLP(10, [4, 1])\n",
    "weight = 1. # added weight to try and counter the class imbalance\n",
    "nepochs = 751\n",
    "\n",
    "xs, ys = convert_to_form(dataset)\n",
    "\n",
    "for step in tqdm(range(nepochs)) : \n",
    "    # forward pass\n",
    "    ypred = [a(x)[0] for x in xs]\n",
    "    # loss = sum((ypred-ytrue)**2 for ytrue, ypred in zip(ys, ypred)) # MSE\n",
    "    loss = sum(-weight*ytrue*ypred.log()-(1-ytrue)*(1-ypred).log() for ytrue, ypred in zip(ys, ypred)) # BCE\n",
    "    losslog.append(loss.data)\n",
    "    \n",
    "    a.zero_grad() # taken from Module class\n",
    "    loss.backward()\n",
    "\n",
    "    if step%50==0 : tqdm.write(f'epoch {step} loss {loss.data:.4f}')\n",
    "    \n",
    "    # update \n",
    "    for w in a.parameters() :\n",
    "        w.data -= 0.005 * w.grad # standard SGD for now"
   ]
  },
  {
   "cell_type": "code",
   "execution_count": 8,
   "id": "db8702a2",
   "metadata": {},
   "outputs": [
    {
     "data": {
      "image/png": "[encoded data removed]",
      "text/plain": [
       "<Figure size 432x288 with 1 Axes>"
      ]
     },
     "metadata": {
      "needs_background": "light"
     },
     "output_type": "display_data"
    }
   ],
   "source": [
    "plt.plot(losslog)\n",
    "plt.show()"
   ]
  },
  {
   "cell_type": "code",
   "execution_count": 9,
   "id": "2698bcf1",
   "metadata": {},
   "outputs": [
    {
     "name": "stdout",
     "output_type": "stream",
     "text": [
      "Threshold 0.1 accuracy 0.9941 f1 0.9942\n",
      "Threshold 0.2 accuracy 0.9971 f1 0.9971\n",
      "Threshold 0.3 accuracy 0.9980 f1 0.9981\n",
      "Threshold 0.4 accuracy 0.9990 f1 0.9990\n",
      "Threshold 0.5 accuracy 1.0000 f1 1.0000\n",
      "Threshold 0.6 accuracy 1.0000 f1 1.0000\n",
      "Threshold 0.7 accuracy 1.0000 f1 1.0000\n",
      "Threshold 0.8 accuracy 1.0000 f1 1.0000\n",
      "Threshold 0.9 accuracy 1.0000 f1 1.0000\n"
     ]
    }
   ],
   "source": [
    "eps = 1e-8\n",
    "predictions = np.array([a(k)[0].data for k in xs])\n",
    "\n",
    "for i in range(1,10) :\n",
    "    thresh = i/10\n",
    "    preds = np.array(1*(predictions > thresh))\n",
    "\n",
    "    true_pos = sum([int(a==1 and b==1) for a,b in zip(preds, ys)])\n",
    "    true_neg = sum([int(a==0 and b==0) for a,b in zip(preds, ys)])\n",
    "    false_pos = sum([int(a==1 and b==0) for a,b in zip(preds, ys)])\n",
    "    false_neg = sum([int(a==0 and b==1) for a,b in zip(preds, ys)])\n",
    "\n",
    "    # true_pos = sum(np.array(ys)==1 and preds==1)\n",
    "    # true_neg = sum(np.array(ys)==0 and preds==0)\n",
    "    # false_pos = sum(np.array(ys)==0 and preds==1)\n",
    "    # false_neg = sum(np.array(ys)==1 and preds==0)\n",
    "\n",
    "    num_correct = true_neg + true_pos\n",
    "    prec = true_pos / (true_pos + false_pos + eps)\n",
    "    recall = true_pos / (true_pos + false_neg + eps)\n",
    "    f1 = 2*prec*recall / (prec + recall + eps)\n",
    "    acc = num_correct / len(ys)\n",
    "    print(f'Threshold {thresh:.1f} accuracy {acc:.4f} f1 {f1:.4f}')"
   ]
  },
  {
   "cell_type": "code",
   "execution_count": 10,
   "id": "631a2432",
   "metadata": {},
   "outputs": [
    {
     "data": {
      "text/plain": [
       "(0.9955405997766498, 2.2640556458076842e-08)"
      ]
     },
     "execution_count": 10,
     "metadata": {},
     "output_type": "execute_result"
    }
   ],
   "source": [
    "max(predictions), min(predictions)"
   ]
  },
  {
   "cell_type": "code",
   "execution_count": 11,
   "id": "c452603c",
   "metadata": {},
   "outputs": [
    {
     "name": "stdout",
     "output_type": "stream",
     "text": [
      "0.1 0.9501953125 0.5565217350170133\n",
      "0.2 0.96484375 0.6399999955200001\n",
      "0.3 0.9677734375 0.6597938098756511\n",
      "0.4 0.9697265625 0.6736842059168976\n",
      "0.5 0.97265625 0.6956521692249528\n",
      "0.6 0.9755859375 0.7191011188284308\n",
      "0.7 0.98046875 0.7619047570068028\n",
      "0.8 0.9833984375 0.7901234518152721\n",
      "0.9 0.986328125 0.8205128154635108\n"
     ]
    },
    {
     "data": {
      "text/plain": [
       "array([[978,  14],\n",
       "       [  0,  32]], dtype=int64)"
      ]
     },
     "execution_count": 11,
     "metadata": {},
     "output_type": "execute_result"
    }
   ],
   "source": [
    "from sklearn.metrics import confusion_matrix\n",
    "\n",
    "# testing on full dataset\n",
    "test_datasetMaker = PalindromeDatasetFull(10)\n",
    "test_dataset = test_datasetMaker.generate_dataset()\n",
    "\n",
    "xs, ys = convert_to_form(test_dataset)\n",
    "\n",
    "predictions = np.array([a(k)[0].data for k in xs])\n",
    "\n",
    "for i in range(1,10) :\n",
    "    preds = 1*(predictions > i/10)\n",
    "\n",
    "    true_pos = sum([int(a==1 and b==1) for a,b in zip(preds, ys)])\n",
    "    true_neg = sum([int(a==0 and b==0) for a,b in zip(preds, ys)])\n",
    "    false_pos = sum([int(a==1 and b==0) for a,b in zip(preds, ys)])\n",
    "    false_neg = sum([int(a==0 and b==1) for a,b in zip(preds, ys)])\n",
    "\n",
    "    num_correct = true_neg + true_pos\n",
    "    prec = true_pos / (true_pos + false_pos + eps)\n",
    "    recall = true_pos / (true_pos + false_neg + eps)\n",
    "    f1 = 2*prec*recall / (prec + recall + eps)\n",
    "    acc = num_correct / len(ys)\n",
    "\n",
    "    print(i/10, acc, f1)\n",
    "\n",
    "confusion_matrix(ys, preds)"
   ]
  },
  {
   "cell_type": "code",
   "execution_count": 16,
   "id": "d2ae11c2",
   "metadata": {},
   "outputs": [
    {
     "name": "stdout",
     "output_type": "stream",
     "text": [
      "0.9 0.98828125 0.8421052580609418\n"
     ]
    },
    {
     "data": {
      "text/plain": [
       "array([[980,  12],\n",
       "       [  0,  32]], dtype=int64)"
      ]
     },
     "execution_count": 16,
     "metadata": {},
     "output_type": "execute_result"
    }
   ],
   "source": [
    "preds = 1*(predictions > 0.98)\n",
    "\n",
    "true_pos = sum([int(a==1 and b==1) for a,b in zip(preds, ys)])\n",
    "true_neg = sum([int(a==0 and b==0) for a,b in zip(preds, ys)])\n",
    "false_pos = sum([int(a==1 and b==0) for a,b in zip(preds, ys)])\n",
    "false_neg = sum([int(a==0 and b==1) for a,b in zip(preds, ys)])\n",
    "\n",
    "num_correct = true_neg + true_pos\n",
    "prec = true_pos / (true_pos + false_pos + eps)\n",
    "recall = true_pos / (true_pos + false_neg + eps)\n",
    "f1 = 2*prec*recall / (prec + recall + eps)\n",
    "acc = num_correct / len(ys)\n",
    "\n",
    "print(i/10, acc, f1)\n",
    "\n",
    "confusion_matrix(ys, preds)"
   ]
  },
  {
   "cell_type": "code",
   "execution_count": null,
   "id": "ff65903f",
   "metadata": {},
   "outputs": [],
   "source": []
  },
  {
   "cell_type": "code",
   "execution_count": null,
   "id": "d6e85f59",
   "metadata": {},
   "outputs": [],
   "source": []
  },
  {
   "cell_type": "code",
   "execution_count": null,
   "id": "2ce30bc7",
   "metadata": {},
   "outputs": [],
   "source": []
  }
 ],
 "metadata": {
  "kernelspec": {
   "display_name": "Python 3",
   "language": "python",
   "name": "python3"
  },
  "language_info": {
   "codemirror_mode": {
    "name": "ipython",
    "version": 3
   },
   "file_extension": ".py",
   "mimetype": "text/x-python",
   "name": "python",
   "nbconvert_exporter": "python",
   "pygments_lexer": "ipython3",
   "version": "3.8.8"
  }
 },
 "nbformat": 4,
 "nbformat_minor": 5
}
