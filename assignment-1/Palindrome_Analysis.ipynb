{
 "cells": [
  {
   "cell_type": "code",
   "execution_count": 35,
   "id": "543bfa46",
   "metadata": {
    "scrolled": true
   },
   "outputs": [],
   "source": [
    "# importing the required libraries\n",
    "import numpy as np\n",
    "import matplotlib.pyplot as plt\n",
    "from tqdm.auto import tqdm"
   ]
  },
  {
   "cell_type": "code",
   "execution_count": 3,
   "id": "973d5036",
   "metadata": {},
   "outputs": [],
   "source": [
    "# importing the 'Value' type\n",
    "from utils import Value, MLP\n",
    "from utils import PalindromeDataset, PalindromeDatasetFull"
   ]
  },
  {
   "cell_type": "code",
   "execution_count": 4,
   "id": "fec93123",
   "metadata": {},
   "outputs": [],
   "source": [
    "datasetMaker = PalindromeDataset(10)\n",
    "dataset = datasetMaker.generate_dataset(512, 512)"
   ]
  },
  {
   "cell_type": "code",
   "execution_count": 5,
   "id": "bfb8b99c",
   "metadata": {},
   "outputs": [
    {
     "data": {
      "text/plain": [
       "1024"
      ]
     },
     "execution_count": 5,
     "metadata": {},
     "output_type": "execute_result"
    }
   ],
   "source": [
    "len(dataset)"
   ]
  },
  {
   "cell_type": "code",
   "execution_count": 6,
   "id": "237c4cf2",
   "metadata": {},
   "outputs": [],
   "source": [
    "def convert_to_form(dataset):\n",
    "    xs = []\n",
    "    ys = []\n",
    "    for x, y in dataset:\n",
    "        xs.append([int(k) for k in list(x)])\n",
    "        ys.append(y)\n",
    "    return xs, ys"
   ]
  },
  {
   "cell_type": "code",
   "execution_count": 7,
   "id": "72004fd8",
   "metadata": {},
   "outputs": [
    {
     "data": {
      "application/vnd.jupyter.widget-view+json": {
       "model_id": "818422b5db5645f6b0cbd9c947512ba7",
       "version_major": 2,
       "version_minor": 0
      },
      "text/plain": [
       "  0%|          | 0/751 [00:00<?, ?it/s]"
      ]
     },
     "metadata": {},
     "output_type": "display_data"
    },
    {
     "name": "stdout",
     "output_type": "stream",
     "text": [
      "epoch 0 loss 821.5827\n",
      "epoch 50 loss 669.8101\n",
      "epoch 100 loss 493.9504\n",
      "epoch 150 loss 380.9004\n",
      "epoch 200 loss 258.1078\n",
      "epoch 250 loss 196.4732\n",
      "epoch 300 loss 154.6927\n",
      "epoch 350 loss 124.6852\n",
      "epoch 400 loss 104.5145\n",
      "epoch 450 loss 90.4343\n",
      "epoch 500 loss 79.2013\n",
      "epoch 550 loss 69.8971\n",
      "epoch 600 loss 62.1629\n",
      "epoch 650 loss 55.6880\n",
      "epoch 700 loss 49.9954\n",
      "epoch 750 loss 44.6822\n"
     ]
    }
   ],
   "source": [
    "# input dim=10, output dim=1, architecture : NN with 1 hidden layer : 4 with neurons\n",
    "\n",
    "losslog = []\n",
    "a = MLP(10, [4, 1])\n",
    "weight = 1. # added weight to try and counter the class imbalance\n",
    "nepochs = 751\n",
    "\n",
    "xs, ys = convert_to_form(dataset)\n",
    "\n",
    "for step in tqdm(range(nepochs)) : \n",
    "    # forward pass\n",
    "    ypred = [a(x)[0] for x in xs]\n",
    "    # loss = sum((ypred-ytrue)**2 for ytrue, ypred in zip(ys, ypred)) # MSE\n",
    "    loss = sum(-weight*ytrue*ypred.log()-(1-ytrue)*(1-ypred).log() for ytrue, ypred in zip(ys, ypred)) # BCE\n",
    "    losslog.append(loss.data)\n",
    "    \n",
    "    a.zero_grad() # taken from Module class\n",
    "    loss.backward()\n",
    "\n",
    "    if step%50==0 : tqdm.write(f'epoch {step} loss {loss.data:.4f}')\n",
    "    \n",
    "    # update \n",
    "    for w in a.parameters() :\n",
    "        w.data -= 0.005 * w.grad # standard SGD for now"
   ]
  },
  {
   "cell_type": "code",
   "execution_count": 8,
   "id": "db8702a2",
   "metadata": {},
   "outputs": [
    {
     "data": {
      "image/png": "[encoded data removed]",
      "text/plain": [
       "<Figure size 432x288 with 1 Axes>"
      ]
     },
     "metadata": {
      "needs_background": "light"
     },
     "output_type": "display_data"
    }
   ],
   "source": [
    "plt.plot(losslog)\n",
    "plt.show()"
   ]
  },
  {
   "cell_type": "code",
   "execution_count": 9,
   "id": "2698bcf1",
   "metadata": {},
   "outputs": [
    {
     "name": "stdout",
     "output_type": "stream",
     "text": [
      "Threshold 0.1 accuracy 0.9424 f1 0.9455\n",
      "Threshold 0.2 accuracy 0.9551 f1 0.9570\n",
      "Threshold 0.3 accuracy 0.9600 f1 0.9615\n",
      "Threshold 0.4 accuracy 0.9688 f1 0.9697\n",
      "Threshold 0.5 accuracy 0.9775 f1 0.9780\n",
      "Threshold 0.6 accuracy 0.9824 f1 0.9827\n",
      "Threshold 0.7 accuracy 0.9883 f1 0.9884\n",
      "Threshold 0.8 accuracy 0.9932 f1 0.9932\n",
      "Threshold 0.9 accuracy 0.9961 f1 0.9961\n"
     ]
    }
   ],
   "source": [
    "eps = 1e-8\n",
    "predictions = np.array([a(k)[0].data for k in xs])\n",
    "\n",
    "for i in range(1,10) :\n",
    "    thresh = i/10\n",
    "    preds = np.array(1*(predictions > thresh))\n",
    "\n",
    "    true_pos = sum([int(a==1 and b==1) for a,b in zip(preds, ys)])\n",
    "    true_neg = sum([int(a==0 and b==0) for a,b in zip(preds, ys)])\n",
    "    false_pos = sum([int(a==1 and b==0) for a,b in zip(preds, ys)])\n",
    "    false_neg = sum([int(a==0 and b==1) for a,b in zip(preds, ys)])\n",
    "\n",
    "    # true_pos = sum(np.array(ys)==1 and preds==1)\n",
    "    # true_neg = sum(np.array(ys)==0 and preds==0)\n",
    "    # false_pos = sum(np.array(ys)==0 and preds==1)\n",
    "    # false_neg = sum(np.array(ys)==1 and preds==0)\n",
    "\n",
    "    num_correct = true_neg + true_pos\n",
    "    prec = true_pos / (true_pos + false_pos + eps)\n",
    "    recall = true_pos / (true_pos + false_neg + eps)\n",
    "    f1 = 2*prec*recall / (prec + recall + eps)\n",
    "    acc = num_correct / len(ys)\n",
    "    print(f'Threshold {thresh:.1f} accuracy {acc:.4f} f1 {f1:.4f}')"
   ]
  },
  {
   "cell_type": "code",
   "execution_count": 10,
   "id": "631a2432",
   "metadata": {},
   "outputs": [
    {
     "data": {
      "text/plain": [
       "(0.9988894667923126, 3.0223320472428493e-05)"
      ]
     },
     "execution_count": 10,
     "metadata": {},
     "output_type": "execute_result"
    }
   ],
   "source": [
    "max(predictions), min(predictions)"
   ]
  },
  {
   "cell_type": "code",
   "execution_count": 11,
   "id": "c452603c",
   "metadata": {},
   "outputs": [
    {
     "name": "stdout",
     "output_type": "stream",
     "text": [
      "0.1 0.8125 0.24999999779296878\n",
      "0.2 0.8310546875 0.27004219173423066\n",
      "0.3 0.8515625 0.296296293744856\n",
      "0.4 0.8681640625 0.3216080374697609\n",
      "0.5 0.884765625 0.3516483487115083\n",
      "0.6 0.900390625 0.3855421655160401\n",
      "0.7 0.916015625 0.4266666632533334\n",
      "0.8 0.9404296875 0.5119999961088001\n",
      "0.9 0.9619140625 0.6213592188971628\n"
     ]
    }
   ],
   "source": [
    "# Testing on the complete dataset to decide on what to take as the threshold for predictions\n",
    "\n",
    "\n",
    "# testing on full dataset\n",
    "test_datasetMaker = PalindromeDatasetFull(10)\n",
    "test_dataset = test_datasetMaker.generate_dataset()\n",
    "\n",
    "xs, ys = convert_to_form(test_dataset)\n",
    "\n",
    "predictions = np.array([a(k)[0].data for k in xs])\n",
    "\n",
    "for i in range(1,10) :\n",
    "    preds = 1*(predictions > i/10)\n",
    "\n",
    "    true_pos = sum([int(a==1 and b==1) for a,b in zip(preds, ys)])\n",
    "    true_neg = sum([int(a==0 and b==0) for a,b in zip(preds, ys)])\n",
    "    false_pos = sum([int(a==1 and b==0) for a,b in zip(preds, ys)])\n",
    "    false_neg = sum([int(a==0 and b==1) for a,b in zip(preds, ys)])\n",
    "\n",
    "    num_correct = true_neg + true_pos\n",
    "    prec = true_pos / (true_pos + false_pos + eps)\n",
    "    recall = true_pos / (true_pos + false_neg + eps)\n",
    "    f1 = 2*prec*recall / (prec + recall + eps)\n",
    "    acc = num_correct / len(ys)\n",
    "\n",
    "    print(i/10, acc, f1)\n",
    "\n",
    "#confusion_matrix(ys, preds)"
   ]
  },
  {
   "cell_type": "markdown",
   "id": "f4463d55",
   "metadata": {},
   "source": [
    "A Theshold of 0.98 seems to do the best job at the required classification.  \n",
    "We use this value for the threshold for all our analysis"
   ]
  },
  {
   "cell_type": "code",
   "execution_count": 97,
   "id": "d2ae11c2",
   "metadata": {},
   "outputs": [
    {
     "name": "stdout",
     "output_type": "stream",
     "text": [
      "0.98 0.9755859375 0.6376811542617098\n",
      "Precision : 0.5946\n"
     ]
    },
    {
     "data": {
      "text/plain": [
       "array([[977,  15],\n",
       "       [ 10,  22]], dtype=int64)"
      ]
     },
     "execution_count": 97,
     "metadata": {},
     "output_type": "execute_result"
    }
   ],
   "source": [
    "from sklearn.metrics import confusion_matrix\n",
    "\n",
    "THRESH = 0.99\n",
    "preds = 1*(predictions > THRESH)\n",
    "true_pos = sum([int(a==1 and b==1) for a,b in zip(preds, ys)])\n",
    "true_neg = sum([int(a==0 and b==0) for a,b in zip(preds, ys)])\n",
    "false_pos = sum([int(a==1 and b==0) for a,b in zip(preds, ys)])\n",
    "false_neg = sum([int(a==0 and b==1) for a,b in zip(preds, ys)])\n",
    "\n",
    "num_correct = true_neg + true_pos\n",
    "prec = true_pos / (true_pos + false_pos + eps)\n",
    "recall = true_pos / (true_pos + false_neg + eps)\n",
    "f1 = 2*prec*recall / (prec + recall + eps)\n",
    "acc = num_correct / len(ys)\n",
    "\n",
    "print(0.98, acc, f1)\n",
    "print(f'Precision : {prec:.4f}')\n",
    "\n",
    "confusion_matrix(ys, preds)"
   ]
  },
  {
   "cell_type": "code",
   "execution_count": 23,
   "id": "d59e0a78",
   "metadata": {},
   "outputs": [
    {
     "name": "stdout",
     "output_type": "stream",
     "text": [
      "22\n",
      "977\n",
      "15\n",
      "10\n"
     ]
    }
   ],
   "source": [
    "print(true_pos)\n",
    "print(true_neg)\n",
    "print(false_pos)\n",
    "print(false_neg)"
   ]
  },
  {
   "cell_type": "code",
   "execution_count": 24,
   "id": "ff65903f",
   "metadata": {},
   "outputs": [
    {
     "name": "stdout",
     "output_type": "stream",
     "text": [
      "[Value(data=0.2330348921280511), Value(data=0.5773196377983187), Value(data=0.22051386678874882), Value(data=0.8498586612192797)]\n"
     ]
    }
   ],
   "source": [
    "#print(a)\n",
    "#print(dir(MLP))\n",
    "print(a.hidden_layer_act(xs[0]))\n"
   ]
  },
  {
   "cell_type": "code",
   "execution_count": 25,
   "id": "d6e85f59",
   "metadata": {},
   "outputs": [],
   "source": [
    "preds = 1*(predictions > THRESH)\n",
    "\n",
    "true_pos_x = []\n",
    "true_neg_x = []\n",
    "false_pos_x = []\n",
    "false_neg_x = []\n",
    "\n",
    "for i in range(len(preds)):\n",
    "    if(preds[i]==1 and ys[i]==1):\n",
    "        true_pos_x.append(xs[i])\n",
    "    if(preds[i]==0 and ys[i]==0):\n",
    "        true_neg_x.append(xs[i])\n",
    "    if(preds[i]==1 and ys[i]==0):\n",
    "        false_pos_x.append(xs[i])\n",
    "    if(preds[i]==0 and ys[i]==1):\n",
    "        false_neg_x.append(xs[i])\n",
    "\n"
   ]
  },
  {
   "cell_type": "code",
   "execution_count": 29,
   "id": "2ce30bc7",
   "metadata": {},
   "outputs": [],
   "source": [
    "true_pos_act_1 = np.array([a.hidden_layer_act(k)[0].data for k in true_pos_x])\n",
    "true_pos_act_2 = np.array([a.hidden_layer_act(k)[1].data for k in true_pos_x])\n",
    "true_pos_act_3 = np.array([a.hidden_layer_act(k)[2].data for k in true_pos_x])\n",
    "true_pos_act_4 = np.array([a.hidden_layer_act(k)[3].data for k in true_pos_x])\n",
    "\n",
    "false_pos_act_1 = np.array([a.hidden_layer_act(k)[0].data for k in false_pos_x])\n",
    "false_pos_act_2 = np.array([a.hidden_layer_act(k)[1].data for k in false_pos_x])\n",
    "false_pos_act_3 = np.array([a.hidden_layer_act(k)[2].data for k in false_pos_x])\n",
    "false_pos_act_4 = np.array([a.hidden_layer_act(k)[3].data for k in false_pos_x])\n",
    "\n",
    "true_neg_act_1 = np.array([a.hidden_layer_act(k)[0].data for k in true_neg_x])\n",
    "true_neg_act_2 = np.array([a.hidden_layer_act(k)[1].data for k in true_neg_x])\n",
    "true_neg_act_3 = np.array([a.hidden_layer_act(k)[2].data for k in true_neg_x])\n",
    "true_neg_act_4 = np.array([a.hidden_layer_act(k)[3].data for k in true_neg_x])\n",
    "\n",
    "false_neg_act_1 = np.array([a.hidden_layer_act(k)[0].data for k in false_neg_x])\n",
    "false_neg_act_2 = np.array([a.hidden_layer_act(k)[1].data for k in false_neg_x])\n",
    "false_neg_act_3 = np.array([a.hidden_layer_act(k)[2].data for k in false_neg_x])\n",
    "false_neg_act_4 = np.array([a.hidden_layer_act(k)[3].data for k in false_neg_x])"
   ]
  },
  {
   "cell_type": "code",
   "execution_count": 88,
   "id": "07416755",
   "metadata": {},
   "outputs": [
    {
     "data": {
      "image/png": "[encoded data removed]",
      "text/plain": [
       "<Figure size 720x432 with 4 Axes>"
      ]
     },
     "metadata": {
      "needs_background": "light"
     },
     "output_type": "display_data"
    }
   ],
   "source": [
    "# MEANS\n",
    "\n",
    "tpa1_mean=np.mean(true_pos_act_1)\n",
    "tpa2_mean=np.mean(true_pos_act_2)\n",
    "tpa3_mean=np.mean(true_pos_act_3)\n",
    "tpa4_mean=np.mean(true_pos_act_4)\n",
    "tpmeanarr=np.array([tpa1_mean,tpa2_mean,tpa3_mean,tpa4_mean])\n",
    "\n",
    "tna1_mean=np.mean(true_neg_act_1)\n",
    "tna2_mean=np.mean(true_neg_act_2)\n",
    "tna3_mean=np.mean(true_neg_act_3)\n",
    "tna4_mean=np.mean(true_neg_act_4)\n",
    "tnmeanarr=np.array([tna1_mean,tna2_mean,tna3_mean,tna4_mean])\n",
    "\n",
    "fpa1_mean=np.mean(false_pos_act_1)\n",
    "fpa2_mean=np.mean(false_pos_act_2)\n",
    "fpa3_mean=np.mean(false_pos_act_3)\n",
    "fpa4_mean=np.mean(false_pos_act_4)\n",
    "fpmeanarr=np.array([fpa1_mean,fpa2_mean,fpa3_mean,fpa4_mean])\n",
    "\n",
    "fna1_mean=np.mean(false_neg_act_1)\n",
    "fna2_mean=np.mean(false_neg_act_2)\n",
    "fna3_mean=np.mean(false_neg_act_3)\n",
    "fna4_mean=np.mean(false_neg_act_4)\n",
    "fnmeanarr=np.array([fna1_mean,fna2_mean,fna3_mean,fna4_mean])\n",
    "\n",
    "# VARIANCES\n",
    "\n",
    "tpa1_v=np.var(true_pos_act_1)\n",
    "tpa2_v=np.var(true_pos_act_2)\n",
    "tpa3_v=np.var(true_pos_act_3)\n",
    "tpa4_v=np.var(true_pos_act_4)\n",
    "tpvarr=np.array([tpa1_v,tpa2_v,tpa3_v,tpa4_v])\n",
    "\n",
    "tna1_v=np.var(true_neg_act_1)\n",
    "tna2_v=np.var(true_neg_act_2)\n",
    "tna3_v=np.var(true_neg_act_3)\n",
    "tna4_v=np.var(true_neg_act_4)\n",
    "tnvarr=np.array([tna1_v,tna2_v,tna3_v,tna4_v])\n",
    "\n",
    "fpa1_v=np.var(false_pos_act_1)\n",
    "fpa2_v=np.var(false_pos_act_2)\n",
    "fpa3_v=np.var(false_pos_act_3)\n",
    "fpa4_v=np.var(false_pos_act_4)\n",
    "fpvarr=np.array([fpa1_v,fpa2_v,fpa3_v,fpa4_v])\n",
    "\n",
    "fna1_v=np.var(false_neg_act_1)\n",
    "fna2_v=np.var(false_neg_act_2)\n",
    "fna3_v=np.var(false_neg_act_3)\n",
    "fna4_v=np.var(false_neg_act_4)\n",
    "fnvarr=np.array([fna1_v,fna2_v,fna3_v,fna4_v])\n",
    "\n",
    "# PLOTS\n",
    "\n",
    "x=np.array([1,2,3,4])\n",
    "\n",
    "fig, ax = plt.subplots(2,2,figsize=(10,6), sharex=True)\n",
    "\n",
    "plt.suptitle('Mean Activation of the hidden Neurons')\n",
    "\n",
    "ax[0][0].bar(x,tpmeanarr)\n",
    "ax[0][0].bar(x,tpvarr,color='orange')\n",
    "ax[0][0].set_title('True Positives')\n",
    "ax[0][0].set_ylabel('Activations')\n",
    "ax[0][0].legend(['Mean', 'Activation'])\n",
    "# ax[0][0].set_xlabel('Hidden Layer Neurons')\n",
    "\n",
    "ax[0][1].bar(x,tnmeanarr)\n",
    "ax[0][1].bar(x,tnvarr,color='orange')\n",
    "ax[0][1].set_title('True Negatives')\n",
    "ax[0][1].set_ylabel('Activations')\n",
    "ax[0][1].legend(['Mean', 'Activation'])\n",
    "\n",
    "ax[1][0].bar(x,fpmeanarr)\n",
    "ax[1][0].bar(x,fpvarr,color='orange')\n",
    "ax[1][0].set_title('False Positives')\n",
    "ax[1][0].set_ylabel('Activations')\n",
    "ax[1][0].legend(['Mean', 'Activation'])\n",
    "\n",
    "ax[1][1].bar(x,fnmeanarr)\n",
    "ax[1][1].bar(x,fnvarr,color='orange')\n",
    "ax[1][1].set_title('False Negatives')\n",
    "ax[1][1].set_ylabel('Activations')\n",
    "ax[1][1].legend(['Mean', 'Activation'])\n",
    "\n",
    "\n",
    "plt.show()"
   ]
  },
  {
   "cell_type": "code",
   "execution_count": 87,
   "id": "4ac82e2f",
   "metadata": {},
   "outputs": [
    {
     "data": {
      "image/png": "[encoded data removed]",
      "text/plain": [
       "<Figure size 864x576 with 4 Axes>"
      ]
     },
     "metadata": {
      "needs_background": "light"
     },
     "output_type": "display_data"
    }
   ],
   "source": [
    "plt.figure(figsize=(12,8))\n",
    "plt.suptitle('Activation Histograms')\n",
    "plt.subplot(2,2,1)\n",
    "plt.hist(true_pos_act_1, bins=20, density=True)\n",
    "plt.hist(true_pos_act_2, bins=20, density=True)\n",
    "plt.hist(true_pos_act_3, bins=20, density=True)\n",
    "plt.hist(true_pos_act_4, bins=20, density=True)\n",
    "plt.legend(['1','2','3','4'])\n",
    "plt.title('True Positive')\n",
    "\n",
    "plt.subplot(2,2,2)\n",
    "plt.hist(false_pos_act_1, bins=20, density=True)\n",
    "plt.hist(false_pos_act_2, bins=20, density=True)\n",
    "plt.hist(false_pos_act_3, bins=20, density=True)\n",
    "plt.hist(false_pos_act_4, bins=20, density=True)\n",
    "plt.legend(['1','2','3','4'])\n",
    "plt.title('False Positive')\n",
    "\n",
    "plt.subplot(2,2,3)\n",
    "plt.hist(true_neg_act_1, bins=20, density=True)\n",
    "plt.hist(true_neg_act_2, bins=20, density=True)\n",
    "plt.hist(true_neg_act_3, bins=20, density=True)\n",
    "plt.hist(true_neg_act_4, bins=20, density=True)\n",
    "plt.legend(['1','2','3','4'])\n",
    "plt.title('True Negative')\n",
    "\n",
    "plt.subplot(2,2,4)\n",
    "plt.hist(false_neg_act_1, bins=20, density=True)\n",
    "plt.hist(false_neg_act_2, bins=20, density=True)\n",
    "plt.hist(false_neg_act_3, bins=20, density=True)\n",
    "plt.hist(false_neg_act_4, bins=20, density=True)\n",
    "plt.legend(['1','2','3','4'])\n",
    "plt.title('False Negative');"
   ]
  },
  {
   "cell_type": "code",
   "execution_count": 96,
   "id": "fb380a5a",
   "metadata": {},
   "outputs": [
    {
     "data": {
      "image/png": "[encoded data removed]",
      "text/plain": [
       "<Figure size 720x576 with 4 Axes>"
      ]
     },
     "metadata": {
      "needs_background": "light"
     },
     "output_type": "display_data"
    }
   ],
   "source": [
    "tpdata=[true_pos_act_1,true_pos_act_2,true_pos_act_3,true_pos_act_4]\n",
    "tndata=[true_neg_act_1,true_neg_act_2,true_neg_act_3,true_neg_act_4]\n",
    "fpdata=[false_pos_act_1,false_pos_act_2,false_pos_act_3,false_pos_act_4]\n",
    "fndata=[false_neg_act_1, false_neg_act_2, false_neg_act_3, false_neg_act_4]\n",
    "\n",
    "plt.figure(figsize=(10,8))\n",
    "plt.suptitle('Activations of hidden layer neurons')\n",
    "\n",
    "plt.subplot(2,2,1)\n",
    "plt.boxplot(tpdata)\n",
    "plt.title('True Positives')\n",
    "plt.ylabel('Activations')\n",
    "\n",
    "plt.subplot(2,2,2)\n",
    "plt.boxplot(tndata)\n",
    "plt.title('True Negatives')\n",
    "plt.ylabel('Activations')\n",
    "\n",
    "plt.subplot(2,2,3)\n",
    "plt.boxplot(fpdata)\n",
    "plt.title('False Positives')\n",
    "plt.xlabel('Hidden layer neurons')\n",
    "plt.ylabel('Activations')\n",
    "\n",
    "plt.subplot(2,2,4)\n",
    "plt.boxplot(fndata)\n",
    "plt.title('False Negatives')\n",
    "plt.xlabel('Hidden layer neurons')\n",
    "plt.ylabel('Activations');"
   ]
  }
 ],
 "metadata": {
  "kernelspec": {
   "display_name": "Python 3",
   "language": "python",
   "name": "python3"
  },
  "language_info": {
   "codemirror_mode": {
    "name": "ipython",
    "version": 3
   },
   "file_extension": ".py",
   "mimetype": "text/x-python",
   "name": "python",
   "nbconvert_exporter": "python",
   "pygments_lexer": "ipython3",
   "version": "3.8.8"
  }
 },
 "nbformat": 4,
 "nbformat_minor": 5
}
