{
 "cells": [
  {
   "cell_type": "code",
   "execution_count": 1,
   "metadata": {},
   "outputs": [],
   "source": [
    "from utils import read_from_jsonl\n",
    "train_data = read_from_jsonl(\"train.jsonl\")\n",
    "test_data = read_from_jsonl(\"test.jsonl\")"
   ]
  },
  {
   "cell_type": "code",
   "execution_count": 2,
   "metadata": {},
   "outputs": [
    {
     "data": {
      "text/plain": [
       "{'tokens': ['EU',\n",
       "  'rejects',\n",
       "  'German',\n",
       "  'call',\n",
       "  'to',\n",
       "  'boycott',\n",
       "  'British',\n",
       "  'lamb',\n",
       "  '.'],\n",
       " 'chunk_tags': [1, 1, 1, 0, 1, 1, 1, 0, 1],\n",
       " 'pos_tags': [1, 4, 3, 1, 4, 4, 3, 1, 4]}"
      ]
     },
     "execution_count": 2,
     "metadata": {},
     "output_type": "execute_result"
    }
   ],
   "source": [
    "train_data[0]"
   ]
  },
  {
   "cell_type": "code",
   "execution_count": 3,
   "metadata": {},
   "outputs": [],
   "source": [
    "from copy import deepcopy\n",
    "train_data_encoded = deepcopy(train_data)\n",
    "test_data_encoded = deepcopy(test_data)"
   ]
  },
  {
   "cell_type": "code",
   "execution_count": 4,
   "metadata": {},
   "outputs": [],
   "source": [
    "import numpy as np\n",
    "\n",
    "curr_one_hot_encoding_mapping = {\n",
    "    1: [1, 0, 0, 0],\n",
    "    2: [0, 1, 0, 0],\n",
    "    3: [0, 0, 1, 0],\n",
    "    4: [0, 0, 0, 1]\n",
    "}\n",
    "\n",
    "prev_one_hot_encoding_mapping = {\n",
    "    # 0 for start of string sequence\n",
    "    0: [1, 0, 0, 0, 0],\n",
    "    1: [0, 1, 0, 0, 0],\n",
    "    2: [0, 0, 1, 0, 0],\n",
    "    3: [0, 0, 0, 1, 0],\n",
    "    4: [0, 0, 0, 0, 1]\n",
    "}\n",
    "\n",
    "for i, data in enumerate(train_data):\n",
    "    for j, pos in enumerate(data[\"pos_tags\"]):\n",
    "        if j == 0:\n",
    "            prev = prev_one_hot_encoding_mapping[0]\n",
    "            curr = curr_one_hot_encoding_mapping[pos]\n",
    "        else:\n",
    "            prev = prev_one_hot_encoding_mapping[data[\"pos_tags\"][j-1]]\n",
    "            curr = curr_one_hot_encoding_mapping[pos]\n",
    "        \n",
    "        train_data_encoded[i][\"pos_tags\"][j] = np.array(prev + curr)\n",
    "        "
   ]
  },
  {
   "cell_type": "code",
   "execution_count": 5,
   "metadata": {},
   "outputs": [
    {
     "data": {
      "text/plain": [
       "{'tokens': ['EU',\n",
       "  'rejects',\n",
       "  'German',\n",
       "  'call',\n",
       "  'to',\n",
       "  'boycott',\n",
       "  'British',\n",
       "  'lamb',\n",
       "  '.'],\n",
       " 'chunk_tags': [1, 1, 1, 0, 1, 1, 1, 0, 1],\n",
       " 'pos_tags': [array([1, 0, 0, 0, 0, 1, 0, 0, 0]),\n",
       "  array([0, 1, 0, 0, 0, 0, 0, 0, 1]),\n",
       "  array([0, 0, 0, 0, 1, 0, 0, 1, 0]),\n",
       "  array([0, 0, 0, 1, 0, 1, 0, 0, 0]),\n",
       "  array([0, 1, 0, 0, 0, 0, 0, 0, 1]),\n",
       "  array([0, 0, 0, 0, 1, 0, 0, 0, 1]),\n",
       "  array([0, 0, 0, 0, 1, 0, 0, 1, 0]),\n",
       "  array([0, 0, 0, 1, 0, 1, 0, 0, 0]),\n",
       "  array([0, 1, 0, 0, 0, 0, 0, 0, 1])]}"
      ]
     },
     "execution_count": 5,
     "metadata": {},
     "output_type": "execute_result"
    }
   ],
   "source": [
    "train_data_encoded[0]\n"
   ]
  },
  {
   "cell_type": "code",
   "execution_count": 6,
   "metadata": {},
   "outputs": [],
   "source": [
    "for i in train_data_encoded:\n",
    "    chunk_tags = np.array(i[\"chunk_tags\"])\n",
    "    i[\"chunk_tags\"] = chunk_tags\n",
    "    pos_tags = np.array(i[\"pos_tags\"])\n",
    "    pos_tags.reshape(1, pos_tags.shape[0], pos_tags.shape[1])\n",
    "    i[\"pos_tags\"] = pos_tags\n"
   ]
  },
  {
   "cell_type": "code",
   "execution_count": 7,
   "metadata": {},
   "outputs": [
    {
     "data": {
      "text/plain": [
       "{'tokens': ['EU',\n",
       "  'rejects',\n",
       "  'German',\n",
       "  'call',\n",
       "  'to',\n",
       "  'boycott',\n",
       "  'British',\n",
       "  'lamb',\n",
       "  '.'],\n",
       " 'chunk_tags': array([1, 1, 1, 0, 1, 1, 1, 0, 1]),\n",
       " 'pos_tags': array([[1, 0, 0, 0, 0, 1, 0, 0, 0],\n",
       "        [0, 1, 0, 0, 0, 0, 0, 0, 1],\n",
       "        [0, 0, 0, 0, 1, 0, 0, 1, 0],\n",
       "        [0, 0, 0, 1, 0, 1, 0, 0, 0],\n",
       "        [0, 1, 0, 0, 0, 0, 0, 0, 1],\n",
       "        [0, 0, 0, 0, 1, 0, 0, 0, 1],\n",
       "        [0, 0, 0, 0, 1, 0, 0, 1, 0],\n",
       "        [0, 0, 0, 1, 0, 1, 0, 0, 0],\n",
       "        [0, 1, 0, 0, 0, 0, 0, 0, 1]])}"
      ]
     },
     "execution_count": 7,
     "metadata": {},
     "output_type": "execute_result"
    }
   ],
   "source": [
    "train_data_encoded[0]"
   ]
  },
  {
   "cell_type": "code",
   "execution_count": 8,
   "metadata": {},
   "outputs": [
    {
     "name": "stdout",
     "output_type": "stream",
     "text": [
      "(9, 9)\n",
      "(9,)\n",
      "(2, 9)\n",
      "(2,)\n",
      "(2, 9)\n",
      "(2,)\n",
      "(30, 9)\n",
      "(30,)\n",
      "(31, 9)\n",
      "(31,)\n"
     ]
    }
   ],
   "source": [
    "for i in range(5):\n",
    "    print(train_data_encoded[i][\"pos_tags\"].shape)\n",
    "    print(train_data_encoded[i][\"chunk_tags\"].shape)"
   ]
  },
  {
   "cell_type": "markdown",
   "metadata": {},
   "source": [
    "## Dataloader implementing Above things is in utils.py"
   ]
  },
  {
   "cell_type": "code",
   "execution_count": 9,
   "metadata": {},
   "outputs": [],
   "source": [
    "from utils import DataLoader\n",
    "train_data = read_from_jsonl(\"train.jsonl\")\n",
    "test_data = read_from_jsonl(\"test.jsonl\")\n",
    "\n",
    "train_data_loader = DataLoader(train_data, batch_size=32)\n",
    "test_data_loader = DataLoader(test_data, batch_size=32)"
   ]
  },
  {
   "cell_type": "code",
   "execution_count": 10,
   "metadata": {},
   "outputs": [
    {
     "name": "stderr",
     "output_type": "stream",
     "text": [
      "  0%|          | 0/100 [00:00<?, ?it/s]/Users/rohankalbag/Repositories/cs772-iitb/assignment-2/utils.py:43: RuntimeWarning: invalid value encountered in multiply\n",
      "  a[t] = self.V*h[t-1] + sum(self.W*x[t])\n",
      "  0%|          | 0/100 [00:00<?, ?it/s]\n"
     ]
    },
    {
     "name": "stdout",
     "output_type": "stream",
     "text": [
      "DEBUG LOGS FOR STEP\n",
      "------------------------------------------------------------\n",
      "x_shape (9, 9)\n",
      "y_shape (9,)\n",
      "y_p shape torch.Size([9])\n",
      "y_t shape torch.Size([9])\n",
      "y_t tensor([1., 1., 1., 0., 1., 1., 1., 0., 1.])\n",
      "y_p tensor([0.3348, 0.0262, 0.9440, 0.1770, 0.0307, 0.6244, 0.9015, 0.1834, 0.0305])\n",
      "loss=tensor(1.4156), output : tensor([0.0305])\n",
      "------------------------------------------------------------\n",
      "DEBUG LOGS FOR STEP\n",
      "------------------------------------------------------------\n",
      "x_shape (2, 9)\n",
      "y_shape (2,)\n",
      "y_p shape torch.Size([2])\n",
      "y_t shape torch.Size([2])\n",
      "y_t tensor([1., 0.])\n",
      "y_p tensor([0.8440, 0.1147])\n",
      "loss=tensor(0.1457), output : tensor([0.1147])\n",
      "------------------------------------------------------------\n",
      "DEBUG LOGS FOR STEP\n",
      "------------------------------------------------------------\n",
      "x_shape (2, 9)\n",
      "y_shape (2,)\n",
      "y_p shape torch.Size([2])\n",
      "y_t shape torch.Size([2])\n",
      "y_t tensor([1., 0.])\n",
      "y_p tensor([0.8434, 0.0574])\n",
      "loss=tensor(0.1147), output : tensor([0.0574])\n",
      "------------------------------------------------------------\n",
      "DEBUG LOGS FOR STEP\n",
      "------------------------------------------------------------\n",
      "x_shape (30, 9)\n",
      "y_shape (30,)\n",
      "y_p shape torch.Size([30])\n",
      "y_t shape torch.Size([30])\n",
      "y_t tensor([1., 0., 0., 1., 1., 1., 1., 1., 1., 1., 0., 1., 1., 1., 1., 1., 0., 1.,\n",
      "        1., 1., 1., 1., 0., 0., 1., 1., 1., 1., 1., 1.])\n",
      "y_p tensor([0.5823, 0.8059, 0.1141, 0.0717, 0.8304, 0.8886, 0.0562, 0.8311, 0.7912,\n",
      "        0.9665, 0.7635, 0.0584, 0.9119, 0.0557, 0.8312, 0.9660, 0.7635, 0.0584,\n",
      "        0.9119, 0.0557, 0.8312, 0.9660, 0.7635, 0.1155, 0.0717, 0.8304, 0.7912,\n",
      "        0.7934, 0.8898, 0.0561])\n",
      "loss=tensor(1.0461), output : tensor([0.0561])\n",
      "------------------------------------------------------------\n",
      "DEBUG LOGS FOR STEP\n",
      "------------------------------------------------------------\n",
      "x_shape (31, 9)\n",
      "y_shape (31,)\n",
      "y_p shape torch.Size([31])\n",
      "y_t shape torch.Size([31])\n",
      "y_t tensor([1., 1., 0., 1., 1., 0., 0., 1., 0., 0., 0., 0., 1., 1., 1., 0., 1., 1.,\n",
      "        1., 1., 1., 1., 1., 1., 1., 1., 0., 0., 1., 1., 1.])\n",
      "y_p tensor([0.9981, 0.9996, 0.9999, 0.9996, 0.9999, 0.9999, 0.9997, 0.9996, 0.9999,\n",
      "        0.9999, 0.9997, 0.9997, 0.9996, 0.9999, 0.9999, 0.9997, 0.9996, 0.9999,\n",
      "        0.9999, 0.9996, 0.9999, 0.9975, 0.9999, 0.9999, 0.9996, 0.9999, 0.9997,\n",
      "        0.9999, 0.9996, 0.9999, 0.9999])\n",
      "loss=tensor(2.7857), output : tensor([1.0000])\n",
      "------------------------------------------------------------\n",
      "DEBUG LOGS FOR STEP\n",
      "------------------------------------------------------------\n",
      "x_shape (33, 9)\n",
      "y_shape (33,)\n",
      "y_p shape torch.Size([33])\n",
      "y_t shape torch.Size([33])\n",
      "y_t tensor([1., 1., 1., 1., 1., 1., 0., 0., 1., 1., 1., 1., 1., 1., 0., 1., 1., 1.,\n",
      "        1., 1., 0., 1., 0., 0., 0., 0., 0., 0., 1., 1., 0., 0., 1.])\n",
      "y_p tensor([1.0000e-04, 1.0000e-04, 1.0000e-04, 1.0000e-04, 1.0000e-04, 9.8605e-01,\n",
      "        1.0000e-04, 1.0000e-04, 1.0000e-04, 1.0000e-04, 1.0000e-04, 1.0000e-04,\n",
      "        1.0000e-04, 9.8605e-01, 1.0000e-04, 1.0000e-04, 1.0000e-04, 1.0000e-04,\n",
      "        1.0000e-04, 9.8605e-01, 1.0000e-04, 1.0000e-04, 3.8790e-01, 1.0000e-04,\n",
      "        1.0000e-04, 1.0000e-04, 1.0000e-04, 1.0000e-04, 1.0000e-04, 9.8605e-01,\n",
      "        1.0000e-04, 1.0000e-04, 1.0000e-04])\n",
      "loss=tensor(4.7613), output : tensor([0.])\n",
      "------------------------------------------------------------\n"
     ]
    },
    {
     "ename": "RuntimeError",
     "evalue": "all elements of input should be between 0 and 1",
     "output_type": "error",
     "traceback": [
      "\u001b[0;31m---------------------------------------------------------------------------\u001b[0m",
      "\u001b[0;31mRuntimeError\u001b[0m                              Traceback (most recent call last)",
      "Cell \u001b[0;32mIn[10], line 4\u001b[0m\n\u001b[1;32m      1\u001b[0m \u001b[38;5;28;01mfrom\u001b[39;00m \u001b[38;5;21;01mutils\u001b[39;00m \u001b[38;5;28;01mimport\u001b[39;00m RecurrentPerceptron\n\u001b[1;32m      3\u001b[0m a \u001b[38;5;241m=\u001b[39m RecurrentPerceptron()\n\u001b[0;32m----> 4\u001b[0m \u001b[43ma\u001b[49m\u001b[38;5;241;43m.\u001b[39;49m\u001b[43mtrain_from_dataloader\u001b[49m\u001b[43m(\u001b[49m\u001b[43mtrain_data_loader\u001b[49m\u001b[43m,\u001b[49m\u001b[43m \u001b[49m\u001b[38;5;241;43m0.05\u001b[39;49m\u001b[43m,\u001b[49m\u001b[43m \u001b[49m\u001b[38;5;241;43m100\u001b[39;49m\u001b[43m,\u001b[49m\u001b[43m \u001b[49m\u001b[43mdebug\u001b[49m\u001b[38;5;241;43m=\u001b[39;49m\u001b[38;5;28;43;01mTrue\u001b[39;49;00m\u001b[43m)\u001b[49m\n",
      "File \u001b[0;32m~/Repositories/cs772-iitb/assignment-2/utils.py:118\u001b[0m, in \u001b[0;36mRecurrentPerceptron.train_from_dataloader\u001b[0;34m(self, dataloader, lr, nepochs, debug)\u001b[0m\n\u001b[1;32m    116\u001b[0m         x \u001b[38;5;241m=\u001b[39m b[\u001b[38;5;124m\"\u001b[39m\u001b[38;5;124mpos_tags\u001b[39m\u001b[38;5;124m\"\u001b[39m]\n\u001b[1;32m    117\u001b[0m         y \u001b[38;5;241m=\u001b[39m b[\u001b[38;5;124m\"\u001b[39m\u001b[38;5;124mchunk_tags\u001b[39m\u001b[38;5;124m\"\u001b[39m]\n\u001b[0;32m--> 118\u001b[0m         avg_loss \u001b[38;5;241m+\u001b[39m\u001b[38;5;241m=\u001b[39m \u001b[38;5;28;43mself\u001b[39;49m\u001b[38;5;241;43m.\u001b[39;49m\u001b[43mtrain_step\u001b[49m\u001b[43m(\u001b[49m\u001b[43mx\u001b[49m\u001b[43m,\u001b[49m\u001b[43m \u001b[49m\u001b[43my\u001b[49m\u001b[43m,\u001b[49m\u001b[43m \u001b[49m\u001b[43mlr\u001b[49m\u001b[43m,\u001b[49m\u001b[43m \u001b[49m\u001b[43mdebug\u001b[49m\u001b[38;5;241;43m=\u001b[39;49m\u001b[43mdebug\u001b[49m\u001b[43m)\u001b[49m\n\u001b[1;32m    119\u001b[0m avg_loss \u001b[38;5;241m/\u001b[39m\u001b[38;5;241m=\u001b[39m \u001b[38;5;28mlen\u001b[39m(dataloader)\n\u001b[1;32m    120\u001b[0m \u001b[38;5;28mprint\u001b[39m(\u001b[38;5;124mf\u001b[39m\u001b[38;5;124m'\u001b[39m\u001b[38;5;124mEpoch \u001b[39m\u001b[38;5;132;01m{\u001b[39;00m_\u001b[38;5;132;01m}\u001b[39;00m\u001b[38;5;124m : Avg Loss : \u001b[39m\u001b[38;5;132;01m{\u001b[39;00mavg_loss\u001b[38;5;132;01m}\u001b[39;00m\u001b[38;5;124m'\u001b[39m)\n",
      "File \u001b[0;32m~/Repositories/cs772-iitb/assignment-2/utils.py:79\u001b[0m, in \u001b[0;36mRecurrentPerceptron.train_step\u001b[0;34m(self, x, y, lr, debug)\u001b[0m\n\u001b[1;32m     77\u001b[0m y_p \u001b[38;5;241m=\u001b[39m torch\u001b[38;5;241m.\u001b[39mtensor(\u001b[38;5;28mlist\u001b[39m(out\u001b[38;5;241m.\u001b[39mvalues()))\u001b[38;5;241m.\u001b[39mfloat()\u001b[38;5;241m.\u001b[39mclamp(eps, \u001b[38;5;241m1\u001b[39m\u001b[38;5;241m-\u001b[39meps)\n\u001b[1;32m     78\u001b[0m y_t \u001b[38;5;241m=\u001b[39m torch\u001b[38;5;241m.\u001b[39mtensor(y)\u001b[38;5;241m.\u001b[39mfloat()\n\u001b[0;32m---> 79\u001b[0m loss \u001b[38;5;241m=\u001b[39m \u001b[43mF\u001b[49m\u001b[38;5;241;43m.\u001b[39;49m\u001b[43mbinary_cross_entropy\u001b[49m\u001b[43m(\u001b[49m\u001b[43my_p\u001b[49m\u001b[43m,\u001b[49m\u001b[43m \u001b[49m\u001b[43my_t\u001b[49m\u001b[43m)\u001b[49m\n\u001b[1;32m     80\u001b[0m \u001b[38;5;28;01mif\u001b[39;00m debug:\n\u001b[1;32m     81\u001b[0m     \u001b[38;5;28mprint\u001b[39m(\u001b[38;5;124m\"\u001b[39m\u001b[38;5;124mDEBUG LOGS FOR STEP\u001b[39m\u001b[38;5;124m\"\u001b[39m)\n",
      "File \u001b[0;32m~/Repositories/cs772-iitb/assignment-1/.venv/lib/python3.12/site-packages/torch/nn/functional.py:3127\u001b[0m, in \u001b[0;36mbinary_cross_entropy\u001b[0;34m(input, target, weight, size_average, reduce, reduction)\u001b[0m\n\u001b[1;32m   3124\u001b[0m     new_size \u001b[38;5;241m=\u001b[39m _infer_size(target\u001b[38;5;241m.\u001b[39msize(), weight\u001b[38;5;241m.\u001b[39msize())\n\u001b[1;32m   3125\u001b[0m     weight \u001b[38;5;241m=\u001b[39m weight\u001b[38;5;241m.\u001b[39mexpand(new_size)\n\u001b[0;32m-> 3127\u001b[0m \u001b[38;5;28;01mreturn\u001b[39;00m \u001b[43mtorch\u001b[49m\u001b[38;5;241;43m.\u001b[39;49m\u001b[43m_C\u001b[49m\u001b[38;5;241;43m.\u001b[39;49m\u001b[43m_nn\u001b[49m\u001b[38;5;241;43m.\u001b[39;49m\u001b[43mbinary_cross_entropy\u001b[49m\u001b[43m(\u001b[49m\u001b[38;5;28;43minput\u001b[39;49m\u001b[43m,\u001b[49m\u001b[43m \u001b[49m\u001b[43mtarget\u001b[49m\u001b[43m,\u001b[49m\u001b[43m \u001b[49m\u001b[43mweight\u001b[49m\u001b[43m,\u001b[49m\u001b[43m \u001b[49m\u001b[43mreduction_enum\u001b[49m\u001b[43m)\u001b[49m\n",
      "\u001b[0;31mRuntimeError\u001b[0m: all elements of input should be between 0 and 1"
     ]
    }
   ],
   "source": [
    "from utils import RecurrentPerceptron\n",
    "\n",
    "a = RecurrentPerceptron()\n",
    "a.train_from_dataloader(train_data_loader, 0.05, 100, debug=True)"
   ]
  }
 ],
 "metadata": {
  "kernelspec": {
   "display_name": ".venv",
   "language": "python",
   "name": "python3"
  },
  "language_info": {
   "codemirror_mode": {
    "name": "ipython",
    "version": 3
   },
   "file_extension": ".py",
   "mimetype": "text/x-python",
   "name": "python",
   "nbconvert_exporter": "python",
   "pygments_lexer": "ipython3",
   "version": "3.12.1"
  }
 },
 "nbformat": 4,
 "nbformat_minor": 2
}
