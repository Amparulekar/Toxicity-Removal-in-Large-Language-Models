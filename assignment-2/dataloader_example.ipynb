{
 "cells": [
  {
   "cell_type": "code",
   "execution_count": 1,
   "metadata": {},
   "outputs": [],
   "source": [
    "from utils import read_from_jsonl\n",
    "train_data = read_from_jsonl(\"train.jsonl\")\n",
    "test_data = read_from_jsonl(\"test.jsonl\")"
   ]
  },
  {
   "cell_type": "code",
   "execution_count": 2,
   "metadata": {},
   "outputs": [
    {
     "data": {
      "text/plain": [
       "{'tokens': ['EU',\n",
       "  'rejects',\n",
       "  'German',\n",
       "  'call',\n",
       "  'to',\n",
       "  'boycott',\n",
       "  'British',\n",
       "  'lamb',\n",
       "  '.'],\n",
       " 'chunk_tags': [1, 1, 1, 0, 1, 1, 1, 0, 1],\n",
       " 'pos_tags': [1, 4, 3, 1, 4, 4, 3, 1, 4]}"
      ]
     },
     "execution_count": 2,
     "metadata": {},
     "output_type": "execute_result"
    }
   ],
   "source": [
    "train_data[0]"
   ]
  },
  {
   "cell_type": "code",
   "execution_count": 3,
   "metadata": {},
   "outputs": [],
   "source": [
    "from copy import deepcopy\n",
    "train_data_encoded = deepcopy(train_data)\n",
    "test_data_encoded = deepcopy(test_data)"
   ]
  },
  {
   "cell_type": "code",
   "execution_count": 4,
   "metadata": {},
   "outputs": [],
   "source": [
    "import numpy as np\n",
    "\n",
    "curr_one_hot_encoding_mapping = {\n",
    "    1: [1, 0, 0, 0],\n",
    "    2: [0, 1, 0, 0],\n",
    "    3: [0, 0, 1, 0],\n",
    "    4: [0, 0, 0, 1]\n",
    "}\n",
    "\n",
    "prev_one_hot_encoding_mapping = {\n",
    "    # 0 for start of string sequence\n",
    "    0: [1, 0, 0, 0, 0],\n",
    "    1: [0, 1, 0, 0, 0],\n",
    "    2: [0, 0, 1, 0, 0],\n",
    "    3: [0, 0, 0, 1, 0],\n",
    "    4: [0, 0, 0, 0, 1]\n",
    "}\n",
    "\n",
    "for i, data in enumerate(train_data):\n",
    "    for j, pos in enumerate(data[\"pos_tags\"]):\n",
    "        if j == 0:\n",
    "            prev = prev_one_hot_encoding_mapping[0]\n",
    "            curr = curr_one_hot_encoding_mapping[pos]\n",
    "        else:\n",
    "            prev = prev_one_hot_encoding_mapping[data[\"pos_tags\"][j-1]]\n",
    "            curr = curr_one_hot_encoding_mapping[pos]\n",
    "        \n",
    "        train_data_encoded[i][\"pos_tags\"][j] = np.array(prev + curr)\n",
    "        "
   ]
  },
  {
   "cell_type": "code",
   "execution_count": 5,
   "metadata": {},
   "outputs": [
    {
     "data": {
      "text/plain": [
       "{'tokens': ['EU',\n",
       "  'rejects',\n",
       "  'German',\n",
       "  'call',\n",
       "  'to',\n",
       "  'boycott',\n",
       "  'British',\n",
       "  'lamb',\n",
       "  '.'],\n",
       " 'chunk_tags': [1, 1, 1, 0, 1, 1, 1, 0, 1],\n",
       " 'pos_tags': [array([1, 0, 0, 0, 0, 1, 0, 0, 0]),\n",
       "  array([0, 1, 0, 0, 0, 0, 0, 0, 1]),\n",
       "  array([0, 0, 0, 0, 1, 0, 0, 1, 0]),\n",
       "  array([0, 0, 0, 1, 0, 1, 0, 0, 0]),\n",
       "  array([0, 1, 0, 0, 0, 0, 0, 0, 1]),\n",
       "  array([0, 0, 0, 0, 1, 0, 0, 0, 1]),\n",
       "  array([0, 0, 0, 0, 1, 0, 0, 1, 0]),\n",
       "  array([0, 0, 0, 1, 0, 1, 0, 0, 0]),\n",
       "  array([0, 1, 0, 0, 0, 0, 0, 0, 1])]}"
      ]
     },
     "execution_count": 5,
     "metadata": {},
     "output_type": "execute_result"
    }
   ],
   "source": [
    "train_data_encoded[0]\n"
   ]
  },
  {
   "cell_type": "code",
   "execution_count": 6,
   "metadata": {},
   "outputs": [],
   "source": [
    "for i in train_data_encoded:\n",
    "    chunk_tags = np.array(i[\"chunk_tags\"])\n",
    "    i[\"chunk_tags\"] = chunk_tags\n",
    "    pos_tags = np.array(i[\"pos_tags\"])\n",
    "    pos_tags.reshape(1, pos_tags.shape[0], pos_tags.shape[1])\n",
    "    i[\"pos_tags\"] = pos_tags\n"
   ]
  },
  {
   "cell_type": "code",
   "execution_count": 7,
   "metadata": {},
   "outputs": [
    {
     "data": {
      "text/plain": [
       "{'tokens': ['EU',\n",
       "  'rejects',\n",
       "  'German',\n",
       "  'call',\n",
       "  'to',\n",
       "  'boycott',\n",
       "  'British',\n",
       "  'lamb',\n",
       "  '.'],\n",
       " 'chunk_tags': array([1, 1, 1, 0, 1, 1, 1, 0, 1]),\n",
       " 'pos_tags': array([[1, 0, 0, 0, 0, 1, 0, 0, 0],\n",
       "        [0, 1, 0, 0, 0, 0, 0, 0, 1],\n",
       "        [0, 0, 0, 0, 1, 0, 0, 1, 0],\n",
       "        [0, 0, 0, 1, 0, 1, 0, 0, 0],\n",
       "        [0, 1, 0, 0, 0, 0, 0, 0, 1],\n",
       "        [0, 0, 0, 0, 1, 0, 0, 0, 1],\n",
       "        [0, 0, 0, 0, 1, 0, 0, 1, 0],\n",
       "        [0, 0, 0, 1, 0, 1, 0, 0, 0],\n",
       "        [0, 1, 0, 0, 0, 0, 0, 0, 1]])}"
      ]
     },
     "execution_count": 7,
     "metadata": {},
     "output_type": "execute_result"
    }
   ],
   "source": [
    "train_data_encoded[0]"
   ]
  },
  {
   "cell_type": "code",
   "execution_count": 8,
   "metadata": {},
   "outputs": [
    {
     "name": "stdout",
     "output_type": "stream",
     "text": [
      "(9, 9)\n",
      "(9,)\n",
      "(2, 9)\n",
      "(2,)\n"
     ]
    }
   ],
   "source": [
    "for i in range(2):\n",
    "    print(train_data_encoded[i][\"pos_tags\"].shape)\n",
    "    print(train_data_encoded[i][\"chunk_tags\"].shape)"
   ]
  },
  {
   "cell_type": "markdown",
   "metadata": {},
   "source": [
    "## Dataloader implementing Above things is in utils.py"
   ]
  },
  {
   "cell_type": "code",
   "execution_count": 16,
   "metadata": {},
   "outputs": [],
   "source": [
    "from utils import read_from_jsonl\n",
    "from utils import DataLoader\n",
    "import matplotlib.pyplot as plt\n",
    "train_data = read_from_jsonl(\"train.jsonl\")\n",
    "test_data = read_from_jsonl(\"test.jsonl\")\n",
    "\n",
    "train_data_loader = DataLoader(train_data[:1000], batch_size=len(train_data[:1000]))\n",
    "test_data_loader = DataLoader(test_data, batch_size=32)"
   ]
  },
  {
   "cell_type": "code",
   "execution_count": 17,
   "metadata": {},
   "outputs": [
    {
     "data": {
      "text/plain": [
       "(14041, 1000)"
      ]
     },
     "execution_count": 17,
     "metadata": {},
     "output_type": "execute_result"
    }
   ],
   "source": [
    "len(train_data), len(train_data_loader) "
   ]
  },
  {
   "cell_type": "code",
   "execution_count": 18,
   "metadata": {},
   "outputs": [
    {
     "data": {
      "application/vnd.jupyter.widget-view+json": {
       "model_id": "1001982e9dc14c0c82e080abc1c20a48",
       "version_major": 2,
       "version_minor": 0
      },
      "text/plain": [
       "  0%|          | 0/500 [00:00<?, ?it/s]"
      ]
     },
     "metadata": {},
     "output_type": "display_data"
    },
    {
     "name": "stdout",
     "output_type": "stream",
     "text": [
      "Epoch 0 : Avg Loss : 0.47689300775527954\n",
      "Epoch 50 : Avg Loss : 0.45367565751075745\n",
      "Epoch 100 : Avg Loss : 0.4536745250225067\n",
      "Epoch 150 : Avg Loss : 0.45367491245269775\n",
      "Epoch 200 : Avg Loss : 0.4536750912666321\n",
      "Epoch 250 : Avg Loss : 0.4536750912666321\n",
      "Epoch 300 : Avg Loss : 0.45367512106895447\n",
      "Epoch 350 : Avg Loss : 0.453675240278244\n",
      "Epoch 400 : Avg Loss : 0.4536752700805664\n",
      "Epoch 450 : Avg Loss : 0.4536752700805664\n",
      "Epoch 500 : Avg Loss : 0.4536752700805664\n"
     ]
    }
   ],
   "source": [
    "from utils import RecurrentPerceptron\n",
    "\n",
    "a = RecurrentPerceptron(clip_grads=True, clip=1., verbose=False)\n",
    "a.train_from_dataloader(train_data_loader, lr=0.05, nepochs=500, debug=False, print_interval=50)"
   ]
  },
  {
   "cell_type": "code",
   "execution_count": 19,
   "metadata": {},
   "outputs": [
    {
     "data": {
      "text/plain": [
       "[<matplotlib.lines.Line2D at 0x23ac0ef25b0>]"
      ]
     },
     "execution_count": 19,
     "metadata": {},
     "output_type": "execute_result"
    },
    {
     "data": {
      "image/png": "[encoded data removed]",
      "text/plain": [
       "<Figure size 432x288 with 1 Axes>"
      ]
     },
     "metadata": {
      "needs_background": "light"
     },
     "output_type": "display_data"
    }
   ],
   "source": [
    "plt.plot(a.losslog)"
   ]
  },
  {
   "cell_type": "code",
   "execution_count": 20,
   "metadata": {},
   "outputs": [
    {
     "name": "stdout",
     "output_type": "stream",
     "text": [
      "File already exists, overwriting\n"
     ]
    }
   ],
   "source": [
    "a.save_model()"
   ]
  }
 ],
 "metadata": {
  "kernelspec": {
   "display_name": ".venv",
   "language": "python",
   "name": "python3"
  },
  "language_info": {
   "codemirror_mode": {
    "name": "ipython",
    "version": 3
   },
   "file_extension": ".py",
   "mimetype": "text/x-python",
   "name": "python",
   "nbconvert_exporter": "python",
   "pygments_lexer": "ipython3",
   "version": "3.8.8"
  }
 },
 "nbformat": 4,
 "nbformat_minor": 2
}
