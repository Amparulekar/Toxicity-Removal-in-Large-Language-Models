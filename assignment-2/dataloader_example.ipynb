{
 "cells": [
  {
   "cell_type": "code",
   "execution_count": 1,
   "metadata": {},
   "outputs": [],
   "source": [
    "from utils import read_from_jsonl\n",
    "train_data = read_from_jsonl(\"train.jsonl\")\n",
    "test_data = read_from_jsonl(\"test.jsonl\")"
   ]
  },
  {
   "cell_type": "code",
   "execution_count": 24,
   "metadata": {},
   "outputs": [
    {
     "name": "stdout",
     "output_type": "stream",
     "text": [
      "14041\n",
      "3453\n"
     ]
    }
   ],
   "source": [
    "#train_data[0]\n",
    "print(len(train_data))\n",
    "print(len(test_data))\n",
    "#test_data = test_data[:3000]"
   ]
  },
  {
   "cell_type": "code",
   "execution_count": 8,
   "metadata": {},
   "outputs": [],
   "source": [
    "from copy import deepcopy\n",
    "train_data_encoded = deepcopy(train_data)\n",
    "test_data_encoded = deepcopy(test_data)"
   ]
  },
  {
   "cell_type": "code",
   "execution_count": 9,
   "metadata": {},
   "outputs": [],
   "source": [
    "import numpy as np\n",
    "\n",
    "curr_one_hot_encoding_mapping = {\n",
    "    1: [1, 0, 0, 0],\n",
    "    2: [0, 1, 0, 0],\n",
    "    3: [0, 0, 1, 0],\n",
    "    4: [0, 0, 0, 1]\n",
    "}\n",
    "\n",
    "prev_one_hot_encoding_mapping = {\n",
    "    # 0 for start of string sequence\n",
    "    0: [1, 0, 0, 0, 0],\n",
    "    1: [0, 1, 0, 0, 0],\n",
    "    2: [0, 0, 1, 0, 0],\n",
    "    3: [0, 0, 0, 1, 0],\n",
    "    4: [0, 0, 0, 0, 1]\n",
    "}\n",
    "\n",
    "for i, data in enumerate(train_data):\n",
    "    for j, pos in enumerate(data[\"pos_tags\"]):\n",
    "        if j == 0:\n",
    "            prev = prev_one_hot_encoding_mapping[0]\n",
    "            curr = curr_one_hot_encoding_mapping[pos]\n",
    "        else:\n",
    "            prev = prev_one_hot_encoding_mapping[data[\"pos_tags\"][j-1]]\n",
    "            curr = curr_one_hot_encoding_mapping[pos]\n",
    "        \n",
    "        train_data_encoded[i][\"pos_tags\"][j] = np.array(prev + curr)\n",
    "        "
   ]
  },
  {
   "cell_type": "code",
   "execution_count": 10,
   "metadata": {},
   "outputs": [
    {
     "data": {
      "text/plain": [
       "{'tokens': ['EU',\n",
       "  'rejects',\n",
       "  'German',\n",
       "  'call',\n",
       "  'to',\n",
       "  'boycott',\n",
       "  'British',\n",
       "  'lamb',\n",
       "  '.'],\n",
       " 'chunk_tags': [1, 1, 1, 0, 1, 1, 1, 0, 1],\n",
       " 'pos_tags': [array([1, 0, 0, 0, 0, 1, 0, 0, 0]),\n",
       "  array([0, 1, 0, 0, 0, 0, 0, 0, 1]),\n",
       "  array([0, 0, 0, 0, 1, 0, 0, 1, 0]),\n",
       "  array([0, 0, 0, 1, 0, 1, 0, 0, 0]),\n",
       "  array([0, 1, 0, 0, 0, 0, 0, 0, 1]),\n",
       "  array([0, 0, 0, 0, 1, 0, 0, 0, 1]),\n",
       "  array([0, 0, 0, 0, 1, 0, 0, 1, 0]),\n",
       "  array([0, 0, 0, 1, 0, 1, 0, 0, 0]),\n",
       "  array([0, 1, 0, 0, 0, 0, 0, 0, 1])]}"
      ]
     },
     "execution_count": 10,
     "metadata": {},
     "output_type": "execute_result"
    }
   ],
   "source": [
    "train_data_encoded[0]\n"
   ]
  },
  {
   "cell_type": "code",
   "execution_count": 11,
   "metadata": {},
   "outputs": [],
   "source": [
    "for i in train_data_encoded:\n",
    "    chunk_tags = np.array(i[\"chunk_tags\"])\n",
    "    i[\"chunk_tags\"] = chunk_tags\n",
    "    pos_tags = np.array(i[\"pos_tags\"])\n",
    "    pos_tags.reshape(1, pos_tags.shape[0], pos_tags.shape[1])\n",
    "    i[\"pos_tags\"] = pos_tags\n"
   ]
  },
  {
   "cell_type": "code",
   "execution_count": 12,
   "metadata": {},
   "outputs": [
    {
     "data": {
      "text/plain": [
       "{'tokens': ['EU',\n",
       "  'rejects',\n",
       "  'German',\n",
       "  'call',\n",
       "  'to',\n",
       "  'boycott',\n",
       "  'British',\n",
       "  'lamb',\n",
       "  '.'],\n",
       " 'chunk_tags': array([1, 1, 1, 0, 1, 1, 1, 0, 1]),\n",
       " 'pos_tags': array([[1, 0, 0, 0, 0, 1, 0, 0, 0],\n",
       "        [0, 1, 0, 0, 0, 0, 0, 0, 1],\n",
       "        [0, 0, 0, 0, 1, 0, 0, 1, 0],\n",
       "        [0, 0, 0, 1, 0, 1, 0, 0, 0],\n",
       "        [0, 1, 0, 0, 0, 0, 0, 0, 1],\n",
       "        [0, 0, 0, 0, 1, 0, 0, 0, 1],\n",
       "        [0, 0, 0, 0, 1, 0, 0, 1, 0],\n",
       "        [0, 0, 0, 1, 0, 1, 0, 0, 0],\n",
       "        [0, 1, 0, 0, 0, 0, 0, 0, 1]])}"
      ]
     },
     "execution_count": 12,
     "metadata": {},
     "output_type": "execute_result"
    }
   ],
   "source": [
    "train_data_encoded[0]"
   ]
  },
  {
   "cell_type": "code",
   "execution_count": 13,
   "metadata": {},
   "outputs": [
    {
     "name": "stdout",
     "output_type": "stream",
     "text": [
      "(9, 9)\n",
      "(9,)\n",
      "(2, 9)\n",
      "(2,)\n"
     ]
    }
   ],
   "source": [
    "for i in range(2):\n",
    "    print(train_data_encoded[i][\"pos_tags\"].shape)\n",
    "    print(train_data_encoded[i][\"chunk_tags\"].shape)"
   ]
  },
  {
   "cell_type": "markdown",
   "metadata": {},
   "source": [
    "## Dataloader implementing Above things is in utils.py"
   ]
  },
  {
   "cell_type": "code",
   "execution_count": 77,
   "metadata": {},
   "outputs": [],
   "source": [
    "import torch\n",
    "from utils import read_from_jsonl\n",
    "from utils import DataLoader\n",
    "import matplotlib.pyplot as plt\n",
    "train_data = read_from_jsonl(\"train.jsonl\")\n",
    "test_data = read_from_jsonl(\"test.jsonl\")\n",
    "\n",
    "train_data_loader = DataLoader(train_data[:3000], batch_size=len(train_data[:3000]))\n",
    "test_data_loader = DataLoader(test_data, batch_size=1)"
   ]
  },
  {
   "cell_type": "code",
   "execution_count": 78,
   "metadata": {},
   "outputs": [
    {
     "data": {
      "text/plain": [
       "(14041, 3000)"
      ]
     },
     "execution_count": 78,
     "metadata": {},
     "output_type": "execute_result"
    }
   ],
   "source": [
    "len(train_data), len(train_data_loader) "
   ]
  },
  {
   "cell_type": "code",
   "execution_count": 79,
   "metadata": {},
   "outputs": [
    {
     "data": {
      "application/vnd.jupyter.widget-view+json": {
       "model_id": "b71e2c633ff6481db5f0d5cb8392b903",
       "version_major": 2,
       "version_minor": 0
      },
      "text/plain": [
       "  0%|          | 0/10 [00:00<?, ?it/s]"
      ]
     },
     "metadata": {},
     "output_type": "display_data"
    },
    {
     "name": "stdout",
     "output_type": "stream",
     "text": [
      "Epoch 0 : Avg Loss : 0.4419589042663574\n",
      "Epoch 2 : Avg Loss : 0.43988585472106934\n",
      "Epoch 4 : Avg Loss : 0.43972185254096985\n",
      "Epoch 6 : Avg Loss : 0.4396650493144989\n",
      "Epoch 8 : Avg Loss : 0.43963533639907837\n",
      "Epoch 10 : Avg Loss : 0.43962517380714417\n"
     ]
    }
   ],
   "source": [
    "from utils import RecurrentPerceptron\n",
    "\n",
    "a = RecurrentPerceptron(clip_grads=True, clip=1., verbose=False)\n",
    "a.train_from_dataloader(train_data_loader, lr=0.05, nepochs=10, debug=False, print_interval=2)\n",
    "#a.load_model('model.pkl')"
   ]
  },
  {
   "cell_type": "code",
   "execution_count": 80,
   "metadata": {},
   "outputs": [
    {
     "data": {
      "text/plain": [
       "(tensor(16), 16)"
      ]
     },
     "execution_count": 80,
     "metadata": {},
     "output_type": "execute_result"
    }
   ],
   "source": [
    "a.check_conditions()"
   ]
  },
  {
   "cell_type": "code",
   "execution_count": 81,
   "metadata": {},
   "outputs": [
    {
     "data": {
      "application/vnd.jupyter.widget-view+json": {
       "model_id": "052a1bc78caa45d38435d69a1d23cca9",
       "version_major": 2,
       "version_minor": 0
      },
      "text/plain": [
       "  0%|          | 0/3453 [00:00<?, ?it/s]"
      ]
     },
     "metadata": {},
     "output_type": "display_data"
    },
    {
     "data": {
      "text/plain": [
       "tensor(0.8434)"
      ]
     },
     "execution_count": 81,
     "metadata": {},
     "output_type": "execute_result"
    }
   ],
   "source": [
    "a.test_from_dataloader(test_data_loader, verbose=True)"
   ]
  },
  {
   "cell_type": "code",
   "execution_count": 82,
   "metadata": {},
   "outputs": [
    {
     "name": "stdout",
     "output_type": "stream",
     "text": [
      "File already exists, overwriting\n"
     ]
    }
   ],
   "source": [
    "\n",
    "# running this will overwrite the model file\n",
    "a.save_model(path='/Users/keshav/Study/CS772/natural-language-processing-main 2/assignment-2', name='model_3000_10.pkl')"
   ]
  },
  {
   "cell_type": "code",
   "execution_count": 83,
   "metadata": {},
   "outputs": [
    {
     "data": {
      "text/plain": [
       "(tensor([ 6.6279, -1.8724, -3.7012, -2.8595,  1.8169,  0.4002,  4.3571,  0.7107,\n",
       "          5.5893]),\n",
       " tensor(-0.9459))"
      ]
     },
     "execution_count": 83,
     "metadata": {},
     "output_type": "execute_result"
    }
   ],
   "source": [
    "# final weights\n",
    "a.W, a.V"
   ]
  },
  {
   "cell_type": "code",
   "execution_count": 73,
   "metadata": {},
   "outputs": [],
   "source": [
    "def k_fold_cross_validation(model, data, k=5, nepochs=10, batch_size=1):\n",
    "\n",
    "\n",
    "    np.random.shuffle(data)\n",
    "\n",
    "    fold_size = len(data) // k\n",
    "    folds = [data[i:i+fold_size] for i in range(0, len(data), fold_size)]\n",
    "\n",
    "    accuracies = []\n",
    "\n",
    "    for i in range(k):\n",
    "        validation_data = folds[i]\n",
    "        train_data = [d for j, fold in enumerate(folds) if j != i for d in fold]\n",
    "        print(len(train_data))\n",
    "        #print(len())\n",
    "\n",
    "        train_loader = DataLoader(train_data, batch_size=len(train_data))\n",
    "        validation_loader = DataLoader(validation_data, batch_size=batch_size)\n",
    "\n",
    "        model[i].train_from_dataloader(train_loader, lr=0.05, nepochs=10, debug=False, print_interval=2)\n",
    "        print(model[i].check_conditions())\n",
    "\n",
    "        accuracy = model[i].test_from_dataloader(validation_loader, verbose=False)\n",
    "        accuracies.append(accuracy)\n",
    "\n",
    "        print(f\"Fold {i+1}/{k} - Validation Accuracy: {accuracy:.4f}\")\n",
    "\n",
    "    avg_accuracy = np.mean(accuracies)\n",
    "\n",
    "    print(f\"\\nAverage Validation Accuracy: {avg_accuracy:.4f}\")\n",
    "\n",
    "    return avg_accuracy\n"
   ]
  },
  {
   "cell_type": "code",
   "execution_count": 74,
   "metadata": {},
   "outputs": [
    {
     "name": "stdout",
     "output_type": "stream",
     "text": [
      "2400\n"
     ]
    },
    {
     "data": {
      "application/vnd.jupyter.widget-view+json": {
       "model_id": "dd6ba84d20c5426a8f855b6cf3e626a9",
       "version_major": 2,
       "version_minor": 0
      },
      "text/plain": [
       "  0%|          | 0/10 [00:00<?, ?it/s]"
      ]
     },
     "metadata": {},
     "output_type": "display_data"
    },
    {
     "name": "stdout",
     "output_type": "stream",
     "text": [
      "Epoch 0 : Avg Loss : 0.4927491247653961\n",
      "Epoch 2 : Avg Loss : 0.48600393533706665\n",
      "Epoch 4 : Avg Loss : 0.48578062653541565\n",
      "Epoch 6 : Avg Loss : 0.48571181297302246\n",
      "Epoch 8 : Avg Loss : 0.48567891120910645\n",
      "Epoch 10 : Avg Loss : 0.4856698215007782\n",
      "Fold 1/5 - Validation Accuracy: 0.8958\n",
      "2400\n"
     ]
    },
    {
     "data": {
      "application/vnd.jupyter.widget-view+json": {
       "model_id": "573aaec642ae4729a917e059c575b026",
       "version_major": 2,
       "version_minor": 0
      },
      "text/plain": [
       "  0%|          | 0/10 [00:00<?, ?it/s]"
      ]
     },
     "metadata": {},
     "output_type": "display_data"
    },
    {
     "name": "stdout",
     "output_type": "stream",
     "text": [
      "Epoch 0 : Avg Loss : 0.48415330052375793\n",
      "Epoch 2 : Avg Loss : 0.4814966320991516\n",
      "Epoch 4 : Avg Loss : 0.4812864065170288\n",
      "Epoch 6 : Avg Loss : 0.48121923208236694\n",
      "Epoch 8 : Avg Loss : 0.4811854958534241\n",
      "Epoch 10 : Avg Loss : 0.4811752438545227\n",
      "Fold 2/5 - Validation Accuracy: 0.8880\n",
      "2400\n"
     ]
    },
    {
     "data": {
      "application/vnd.jupyter.widget-view+json": {
       "model_id": "5b90881106204bfb95e4372921dda8c8",
       "version_major": 2,
       "version_minor": 0
      },
      "text/plain": [
       "  0%|          | 0/10 [00:00<?, ?it/s]"
      ]
     },
     "metadata": {},
     "output_type": "display_data"
    },
    {
     "name": "stdout",
     "output_type": "stream",
     "text": [
      "Epoch 0 : Avg Loss : 0.48713016510009766\n",
      "Epoch 2 : Avg Loss : 0.4767414331436157\n",
      "Epoch 4 : Avg Loss : 0.4765324890613556\n",
      "Epoch 6 : Avg Loss : 0.47646793723106384\n",
      "Epoch 8 : Avg Loss : 0.4764396548271179\n",
      "Epoch 10 : Avg Loss : 0.4764311611652374\n",
      "Fold 3/5 - Validation Accuracy: 0.8841\n",
      "2400\n"
     ]
    },
    {
     "data": {
      "application/vnd.jupyter.widget-view+json": {
       "model_id": "f5ac62c7805146c3855ea3a06d563a42",
       "version_major": 2,
       "version_minor": 0
      },
      "text/plain": [
       "  0%|          | 0/10 [00:00<?, ?it/s]"
      ]
     },
     "metadata": {},
     "output_type": "display_data"
    },
    {
     "name": "stdout",
     "output_type": "stream",
     "text": [
      "Epoch 0 : Avg Loss : 0.4918452501296997\n",
      "Epoch 2 : Avg Loss : 0.48288294672966003\n",
      "Epoch 4 : Avg Loss : 0.4826434254646301\n",
      "Epoch 6 : Avg Loss : 0.4825671911239624\n",
      "Epoch 8 : Avg Loss : 0.4825308620929718\n",
      "Epoch 10 : Avg Loss : 0.4825195372104645\n",
      "Fold 4/5 - Validation Accuracy: 0.9026\n",
      "2400\n"
     ]
    },
    {
     "data": {
      "application/vnd.jupyter.widget-view+json": {
       "model_id": "cb0296bb3be5459ba29f5de5109b1b24",
       "version_major": 2,
       "version_minor": 0
      },
      "text/plain": [
       "  0%|          | 0/10 [00:00<?, ?it/s]"
      ]
     },
     "metadata": {},
     "output_type": "display_data"
    },
    {
     "name": "stdout",
     "output_type": "stream",
     "text": [
      "Epoch 0 : Avg Loss : 0.4969436526298523\n",
      "Epoch 2 : Avg Loss : 0.4907444715499878\n",
      "Epoch 4 : Avg Loss : 0.49053719639778137\n",
      "Epoch 6 : Avg Loss : 0.49047547578811646\n",
      "Epoch 8 : Avg Loss : 0.49044886231422424\n",
      "Epoch 10 : Avg Loss : 0.49044138193130493\n",
      "Fold 5/5 - Validation Accuracy: 0.8999\n",
      "\n",
      "Average Validation Accuracy: 0.8941\n"
     ]
    }
   ],
   "source": [
    "import numpy as np\n",
    "train_data = read_from_jsonl(\"train.jsonl\")\n",
    "train_data = train_data[:3000]\n",
    "\n",
    "# Initialize the model\n",
    "a1 = RecurrentPerceptron(clip_grads=True, clip=1., verbose=False)\n",
    "a2 = RecurrentPerceptron(clip_grads=True, clip=1., verbose=False)\n",
    "a3 = RecurrentPerceptron(clip_grads=True, clip=1., verbose=False)\n",
    "a4 = RecurrentPerceptron(clip_grads=True, clip=1., verbose=False)\n",
    "a5 = RecurrentPerceptron(clip_grads=True, clip=1., verbose=False)\n",
    "model = [a1,a2,a3,a4,a5]\n",
    "#a.train_from_dataloader(train_data_loader, lr=0.05, nepochs=10, debug=False, print_interval=2)\n",
    "\n",
    "# Perform 5-fold cross-validation\n",
    "avg_accuracy = k_fold_cross_validation(model, train_data, k=5, nepochs=10, batch_size=1)\n",
    "\n",
    "print(f\"\\nOverall 5-Fold Cross-Validation Accuracy: {avg_accuracy:.4f}\")"
   ]
  },
  {
   "cell_type": "code",
   "execution_count": 75,
   "metadata": {},
   "outputs": [
    {
     "name": "stdout",
     "output_type": "stream",
     "text": [
      "\n",
      "Overall 5-Fold Cross-Validation Accuracy: 0.8941\n"
     ]
    }
   ],
   "source": [
    "print(f\"\\nOverall 5-Fold Cross-Validation Accuracy: {avg_accuracy:.4f}\")"
   ]
  },
  {
   "cell_type": "code",
   "execution_count": 76,
   "metadata": {},
   "outputs": [
    {
     "name": "stdout",
     "output_type": "stream",
     "text": [
      "4800\n"
     ]
    },
    {
     "data": {
      "application/vnd.jupyter.widget-view+json": {
       "model_id": "f1a39ca0dd66421a92812d1aad4157bd",
       "version_major": 2,
       "version_minor": 0
      },
      "text/plain": [
       "  0%|          | 0/10 [00:00<?, ?it/s]"
      ]
     },
     "metadata": {},
     "output_type": "display_data"
    },
    {
     "name": "stdout",
     "output_type": "stream",
     "text": [
      "Epoch 0 : Avg Loss : 0.6359727382659912\n",
      "Epoch 2 : Avg Loss : 0.634477972984314\n",
      "Epoch 4 : Avg Loss : 0.6344597339630127\n",
      "Epoch 6 : Avg Loss : 0.6344596147537231\n",
      "Epoch 8 : Avg Loss : 0.6344596147537231\n",
      "Epoch 10 : Avg Loss : 0.634459912776947\n",
      "Fold 1/5 - Validation Accuracy: 0.8551\n",
      "4800\n"
     ]
    },
    {
     "data": {
      "application/vnd.jupyter.widget-view+json": {
       "model_id": "002eb573469946138433928ad277cd30",
       "version_major": 2,
       "version_minor": 0
      },
      "text/plain": [
       "  0%|          | 0/10 [00:00<?, ?it/s]"
      ]
     },
     "metadata": {},
     "output_type": "display_data"
    },
    {
     "name": "stdout",
     "output_type": "stream",
     "text": [
      "Epoch 0 : Avg Loss : 0.6487916111946106\n",
      "Epoch 2 : Avg Loss : 0.6480486392974854\n",
      "Epoch 4 : Avg Loss : 0.6480358839035034\n",
      "Epoch 6 : Avg Loss : 0.6480362415313721\n",
      "Epoch 8 : Avg Loss : 0.6480361223220825\n",
      "Epoch 10 : Avg Loss : 0.6480361819267273\n",
      "Fold 2/5 - Validation Accuracy: 0.8637\n",
      "4800\n"
     ]
    },
    {
     "data": {
      "application/vnd.jupyter.widget-view+json": {
       "model_id": "177d354b1a324ae7b899e18530590cc6",
       "version_major": 2,
       "version_minor": 0
      },
      "text/plain": [
       "  0%|          | 0/10 [00:00<?, ?it/s]"
      ]
     },
     "metadata": {},
     "output_type": "display_data"
    },
    {
     "name": "stdout",
     "output_type": "stream",
     "text": [
      "Epoch 0 : Avg Loss : 0.6328361630439758\n",
      "Epoch 2 : Avg Loss : 0.6344026327133179\n",
      "Epoch 4 : Avg Loss : 0.6343903541564941\n",
      "Epoch 6 : Avg Loss : 0.6343905329704285\n",
      "Epoch 8 : Avg Loss : 0.634390652179718\n",
      "Epoch 10 : Avg Loss : 0.6343905925750732\n",
      "Fold 3/5 - Validation Accuracy: 0.8615\n",
      "4800\n"
     ]
    },
    {
     "data": {
      "application/vnd.jupyter.widget-view+json": {
       "model_id": "f73190571cf94f3f9c5dd077da63ae3f",
       "version_major": 2,
       "version_minor": 0
      },
      "text/plain": [
       "  0%|          | 0/10 [00:00<?, ?it/s]"
      ]
     },
     "metadata": {},
     "output_type": "display_data"
    },
    {
     "name": "stdout",
     "output_type": "stream",
     "text": [
      "Epoch 0 : Avg Loss : 0.6275531053543091\n",
      "Epoch 2 : Avg Loss : 0.629525363445282\n",
      "Epoch 4 : Avg Loss : 0.6295142769813538\n",
      "Epoch 6 : Avg Loss : 0.6295143365859985\n",
      "Epoch 8 : Avg Loss : 0.6295143365859985\n",
      "Epoch 10 : Avg Loss : 0.629514217376709\n",
      "Fold 4/5 - Validation Accuracy: 0.8545\n",
      "4800\n"
     ]
    },
    {
     "data": {
      "application/vnd.jupyter.widget-view+json": {
       "model_id": "57419e2d849a44cbbafd0fcd23900c0c",
       "version_major": 2,
       "version_minor": 0
      },
      "text/plain": [
       "  0%|          | 0/10 [00:00<?, ?it/s]"
      ]
     },
     "metadata": {},
     "output_type": "display_data"
    },
    {
     "name": "stdout",
     "output_type": "stream",
     "text": [
      "Epoch 0 : Avg Loss : 0.6363639831542969\n",
      "Epoch 2 : Avg Loss : 0.6381193995475769\n",
      "Epoch 4 : Avg Loss : 0.6381091475486755\n",
      "Epoch 6 : Avg Loss : 0.6381092071533203\n",
      "Epoch 8 : Avg Loss : 0.6381092071533203\n",
      "Epoch 10 : Avg Loss : 0.6381093263626099\n",
      "Fold 5/5 - Validation Accuracy: 0.8482\n",
      "\n",
      "Average Validation Accuracy: 0.8566\n",
      "\n",
      "Overall 5-Fold Cross-Validation Accuracy: 0.8566\n"
     ]
    }
   ],
   "source": [
    "import numpy as np\n",
    "train_data = read_from_jsonl(\"train.jsonl\")\n",
    "train_data = train_data[:3000]\n",
    "\n",
    "# Initialize the model\n",
    "a1 = RecurrentPerceptron(clip_grads=True, clip=1., verbose=False)\n",
    "a2 = RecurrentPerceptron(clip_grads=True, clip=1., verbose=False)\n",
    "a3 = RecurrentPerceptron(clip_grads=True, clip=1., verbose=False)\n",
    "a4 = RecurrentPerceptron(clip_grads=True, clip=1., verbose=False)\n",
    "a5 = RecurrentPerceptron(clip_grads=True, clip=1., verbose=False)\n",
    "model = [a1,a2,a3,a4,a5]\n",
    "#a.train_from_dataloader(train_data_loader, lr=0.05, nepochs=10, debug=False, print_interval=2)\n",
    "\n",
    "# Perform 5-fold cross-validation\n",
    "avg_accuracy = k_fold_cross_validation(model, train_data, k=5, nepochs=10, batch_size=1)\n",
    "\n",
    "print(f\"\\nOverall 5-Fold Cross-Validation Accuracy: {avg_accuracy:.4f}\")"
   ]
  }
 ],
 "metadata": {
  "kernelspec": {
   "display_name": ".venv",
   "language": "python",
   "name": "python3"
  },
  "language_info": {
   "codemirror_mode": {
    "name": "ipython",
    "version": 3
   },
   "file_extension": ".py",
   "mimetype": "text/x-python",
   "name": "python",
   "nbconvert_exporter": "python",
   "pygments_lexer": "ipython3",
   "version": "3.8.17"
  }
 },
 "nbformat": 4,
 "nbformat_minor": 2
}
