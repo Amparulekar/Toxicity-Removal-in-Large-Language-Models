{
 "cells": [
  {
   "cell_type": "code",
   "execution_count": 1,
   "metadata": {},
   "outputs": [],
   "source": [
    "import numpy as np\n",
    "import torch\n",
    "import torch.nn as nn\n",
    "import torch.nn.functional as F\n",
    "import matplotlib.pyplot as plt\n",
    "\n",
    "from utils import RecurrentPerceptron"
   ]
  },
  {
   "cell_type": "code",
   "execution_count": 2,
   "metadata": {},
   "outputs": [
    {
     "name": "stdout",
     "output_type": "stream",
     "text": [
      "loss=tensor(1.2111), output : tensor([0.9529])\n",
      "loss=tensor(0.9035), output : tensor([0.8735])\n",
      "loss=tensor(0.7658), output : tensor([0.7473])\n",
      "loss=tensor(0.7021), output : tensor([0.6451])\n",
      "loss=tensor(0.6552), output : tensor([0.5609])\n",
      "loss=tensor(0.6149), output : tensor([0.4911])\n",
      "loss=tensor(0.5780), output : tensor([0.4324])\n",
      "loss=tensor(0.5429), output : tensor([0.3822])\n",
      "loss=tensor(0.5088), output : tensor([0.3391])\n",
      "loss=tensor(0.4755), output : tensor([0.3023])\n",
      "loss=tensor(0.4429), output : tensor([0.2715])\n",
      "loss=tensor(0.4114), output : tensor([0.2468])\n",
      "loss=tensor(0.3810), output : tensor([0.2282])\n",
      "loss=tensor(0.3521), output : tensor([0.2155])\n",
      "loss=tensor(0.3251), output : tensor([0.2080])\n",
      "loss=tensor(0.3006), output : tensor([0.2050])\n",
      "loss=tensor(0.2790), output : tensor([0.2053])\n",
      "loss=tensor(0.2606), output : tensor([0.2080])\n",
      "loss=tensor(0.2451), output : tensor([0.2124])\n",
      "loss=tensor(0.2321), output : tensor([0.2177])\n",
      "loss=tensor(0.2211), output : tensor([0.2236])\n",
      "loss=tensor(0.2117), output : tensor([0.2301])\n",
      "loss=tensor(0.2034), output : tensor([0.2368])\n",
      "loss=tensor(0.1961), output : tensor([0.2439])\n",
      "loss=tensor(0.1894), output : tensor([0.2512])\n",
      "loss=tensor(0.1833), output : tensor([0.2587])\n",
      "loss=tensor(0.1777), output : tensor([0.2665])\n",
      "loss=tensor(0.1724), output : tensor([0.2745])\n",
      "loss=tensor(0.1674), output : tensor([0.2826])\n",
      "loss=tensor(0.1626), output : tensor([0.2909])\n",
      "loss=tensor(0.1581), output : tensor([0.2994])\n",
      "loss=tensor(0.1538), output : tensor([0.3080])\n",
      "loss=tensor(0.1496), output : tensor([0.3168])\n",
      "loss=tensor(0.1457), output : tensor([0.3257])\n",
      "loss=tensor(0.1418), output : tensor([0.3346])\n",
      "loss=tensor(0.1381), output : tensor([0.3436])\n",
      "loss=tensor(0.1346), output : tensor([0.3527])\n",
      "loss=tensor(0.1312), output : tensor([0.3618])\n",
      "loss=tensor(0.1278), output : tensor([0.3710])\n",
      "loss=tensor(0.1246), output : tensor([0.3801])\n",
      "loss=tensor(0.1216), output : tensor([0.3892])\n",
      "loss=tensor(0.1186), output : tensor([0.3983])\n",
      "loss=tensor(0.1157), output : tensor([0.4074])\n",
      "loss=tensor(0.1129), output : tensor([0.4164])\n",
      "loss=tensor(0.1102), output : tensor([0.4253])\n",
      "loss=tensor(0.1076), output : tensor([0.4342])\n",
      "loss=tensor(0.1051), output : tensor([0.4430])\n",
      "loss=tensor(0.1027), output : tensor([0.4517])\n",
      "loss=tensor(0.1004), output : tensor([0.4603])\n",
      "loss=tensor(0.0981), output : tensor([0.4687])\n",
      "loss=tensor(0.0959), output : tensor([0.4771])\n",
      "loss=tensor(0.0938), output : tensor([0.4853])\n",
      "loss=tensor(0.0918), output : tensor([0.4934])\n",
      "loss=tensor(0.0898), output : tensor([0.5014])\n",
      "loss=tensor(0.0879), output : tensor([0.5092])\n",
      "loss=tensor(0.0861), output : tensor([0.5169])\n",
      "loss=tensor(0.0843), output : tensor([0.5244])\n",
      "loss=tensor(0.0826), output : tensor([0.5318])\n",
      "loss=tensor(0.0810), output : tensor([0.5391])\n",
      "loss=tensor(0.0794), output : tensor([0.5462])\n",
      "loss=tensor(0.0778), output : tensor([0.5532])\n",
      "loss=tensor(0.0763), output : tensor([0.5601])\n",
      "loss=tensor(0.0749), output : tensor([0.5668])\n",
      "loss=tensor(0.0735), output : tensor([0.5733])\n",
      "loss=tensor(0.0721), output : tensor([0.5797])\n",
      "loss=tensor(0.0708), output : tensor([0.5860])\n",
      "loss=tensor(0.0695), output : tensor([0.5922])\n",
      "loss=tensor(0.0683), output : tensor([0.5982])\n",
      "loss=tensor(0.0671), output : tensor([0.6041])\n",
      "loss=tensor(0.0659), output : tensor([0.6098])\n",
      "loss=tensor(0.0648), output : tensor([0.6154])\n",
      "loss=tensor(0.0637), output : tensor([0.6209])\n",
      "loss=tensor(0.0627), output : tensor([0.6263])\n",
      "loss=tensor(0.0616), output : tensor([0.6316])\n",
      "loss=tensor(0.0606), output : tensor([0.6367])\n",
      "loss=tensor(0.0597), output : tensor([0.6417])\n",
      "loss=tensor(0.0587), output : tensor([0.6467])\n",
      "loss=tensor(0.0578), output : tensor([0.6515])\n",
      "loss=tensor(0.0570), output : tensor([0.6562])\n",
      "loss=tensor(0.0561), output : tensor([0.6607])\n",
      "loss=tensor(0.0553), output : tensor([0.6652])\n",
      "loss=tensor(0.0544), output : tensor([0.6696])\n",
      "loss=tensor(0.0537), output : tensor([0.6739])\n",
      "loss=tensor(0.0529), output : tensor([0.6781])\n",
      "loss=tensor(0.0521), output : tensor([0.6822])\n",
      "loss=tensor(0.0514), output : tensor([0.6862])\n",
      "loss=tensor(0.0507), output : tensor([0.6902])\n",
      "loss=tensor(0.0500), output : tensor([0.6940])\n",
      "loss=tensor(0.0493), output : tensor([0.6978])\n",
      "loss=tensor(0.0487), output : tensor([0.7015])\n",
      "loss=tensor(0.0480), output : tensor([0.7051])\n",
      "loss=tensor(0.0474), output : tensor([0.7086])\n",
      "loss=tensor(0.0468), output : tensor([0.7121])\n",
      "loss=tensor(0.0462), output : tensor([0.7154])\n",
      "loss=tensor(0.0456), output : tensor([0.7188])\n",
      "loss=tensor(0.0451), output : tensor([0.7220])\n",
      "loss=tensor(0.0445), output : tensor([0.7252])\n",
      "loss=tensor(0.0440), output : tensor([0.7283])\n",
      "loss=tensor(0.0435), output : tensor([0.7313])\n",
      "loss=tensor(0.0430), output : tensor([0.7343])\n"
     ]
    }
   ],
   "source": [
    "a = RecurrentPerceptron()\n",
    "\n",
    "x = np.random.randn(1,10,9)\n",
    "y = torch.ones(1,10) # all labels one, to visualize training\n",
    "a.train(x, y, lr=0.01, nepochs=100)"
   ]
  },
  {
   "cell_type": "code",
   "execution_count": 3,
   "metadata": {},
   "outputs": [
    {
     "data": {
      "text/plain": [
       "[<matplotlib.lines.Line2D at 0x2c27b8e4ee0>]"
      ]
     },
     "execution_count": 3,
     "metadata": {},
     "output_type": "execute_result"
    },
    {
     "data": {
      "image/png": "[encoded data removed]",
      "text/plain": [
       "<Figure size 432x288 with 1 Axes>"
      ]
     },
     "metadata": {
      "needs_background": "light"
     },
     "output_type": "display_data"
    }
   ],
   "source": [
    "plt.plot([x.item() for x in a.losslog])"
   ]
  },
  {
   "cell_type": "code",
   "execution_count": 12,
   "metadata": {},
   "outputs": [
    {
     "data": {
      "text/plain": [
       "(tensor([ 2.6054,  2.1784, -0.3216, -0.9879,  2.7004,  1.1691, -0.1170,  0.4282,\n",
       "         -0.4160]),\n",
       " tensor(2.3747))"
      ]
     },
     "execution_count": 12,
     "metadata": {},
     "output_type": "execute_result"
    }
   ],
   "source": [
    "# weights\n",
    "a.W, a.V"
   ]
  },
  {
   "cell_type": "code",
   "execution_count": null,
   "metadata": {},
   "outputs": [],
   "source": []
  }
 ],
 "metadata": {
  "interpreter": {
   "hash": "4b6e2780ba3bd1772be0df4025a403065e66e23b1ff7d9620ea03694010dba6e"
  },
  "kernelspec": {
   "display_name": "Python 3.8.8 ('base')",
   "language": "python",
   "name": "python3"
  },
  "language_info": {
   "codemirror_mode": {
    "name": "ipython",
    "version": 3
   },
   "file_extension": ".py",
   "mimetype": "text/x-python",
   "name": "python",
   "nbconvert_exporter": "python",
   "pygments_lexer": "ipython3",
   "version": "3.8.8"
  },
  "orig_nbformat": 4
 },
 "nbformat": 4,
 "nbformat_minor": 2
}
