{
 "cells": [
  {
   "cell_type": "code",
   "execution_count": 1,
   "metadata": {},
   "outputs": [
    {
     "name": "stderr",
     "output_type": "stream",
     "text": [
      "[nltk_data] Downloading package punkt to\n",
      "[nltk_data]     /Users/rohankalbag/nltk_data...\n",
      "[nltk_data]   Package punkt is already up-to-date!\n",
      "[nltk_data] Downloading package averaged_perceptron_tagger to\n",
      "[nltk_data]     /Users/rohankalbag/nltk_data...\n",
      "[nltk_data]   Package averaged_perceptron_tagger is already up-to-\n",
      "[nltk_data]       date!\n"
     ]
    }
   ],
   "source": [
    "import nltk\n",
    "nltk.download('punkt')\n",
    "nltk.download('averaged_perceptron_tagger')\n",
    "from nltk.tag import pos_tag\n",
    "from nltk.tokenize import word_tokenize\n",
    "\n",
    "pos_mapping = {\n",
    "    \"NN\": 1,\n",
    "    \"DT\": 2,\n",
    "    \"JJ\": 3,\n",
    "    \"OT\": 4\n",
    "}\n",
    "\n",
    "def convert_pos_tag(tag):\n",
    "    return pos_mapping.get(tag, pos_mapping[\"OT\"])\n",
    "\n",
    "def generate_pos_tags(sentence):\n",
    "    words = word_tokenize(sentence)\n",
    "    tagged_words = pos_tag(words)\n",
    "    formatted_tags = [(word, convert_pos_tag(tag)) for word, tag in tagged_words]\n",
    "    return formatted_tags, words"
   ]
  },
  {
   "cell_type": "code",
   "execution_count": 2,
   "metadata": {},
   "outputs": [
    {
     "name": "stdout",
     "output_type": "stream",
     "text": [
      "POS tags: ([('Boys', 4), ('play', 1), ('joyfully', 4), ('with', 4), ('brown', 3), ('balls', 4), ('in', 4), ('the', 2), ('green', 3), ('big', 3), ('field', 1)], ['Boys', 'play', 'joyfully', 'with', 'brown', 'balls', 'in', 'the', 'green', 'big', 'field'])\n"
     ]
    }
   ],
   "source": [
    "# Input sentence\n",
    "input_sentence = \"Boys play joyfully with brown balls in the green big field\"\n",
    "\n",
    "# Generate and print POS tags\n",
    "pos_tags = generate_pos_tags(input_sentence)\n",
    "print(\"POS tags:\", pos_tags)"
   ]
  },
  {
   "cell_type": "code",
   "execution_count": 3,
   "metadata": {},
   "outputs": [
    {
     "name": "stdout",
     "output_type": "stream",
     "text": [
      "('play', 1) play "
     ]
    }
   ],
   "source": [
    "for i in pos_tags:\n",
    "    print(i[1], end=\" \")"
   ]
  },
  {
   "cell_type": "code",
   "execution_count": 4,
   "metadata": {},
   "outputs": [
    {
     "name": "stdout",
     "output_type": "stream",
     "text": [
      "[tensor(21.9425), tensor(12.3735), tensor(10.4288), tensor(11.9462), tensor(15.9650), tensor(-14.3887), tensor(-10.7598), tensor(-14.0571), tensor(-10.5215)]\n",
      "tensor(-0.6757)\n",
      "[{'tokens': ['The', 'red', 'round', 'ball', 'rolls', 'on', 'the', 'floor'], 'pos_tags': [2, 3, 1, 1, 4, 4, 2, 1]}]\n",
      "[{'tokens': ['The', 'red', 'round', 'ball', 'rolls', 'on', 'the', 'floor'], 'pos_tags': array([[1, 0, 0, 0, 0, 0, 1, 0, 0],\n",
      "       [0, 0, 1, 0, 0, 0, 0, 1, 0],\n",
      "       [0, 0, 0, 1, 0, 1, 0, 0, 0],\n",
      "       [0, 1, 0, 0, 0, 1, 0, 0, 0],\n",
      "       [0, 1, 0, 0, 0, 0, 0, 0, 1],\n",
      "       [0, 0, 0, 0, 1, 0, 0, 0, 1],\n",
      "       [0, 0, 0, 0, 1, 0, 1, 0, 0],\n",
      "       [0, 0, 1, 0, 0, 1, 0, 0, 0]])}]\n"
     ]
    }
   ],
   "source": [
    "from utils import DataLoader, RecurrentPerceptron\n",
    "\n",
    "sentence = \"The red round ball rolls on the floor\"\n",
    "model = RecurrentPerceptron()\n",
    "model.load_model('model.pkl')\n",
    "W = list(model.W)\n",
    "V = model.V\n",
    "print(W)\n",
    "print(V)\n",
    "pos_tags, tokens = generate_pos_tags(sentence)\n",
    "sentence = [word for word, tag in pos_tags]\n",
    "pos_tags = [tag for word, tag in pos_tags]\n",
    "data = [{\"tokens\": tokens, \"pos_tags\": pos_tags}]\n",
    "print(data)\n",
    "data_loader = DataLoader(data, test=True)\n",
    "x = next(data_loader)\n",
    "print(x)"
   ]
  },
  {
   "cell_type": "code",
   "execution_count": 5,
   "metadata": {},
   "outputs": [
    {
     "name": "stdout",
     "output_type": "stream",
     "text": [
      "[1, 0, 0, 0, 1, 1, 1, 0]\n"
     ]
    }
   ],
   "source": [
    "k = model.infer(x[0][\"pos_tags\"])\n",
    "print([int(p) for p in k])"
   ]
  }
 ],
 "metadata": {
  "kernelspec": {
   "display_name": ".venv",
   "language": "python",
   "name": "python3"
  },
  "language_info": {
   "codemirror_mode": {
    "name": "ipython",
    "version": 3
   },
   "file_extension": ".py",
   "mimetype": "text/x-python",
   "name": "python",
   "nbconvert_exporter": "python",
   "pygments_lexer": "ipython3",
   "version": "3.12.1"
  }
 },
 "nbformat": 4,
 "nbformat_minor": 2
}
